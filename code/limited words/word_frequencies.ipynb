{
  "nbformat": 4,
  "nbformat_minor": 0,
  "metadata": {
    "colab": {
      "provenance": []
    },
    "kernelspec": {
      "name": "python3",
      "display_name": "Python 3"
    },
    "language_info": {
      "name": "python"
    }
  },
  "cells": [
    {
      "cell_type": "markdown",
      "source": [
        "Module Imports"
      ],
      "metadata": {
        "id": "PNOZIax4R0DC"
      }
    },
    {
      "cell_type": "code",
      "execution_count": 10,
      "metadata": {
        "id": "QuuJYDWdKaXR"
      },
      "outputs": [],
      "source": [
        "import os\n",
        "import re\n",
        "import csv\n",
        "import numpy as np\n",
        "import pandas as pd\n",
        "import xml.etree.ElementTree as ET\n",
        "from sklearn.naive_bayes import MultinomialNB\n",
        "from sklearn.feature_extraction.text import TfidfVectorizer\n",
        "from sklearn.model_selection import train_test_split\n",
        "from sklearn.datasets import load_files\n",
        "from sklearn.metrics import accuracy_score,classification_report\n",
        "from sklearn.linear_model import LogisticRegression\n",
        "from string import digits\n"
      ]
    },
    {
      "cell_type": "markdown",
      "source": [
        "Data imports and parsing"
      ],
      "metadata": {
        "id": "OLl-C0W0R4BO"
      }
    },
    {
      "cell_type": "code",
      "source": [
        "data_dir = '/content/drive/MyDrive/10blogs' #a dir of 10 blogs in xml\n",
        "data_xml=[]\n",
        "data_txt={}"
      ],
      "metadata": {
        "id": "msCwPBM5cBTT"
      },
      "execution_count": 31,
      "outputs": []
    },
    {
      "cell_type": "code",
      "source": [
        "for filename in os.listdir(data_dir):\n",
        "    f = os.path.join(data_dir,filename)\n",
        "    if os.path.isfile(f):\n",
        "          data_xml.append(f)"
      ],
      "metadata": {
        "id": "iGRbfhqxcRTL"
      },
      "execution_count": 12,
      "outputs": []
    },
    {
      "cell_type": "code",
      "source": [
        "for i in data_xml:\n",
        "  tree = ET.parse(i)  #parsing\n",
        "  root = tree.getroot()   #parsing\n",
        "  textArr = []\n",
        "  counter = 0\n",
        "  for child in root:    \n",
        "    if child.tag=='post':\n",
        "      if len(child.text) >500:\n",
        "        if counter < 2:\n",
        "          textArr.append(str(child.text[:500]))\n",
        "          data_txt[i]=textArr \n",
        "          counter+=1\n",
        "  "
      ],
      "metadata": {
        "id": "zHit9FYB7Wl9"
      },
      "execution_count": 13,
      "outputs": []
    },
    {
      "cell_type": "code",
      "source": [
        "texts = list(data_txt.values())\n",
        "author = list(data_txt.keys())\n",
        "\n",
        "for i in range(len(texts)):\n",
        "  texts[i] = str(texts[i])"
      ],
      "metadata": {
        "id": "a6ntGe7v-wu-"
      },
      "execution_count": 14,
      "outputs": []
    },
    {
      "cell_type": "markdown",
      "source": [
        "Limiting number of articles and characters inside each article\n"
      ],
      "metadata": {
        "id": "zRrahcDVrBBv"
      }
    },
    {
      "cell_type": "code",
      "source": [
        "for i in range(len(texts)):\n",
        "  string1= texts[i][:len(texts[i])//2]\n",
        "  string2= texts[i][len(texts[i])//2:]\n",
        "  texts[i] = [string1[:1500], string2[:1500]]"
      ],
      "metadata": {
        "id": "-r5w5mO5rvb0"
      },
      "execution_count": 15,
      "outputs": []
    },
    {
      "cell_type": "code",
      "source": [
        "fixed_author = []\n",
        "for i in range(10):\n",
        "  fixed_author.append(author[i].strip('/content/drive/MyDrive/10blogs/'))\n",
        "  "
      ],
      "metadata": {
        "id": "1RUZncA5ryLA"
      },
      "execution_count": 16,
      "outputs": []
    },
    {
      "cell_type": "code",
      "source": [
        "for i in range(len(texts)):\n",
        "\n",
        "  print(len(texts[i]))"
      ],
      "metadata": {
        "colab": {
          "base_uri": "https://localhost:8080/"
        },
        "id": "1V1JKLncr90F",
        "outputId": "00db640d-4a54-4c58-b9cc-700941ac4154"
      },
      "execution_count": 17,
      "outputs": [
        {
          "output_type": "stream",
          "name": "stdout",
          "text": [
            "2\n",
            "2\n",
            "2\n",
            "2\n",
            "2\n",
            "2\n",
            "2\n",
            "2\n",
            "2\n",
            "2\n"
          ]
        }
      ]
    },
    {
      "cell_type": "markdown",
      "source": [
        "Creating a data frame"
      ],
      "metadata": {
        "id": "ri-kdl5nTpJA"
      }
    },
    {
      "cell_type": "code",
      "source": [
        "df = pd.DataFrame({'texts':texts,\n",
        "                   'author':fixed_author})\n",
        "df=df.explode('texts')"
      ],
      "metadata": {
        "id": "Hs0r1VdMGsbl"
      },
      "execution_count": 18,
      "outputs": []
    },
    {
      "cell_type": "code",
      "source": [
        "texts[2]"
      ],
      "metadata": {
        "id": "b6DOHdkozIP_",
        "colab": {
          "base_uri": "https://localhost:8080/"
        },
        "outputId": "07697787-fa95-456e-9966-24176cb6cf6a"
      },
      "execution_count": 19,
      "outputs": [
        {
          "output_type": "execute_result",
          "data": {
            "text/plain": [
              "['[\"\\\\n\\\\n     \\\\n      You should realise that everywhere in London is a complete mystery to me and because of the diversity of the place it\\'s an adventure every time I head in to town.  But even so, it\\'s quite strange stepping out of a tube station in the middle of London, walking about 200 metres up the road, and suddenly feeling like you could be in some small town or village in the middle of Somerset (or somewhere equally not-London).  But that\\'s what I managed to do yesterday as I walked through Hig\",',\n",
              " \" '\\\\n\\\\n     \\\\n      For someone new to London (or just visiting as I have in the past) the London Underground is a saviour (despite being hot, crowded and late). Get a travelcard and you can just from one place to another without any problem at all.    But the problem with navigating London via the tube is that it gives a totally skewed impression of the Geography of the place. People get the tube when walking would have taken half the time, if only they knew where they were going. For example, in the']\"]"
            ]
          },
          "metadata": {},
          "execution_count": 19
        }
      ]
    },
    {
      "cell_type": "code",
      "source": [
        "xfeature = df['texts']\n",
        "ylabel = df['author']"
      ],
      "metadata": {
        "id": "O2yIhP28kVl1"
      },
      "execution_count": 20,
      "outputs": []
    },
    {
      "cell_type": "code",
      "source": [
        "# list of documents\n",
        "docs = xfeature\n",
        "# create the transform\n",
        "vectorizer = TfidfVectorizer()\n",
        "# tokenize and build vocab\n",
        "X = vectorizer.fit_transform(docs)\n",
        "print('vocabulary: ', vectorizer.vocabulary_)\n",
        "# summarize encoded vector\n",
        "print('shape: ', X.shape)\n",
        "print('vectors: ', X.toarray())"
      ],
      "metadata": {
        "id": "s7l8y_NyNJ_F",
        "colab": {
          "base_uri": "https://localhost:8080/"
        },
        "outputId": "b015705d-a3cf-46d5-be82-a3df978584e5"
      },
      "execution_count": 21,
      "outputs": [
        {
          "output_type": "stream",
          "name": "stdout",
          "text": [
            "vocabulary:  {'hey': 284, 'today': 658, 'woke': 731, 'up': 681, 'got': 262, 'all': 21, 'dressed': 175, 'and': 31, 'went': 712, 'to': 657, 'ballet': 55, 'it': 324, 'from': 244, 'wuz': 739, 'sooo': 582, 'hungry': 297, 'after': 12, 'that': 629, 'ate': 50, 'like': 355, 'feast': 213, 'at': 49, 'the': 630, 'chinese': 107, 'place': 468, 'ollies': 436, 'have': 275, 'such': 606, 'good': 260, 'food': 231, 'makes': 372, 'in': 308, 'darien': 142, 'suck': 607, 'anywho': 38, 'so': 576, 'alot': 23, 'there': 634, 'came': 97, 'home': 289, 'intotown': 317, 'with': 728, 'kendall': 333, 'had': 270, 'big': 71, 'slice': 571, 'of': 432, 'pizza': 467, 'snapple': 575, 'then': 633, 'we': 704, 'whole': 719, 'box': 85, 'scooby': 543, 'doo': 171, 'snacks': 574, 'baskin': 58, 'robins': 523, 'shakes': 555, 'this': 642, 'within': 729, 'hrs': 295, 'hehe': 279, 'town': 662, 'these': 635, 'people': 462, 'were': 713, 'weirdest': 710, 'fuckin': 245, 'mood': 395, 'right': 520, 'now': 425, 'its': 325, 'insane': 311, 'extremely': 206, 'out': 446, 'almost': 22, 'feel': 215, 'drunk': 177, 'talkin': 622, 'weird': 709, 'my': 403, 'mom': 392, 'just': 332, 'odd': 431, 'brain': 87, 'is': 321, 'rollin': 525, 'back': 54, 'into': 316, 'head': 278, 'can': 98, 'think': 639, 'wow': 738, 'get': 254, 'moods': 396, 'sumtimes': 611, 'dont': 170, 'really': 507, 'even': 199, 'understand': 680, 'highs': 286, 'lows': 369, 'durin': 180, 'day': 144, 'im': 302, 'usually': 688, 'happy': 273, 'blah': 77, 'summer': 610, 'be': 60, 'lazy': 346, 'ass': 47, 'but': 92, 'nite': 418, 'emotional': 190, 'about': 6, 'past': 459, 'th': 627, 'why': 721, 'do': 165, 'sudden': 608, 'urge': 682, 'slam': 570, 'desk': 154, 'every': 200, 'time': 655, 'try': 669, 'deal': 147, 'windows': 725, 've': 690, 'been': 64, 'trying': 670, '2000': 3, 'play': 470, 'nice': 416, 'hp': 294, 'colorado': 117, 'gb': 249, 'travan': 666, 'drive': 176, 'standard': 593, 'ide': 299, 'qic': 490, 'installed': 314, 'usb': 684, 'seems': 548, 'reasonable': 508, 'should': 558, 'work': 733, 'no': 419, 'need': 410, 'well': 711, 'as': 45, 'most': 398, 'things': 638, 'data': 143, 'on': 437, 'tapes': 624, 'are': 42, 'certainly': 103, 'proprietary': 485, 'format': 234, 'll': 362, 'surely': 615, 'read': 501, 'them': 632, 'using': 687, 'sa': 530, 'needed': 411, 'schematic': 541, 'or': 442, 'least': 348, 'an': 30, 'ic': 298, 'pinout': 466, 'fix': 225, 'problem': 481, 'junky': 331, '10': 0, 'irock': 320, 'fm': 229, 'stereo': 597, 'transmitter': 664, 'yes': 742, 'instead': 315, 'throwing': 650, 'away': 52, 'buying': 94, 'newer': 415, 'bigger': 72, 'better': 69, 'one': 438, 'spent': 588, 'minutes': 387, 'fixed': 226, 'designers': 152, 'sanded': 535, 'off': 433, 'part': 456, 'numbers': 427, 'components': 124, 'prevent': 479, 'repairs': 514, 'common': 120, 'practice': 477, 'cheap': 106, 'electronics': 188, 'you': 745, 'buy': 93, 'new': 414, 'dealt': 148, 'more': 397, 'than': 628, 'few': 218, 'devices': 158, 'whose': 720, 'engineers': 194, 'thought': 645, 'they': 636, 'would': 737, 'clever': 113, 'satellite': 536, 'recei': 509, 'realise': 505, 'everywhere': 202, 'london': 363, 'complete': 123, 'mystery': 405, 'me': 379, 'because': 63, 'diversity': 164, 'adventure': 11, 'quite': 492, 'strange': 602, 'stepping': 596, 'tube': 671, 'station': 595, 'middle': 384, 'walking': 700, '200': 2, 'metres': 382, 'road': 521, 'suddenly': 609, 'feeling': 216, 'could': 130, 'some': 577, 'small': 573, 'village': 694, 'somerset': 579, 'somewhere': 581, 'equally': 196, 'not': 422, 'what': 714, 'managed': 373, 'yesterday': 743, 'walked': 699, 'through': 647, 'hig': 285, 'for': 232, 'someone': 578, 'visiting': 695, 'underground': 679, 'saviour': 538, 'despite': 155, 'being': 66, 'hot': 291, 'crowded': 135, 'late': 342, 'travelcard': 667, 'another': 32, 'without': 730, 'any': 35, 'navigating': 409, 'via': 693, 'gives': 256, 'totally': 661, 'skewed': 569, 'impression': 307, 'geography': 252, 'when': 715, 'taken': 619, 'half': 271, 'if': 301, 'only': 440, 'knew': 335, 'where': 716, 'going': 258, 'example': 203, 'brother': 89, 'wedding': 707, 'weekend': 708, 'was': 703, 'very': 692, 'lots': 368, 'family': 209, 'around': 43, 'friends': 243, 'ended': 192, 'saturday': 537, 'night': 417, 'wild': 722, 'bachelor': 53, 'party': 458, 'bro': 88, 'fun': 247, 'altough': 26, 'didn': 160, 'partake': 457, 'fully': 246, 'anyhoo': 36, 'bit': 75, 'beth': 68, 'following': 230, 'thursday': 651, 'post': 475, 'over': 449, 'she': 556, 'crushed': 136, 'again': 14, 'her': 282, 'fault': 212, 'point': 471, 'am': 28, 'doing': 168, 'myself': 404, 'rabbis': 494, 'still': 598, 'living': 361, 'room': 526, 'comes': 118, 'fact': 207, 'dudes': 179, 'who': 718, 'close': 116, 'here': 283, 'till': 653, 'hours': 292, 'sunday': 612, 'resisted': 516, 'impossible': 306, 'hang': 272, 'beautiful': 62, 'model': 391, 'named': 407, 'edi': 185, 'picked': 465, 'street': 603, 'asked': 46, 'while': 717, 'tuxed': 673, 'amazing': 29, 'talk': 621, 'guys': 269, 'billy': 73, 'zane': 747, 'jaoquin': 328, 'phoenix': 463, 'brothers': 90, 'their': 631, 'father': 211, 'may': 377, 'lazarus': 345, 'he': 277, 'type': 678, 'mystical': 406, 'paternity': 460, 'has': 274, 'granted': 263, 'ability': 5, 'raise': 496, 'recently': 510, 'deceased': 149, 'dead': 146, 'mission': 390, 'find': 221, 'fate': 210, 'lives': 360, 'kill': 334, 'him': 287, 'set': 553, 'free': 241, 'bonds': 83, 'earth': 184, 'year': 740, 'dad': 140, 'alive': 20, 'single': 563, 'soul': 584, 'must': 402, 'take': 618, 'his': 288, 'afterlife': 13, 'earleir': 183, 'nathan': 408, 'getting': 255, 'ready': 503, 'birthday': 74, 'talking': 623, 'network': 412, 'television': 625, 'how': 293, 'networks': 413, 'cancelled': 99, 'shows': 559, 'found': 238, 'promising': 484, 'conversation': 129, 'inspired': 313, 'by': 95, 'purchase': 488, 'urllink': 683, 'freaks': 240, 'geeks': 250, 'firefly': 222, 'boxed': 86, 'sets': 554, 'felt': 217, 'creators': 133, 'learned': 347, 'lesson': 349, 'working': 735, 'tv': 674, 'respectively': 517, 'sort': 583, 'chri': 110, 'edit': 186, 'according': 9, 'engadget': 193, 'story': 601, 'originally': 444, 'quoted': 493, 'little': 357, 'rant': 498, 'itself': 326, 'rather': 499, 'misinterpreted': 388, 'ms': 400, 'taking': 620, 're': 500, 'gonna': 259, 'beat': 61, 'ipod': 319, 'trash': 665, 'nowhere': 426, 'balls': 56, 'wall': 701, 'seemed': 547, 'microsoft': 383, 'long': 364, 'known': 337, 'digital': 161, 'music': 401, 'market': 376, 'refined': 512, 'defined': 150, 'apple': 40, 'sights': 560, 'looks': 365, 'enough': 195, 'initiation': 310, 'plans': 469, 'willing': 724, 'start': 594, 'owen': 450, 'asymptomatic': 48, 'created': 132, 'mondo': 393, 'table': 617, 'hell': 280, 'does': 166, 'damned': 141, 'best': 67, 'make': 371, 'apples': 41, 'comparison': 122, 'many': 375, 'user': 686, 'blogging': 81, 'packages': 452, 'tired': 656, 'flipping': 228, 'forth': 237, 'between': 70, 'each': 182, 'sites': 566, 'especially': 197, 'answers': 34, 'questions': 491, 'apparent': 39, 'simply': 562, 'reading': 502, 'main': 370, 'web': 705, 'page': 453, 'obviously': 430, 'doesn': 167, 'include': 309, 'service': 552, 'radio': 495, 'blogger': 79, 'livejournal': 359, 'da': 139, 'maybe': 378, 'will': 723, 'meaning': 380, 'exists': 204, 'doodles': 172, 'black': 76, 'canson': 101, 'sketchbook': 568, 'stories': 600, 'txt': 677, 'files': 220, 'laptop': 341, 'daydreaming': 145, 'during': 181, 'those': 643, 'train': 663, 'rides': 519, 'always': 27, 'desire': 153, 'own': 451, 'comic': 119, 'book': 84, 'manifested': 374, 'forms': 236, 'throughout': 648, 'years': 741, 'remember': 513, 'rest': 518, 'idea': 300, 'hope': 290, 'tolkien': 660, 'esque': 198, 'stance': 592, 'wit': 727, 'posted': 476, 'preliminary': 478, 'images': 304, 'guess': 268, 'say': 539, 'something': 580, 'detail': 156, 'figure': 219, 'general': 251, 'non': 420, 'specific': 586, 'lay': 344, 'land': 338, 'cities': 111, 'landmarks': 339, 'yet': 744, 'down': 173, 'real': 504, 'notes': 423, 'climate': 114, 'scenery': 540, 'explored': 205, 'thus': 652, 'world': 736, 'consists': 128, 'grouping': 267, 'semi': 550, 'isolated': 323, 'islands': 322, 'various': 689, 'size': 567, 'ranging': 497, 'simple': 561, 'outcroppings': 447, 'dry': 178, 'rock': 524, 'st': 591, 'told': 659, 'obsessive': 428, 'compulsive': 125, 'compared': 121, 'character': 105, 'monica': 394, 'former': 235, 'sitcom': 565, 'first': 223, 'agree': 18, 'realized': 506, 'organized': 443, 'everything': 201, 'life': 354, 'slightest': 572, 'thing': 637, 'crooked': 134, 'dirty': 163, 'mismatched': 389, 'sit': 564, 'tweaking': 675, 'style': 605, 'blog': 78, 'notice': 424, 'behavior': 65, 'lined': 356, 'else': 189, 'thinking': 640, 'lot': 367, 'lately': 343, 'verge': 691, 'turning': 672, '24': 4, 'old': 435, 'twice': 676, 'age': 16, 'routine': 527, 'wake': 698, 'wondering': 732, 'surprises': 616, 'fall': 208, 'lap': 340, 'already': 24, 'know': 336, 'answer': 33, 'same': 532, 'forced': 233, 'against': 15, 'live': 358, 'inside': 312, '20': 1, 'absence': 7, 'suppose': 613, 'choose': 109, 'ok': 434, 'couple': 131, 'websites': 706, 'shot': 557, 'mouth': 399, 'said': 531, 'don': 169, 'hubbub': 296, 'your': 746, 'run': 529, 'mill': 385, 'bloggers': 80, 'treated': 668, 'journalists': 330, 'having': 276, 'worked': 734, 'media': 381, 'consider': 126, 'sport': 590, 'public': 486, 'access': 8, 'cable': 96, 'sure': 614, 'helps': 281, 'further': 248, 'freedom': 242, 'speech': 587, 'other': 445, 'four': 239, 'ago': 17, 'voting': 697, 'george': 253, 'bush': 91, 'wanted': 702, 'put': 489, 'end': 191, 'eight': 187, 'clinton': 115, 'politics': 474, 'al': 19, 'gore': 261, 'political': 473, 'career': 102, 'importantly': 305, 'produce': 482, 'section': 546, 'grocery': 265, 'store': 599, 'seen': 549, 'banannas': 57, 'considered': 127, 'libral': 352, 'republican': 515, 'wing': 726, 'democrat': 151, 'choice': 108, 'tend': 626, 'vote': 696, 'candidate': 100, 'job': 329, 'determine': 157, 'currently': 137, 'devin': 159, 'grayson': 264, 'script': 544, 'available': 51, 'online': 439, 'pages': 454, 'use': 685, 'splash': 589, 'image': 303, 'though': 644, 'prolly': 483, 'none': 421, 'feature': 214, 'batman': 59, 'poison': 472, 'ivy': 327, 'robin': 522, 'tim': 654, 'drake': 174, 'civvies': 112, 'anyone': 37, 'direction': 162, 'panel': 455, 'previous': 480, 'sample': 533, 'throw': 649, 'ground': 266, 'rules': 528, 'let': 350, 'thinks': 641, 'onto': 441, 'loser': 366, 'scripts': 545, 'published': 487, 'cuts': 138, 'chance': 104, 'flaws': 227, 'lie': 353, 'artwork': 44, 'samples': 534, 'minimum': 386, 'go': 257, 'three': 646, 'reckoned': 511, 'five': 224, 'sounds': 585, 'pencils': 461, 'letter': 351, 'outlaying': 448, 'sending': 551, 'stuff': 604, 'invitation': 318, 'bob': 82, 'schreck': 542, 'added': 10, 'also': 25, 'pick': 464, 'obvi': 429}\n",
            "shape:  (20, 748)\n",
            "vectors:  [[0.         0.         0.         ... 0.         0.         0.        ]\n",
            " [0.         0.         0.         ... 0.         0.         0.        ]\n",
            " [0.         0.         0.         ... 0.         0.         0.        ]\n",
            " ...\n",
            " [0.         0.         0.         ... 0.         0.10282842 0.        ]\n",
            " [0.         0.         0.         ... 0.         0.         0.        ]\n",
            " [0.         0.         0.         ... 0.         0.         0.        ]]\n"
          ]
        }
      ]
    },
    {
      "cell_type": "code",
      "source": [
        "X_train,X_test,y_train,y_test = train_test_split(X, ylabel, train_size=0.10, random_state=42)\n",
        "                                            "
      ],
      "metadata": {
        "id": "ZprsY4cyJeMn"
      },
      "execution_count": 22,
      "outputs": []
    },
    {
      "cell_type": "code",
      "source": [
        "X_train.shape"
      ],
      "metadata": {
        "id": "7d6wEyMak8iW",
        "colab": {
          "base_uri": "https://localhost:8080/"
        },
        "outputId": "28318e51-6641-4238-e156-1191ab4654bd"
      },
      "execution_count": 23,
      "outputs": [
        {
          "output_type": "execute_result",
          "data": {
            "text/plain": [
              "(2, 748)"
            ]
          },
          "metadata": {},
          "execution_count": 23
        }
      ]
    },
    {
      "cell_type": "markdown",
      "source": [
        "Tests"
      ],
      "metadata": {
        "id": "T1O2PUGQTv7-"
      }
    },
    {
      "cell_type": "code",
      "source": [
        "clf = MultinomialNB() #classification\n",
        "clf.fit(X_train , y_train)"
      ],
      "metadata": {
        "id": "XR44rptElXpt",
        "colab": {
          "base_uri": "https://localhost:8080/"
        },
        "outputId": "757b3aa5-33a5-4965-ebd6-efe8b737f4d2"
      },
      "execution_count": 24,
      "outputs": [
        {
          "output_type": "execute_result",
          "data": {
            "text/plain": [
              "MultinomialNB()"
            ]
          },
          "metadata": {},
          "execution_count": 24
        }
      ]
    },
    {
      "cell_type": "code",
      "source": [
        "y_pred = clf.predict(X_test)\n",
        "print(accuracy_score(y_test,clf.predict(X_test)))\n",
        "print(classification_report(y_test,y_pred))"
      ],
      "metadata": {
        "id": "xyRsfgK4mZd-",
        "colab": {
          "base_uri": "https://localhost:8080/"
        },
        "outputId": "289a98b4-620e-4afc-f858-4999dffd6de0"
      },
      "execution_count": 25,
      "outputs": [
        {
          "output_type": "stream",
          "name": "stdout",
          "text": [
            "0.05555555555555555\n",
            "                                          precision    recall  f1-score   support\n",
            "\n",
            "     2000257.female.14.indUnk.Scorpio.xm       0.00      0.00      0.00         2\n",
            "29253.female.26.HumanResources.Cancer.xm       0.00      0.00      0.00         2\n",
            "          37626.male.24.indUnk.Gemini.xm       0.00      0.00      0.00         1\n",
            "       40964.female.23.RealEstate.Leo.xm       0.08      1.00      0.15         1\n",
            "      43781.female.25.Education.Aries.xm       0.00      0.00      0.00         2\n",
            " 48638.male.36.Technology.Sagittarius.xm       0.00      0.00      0.00         2\n",
            "          566970.male.27.indUnk.Libra.xm       0.00      0.00      0.00         2\n",
            "   61176.male.33.Technology.Capricorn.xm       0.00      0.00      0.00         2\n",
            "         67459.male.34.Arts.Capricorn.xm       0.00      0.00      0.00         2\n",
            "             854.male.25.indUnk.Virgo.xm       0.00      0.00      0.00         2\n",
            "\n",
            "                                accuracy                           0.06        18\n",
            "                               macro avg       0.01      0.10      0.02        18\n",
            "                            weighted avg       0.00      0.06      0.01        18\n",
            "\n"
          ]
        },
        {
          "output_type": "stream",
          "name": "stderr",
          "text": [
            "/usr/local/lib/python3.8/dist-packages/sklearn/metrics/_classification.py:1318: UndefinedMetricWarning: Precision and F-score are ill-defined and being set to 0.0 in labels with no predicted samples. Use `zero_division` parameter to control this behavior.\n",
            "  _warn_prf(average, modifier, msg_start, len(result))\n",
            "/usr/local/lib/python3.8/dist-packages/sklearn/metrics/_classification.py:1318: UndefinedMetricWarning: Precision and F-score are ill-defined and being set to 0.0 in labels with no predicted samples. Use `zero_division` parameter to control this behavior.\n",
            "  _warn_prf(average, modifier, msg_start, len(result))\n",
            "/usr/local/lib/python3.8/dist-packages/sklearn/metrics/_classification.py:1318: UndefinedMetricWarning: Precision and F-score are ill-defined and being set to 0.0 in labels with no predicted samples. Use `zero_division` parameter to control this behavior.\n",
            "  _warn_prf(average, modifier, msg_start, len(result))\n"
          ]
        }
      ]
    },
    {
      "cell_type": "code",
      "source": [
        "logit = LogisticRegression() #logistic regression\n",
        "logit.fit(X_train,y_train)\n"
      ],
      "metadata": {
        "id": "R35CV-LipdyG",
        "colab": {
          "base_uri": "https://localhost:8080/"
        },
        "outputId": "d11ff585-e55a-429c-f56d-cb325814e232"
      },
      "execution_count": 26,
      "outputs": [
        {
          "output_type": "execute_result",
          "data": {
            "text/plain": [
              "LogisticRegression()"
            ]
          },
          "metadata": {},
          "execution_count": 26
        }
      ]
    },
    {
      "cell_type": "code",
      "source": [
        "accuracy_score(y_test,logit.predict(X_test))"
      ],
      "metadata": {
        "id": "5sCYypeYRMED",
        "colab": {
          "base_uri": "https://localhost:8080/"
        },
        "outputId": "10cd21a8-51ee-42b8-8eef-0671c15d5369"
      },
      "execution_count": 27,
      "outputs": [
        {
          "output_type": "execute_result",
          "data": {
            "text/plain": [
              "0.05555555555555555"
            ]
          },
          "metadata": {},
          "execution_count": 27
        }
      ]
    },
    {
      "cell_type": "code",
      "source": [
        "f26hrcancer = [\"Billy Zane  and Jaoquin Phoenix are half-brothers.  Their father may or may not be  the  Lazarus (he could just be  a  Lazarus- type ), this mystical paternity has granted them the ability to raise the recently deceased from the dead.    Do they have a mission?  Yes, to find out the fate of their father and, if he still lives, kill him and set him free from the bonds of the Earth because for every year the Dad is alive, a single soul must take his place in the afterlife.  A soul that would have otherwise continued to live.  Oh, the angst!  Are the brothers raising the right people from the dead? Or are they making things worse?  Would they be better off doing nothing, or not bringing people back and just killing Dad?  How do they find all of this out?  Does a little man who lives in a cave and wears a white robe with an equally white beard tell them?  No!  Their mothers belonged to a cult - both died in childbirth, of course - and they were raised by a woman who amounts to the cult's den mother (because even cults need someone to clean the bathrooms).    Is there a conflict between the brothers? Of course!  Jaoquin's character is afraid of what will be revealed and would rather turn back than continue on and Billy's character drags him forward by sheer inertia.    But who will play Dad?  That is the question.  \"]\n",
        "vect1 = vectorizer.transform(f26hrcancer).toarray()\n",
        "\n",
        "m25indvirgo = [\"For someone new to London (or just visiting as I have in the past) the London Underground is a saviour (despite being hot, crowded and late). Get a travelcard and you can just from one place to another without any problem at all.    But the problem with navigating London via the tube is that it gives a totally skewed impression of the Geography of the place. People get the tube when walking would have taken half the time, if only they knew where they were going. For example, in the past I've gone from Tottenham Court Road to Covent Garden by getting the Northern line to Leicester Square and then changing on to the Picadilly line. Now, that probably took about 25 minutes, but if I'd just walkd I could have done it in 15. Ish.         A couple of weeks ago I bought an A-Z which has put a few things into perspective, but for the most part I'm still stuck on tube-geography. Yesterday I came across a  urlLink handy little web page  which gives a number of tube maps, including a  urlLink geographically correct map of the underground .  Nice to see, but doesn't really give you an impression of how you can get from place to another.    But also included on that page is a PDF of the  urlLink geographical map superimprosed onto a street map ! It shows landmarks, train stations and railway lines, tube stop and lines, all in the correct locations, so now you really can see just how quick it would have been to walk instead of fighting the commute! \"]\n",
        "vect2 = vectorizer.transform(m25indvirgo).toarray()\n",
        "\n",
        "m36techsagi =[\"Microsoft, it's long been known, has the digital music market (refined and defined by Apple) in its sights. Looks like they're getting close enough to the initiation of their plans that they're willing to start talking trash: \"]\n",
        "vect3 = vectorizer.transform(m36techsagi).toarray()\n"
      ],
      "metadata": {
        "id": "4LUXIqX1p5Ul"
      },
      "execution_count": 28,
      "outputs": []
    },
    {
      "cell_type": "code",
      "source": [
        "clf.predict(vect1)"
      ],
      "metadata": {
        "id": "aR_MXWEYQTLC",
        "colab": {
          "base_uri": "https://localhost:8080/"
        },
        "outputId": "78a0f0e6-f5d2-4bf8-eb91-1853067eb7fb"
      },
      "execution_count": 29,
      "outputs": [
        {
          "output_type": "execute_result",
          "data": {
            "text/plain": [
              "array(['40964.female.23.RealEstate.Leo.xm'], dtype='<U33')"
            ]
          },
          "metadata": {},
          "execution_count": 29
        }
      ]
    },
    {
      "cell_type": "code",
      "source": [
        "logit.predict(vect1)"
      ],
      "metadata": {
        "id": "76Xx2i6LQcGm",
        "colab": {
          "base_uri": "https://localhost:8080/"
        },
        "outputId": "ab9c57a2-d7a6-419f-d2cd-3ef44e74cda5"
      },
      "execution_count": 30,
      "outputs": [
        {
          "output_type": "execute_result",
          "data": {
            "text/plain": [
              "array(['40964.female.23.RealEstate.Leo.xm'], dtype=object)"
            ]
          },
          "metadata": {},
          "execution_count": 30
        }
      ]
    }
  ]
}