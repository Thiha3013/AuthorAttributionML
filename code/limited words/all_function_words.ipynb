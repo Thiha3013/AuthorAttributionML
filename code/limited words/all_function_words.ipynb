{
  "nbformat": 4,
  "nbformat_minor": 0,
  "metadata": {
    "colab": {
      "provenance": []
    },
    "kernelspec": {
      "name": "python3",
      "display_name": "Python 3"
    },
    "language_info": {
      "name": "python"
    },
    "accelerator": "TPU",
    "gpuClass": "standard"
  },
  "cells": [
    {
      "cell_type": "markdown",
      "source": [
        "Module Imports"
      ],
      "metadata": {
        "id": "PNOZIax4R0DC"
      }
    },
    {
      "cell_type": "code",
      "execution_count": 31,
      "metadata": {
        "id": "QuuJYDWdKaXR"
      },
      "outputs": [],
      "source": [
        "import os\n",
        "import re\n",
        "import csv\n",
        "import nltk\n",
        "import numpy as np\n",
        "import pandas as pd\n",
        "import xml.etree.ElementTree as ET\n",
        "from sklearn.naive_bayes import MultinomialNB\n",
        "from sklearn.feature_extraction.text import CountVectorizer\n",
        "from sklearn.model_selection import train_test_split\n",
        "from sklearn.datasets import load_files\n",
        "from sklearn.metrics import accuracy_score, classification_report\n",
        "from sklearn.linear_model import LogisticRegression\n",
        "from string import digits\n",
        "from nltk.tokenize import wordpunct_tokenize\n",
        "\n"
      ]
    },
    {
      "cell_type": "markdown",
      "source": [
        "Data imports and parsing"
      ],
      "metadata": {
        "id": "OLl-C0W0R4BO"
      }
    },
    {
      "cell_type": "code",
      "source": [
        "data_dir = '/content/drive/MyDrive/10blogs'#a dir of 10 blogs in xml\n",
        "data_xml=[]\n",
        "data_txt={}"
      ],
      "metadata": {
        "id": "msCwPBM5cBTT"
      },
      "execution_count": 32,
      "outputs": []
    },
    {
      "cell_type": "code",
      "source": [
        "for filename in os.listdir(data_dir):\n",
        "    f = os.path.join(data_dir,filename)\n",
        "    if os.path.isfile(f):\n",
        "          data_xml.append(f)"
      ],
      "metadata": {
        "id": "iGRbfhqxcRTL"
      },
      "execution_count": 33,
      "outputs": []
    },
    {
      "cell_type": "code",
      "source": [
        "for i in data_xml:\n",
        "  tree = ET.parse(i)  #parsing\n",
        "  root = tree.getroot()   #parsing\n",
        "  textArr = []\n",
        "  counter = 0\n",
        "  for child in root:    \n",
        "    if child.tag=='post':\n",
        "          textArr.append(str(child.text))\n",
        "          data_txt[i]=textArr \n",
        "          counter+=1\n",
        "  "
      ],
      "metadata": {
        "id": "zHit9FYB7Wl9"
      },
      "execution_count": 34,
      "outputs": []
    },
    {
      "cell_type": "code",
      "source": [
        "texts = list(data_txt.values())\n",
        "author = list(data_txt.keys())\n",
        "\n",
        "for i in range(len(texts)):\n",
        "  texts[i] = str(texts[i])\n",
        "\n"
      ],
      "metadata": {
        "id": "a6ntGe7v-wu-"
      },
      "execution_count": 35,
      "outputs": []
    },
    {
      "cell_type": "markdown",
      "source": [
        "Limiting number of entries and characters inside each blogs "
      ],
      "metadata": {
        "id": "JXXLlC1VmjfE"
      }
    },
    {
      "cell_type": "code",
      "source": [
        "for i in range(len(texts)):\n",
        "  string1= texts[i][:len(texts[i])//2]\n",
        "  string2= texts[i][len(texts[i])//2:]\n",
        "  texts[i] = [string1[:1500], string2[:1500]]"
      ],
      "metadata": {
        "id": "qWs8WofmWtm3"
      },
      "execution_count": 36,
      "outputs": []
    },
    {
      "cell_type": "code",
      "source": [
        "fixed_author = []\n",
        "for i in range(10):\n",
        "  fixed_author.append(author[i].strip('/content/drive/MyDrive/10blogs/'))\n",
        "  "
      ],
      "metadata": {
        "id": "v_ZLCXYgybxI"
      },
      "execution_count": 37,
      "outputs": []
    },
    {
      "cell_type": "code",
      "source": [
        "for i in range(len(texts)):\n",
        "\n",
        "  print(len(texts[i]))\n",
        "  #texts[i]=wordpunct_tokenize(texts[i])\n",
        "\n",
        "  #for t in range(len(texts[i])):\n",
        "  # texts[i][t] = texts[i][t].word_tokenize\n"
      ],
      "metadata": {
        "id": "LTE-fwphiMt1",
        "colab": {
          "base_uri": "https://localhost:8080/"
        },
        "outputId": "982c0951-08a8-4a3c-eef6-19d7170568ac"
      },
      "execution_count": 38,
      "outputs": [
        {
          "output_type": "stream",
          "name": "stdout",
          "text": [
            "2\n",
            "2\n",
            "2\n",
            "2\n",
            "2\n",
            "2\n",
            "2\n",
            "2\n",
            "2\n",
            "2\n"
          ]
        }
      ]
    },
    {
      "cell_type": "markdown",
      "source": [
        "Creating a data frame"
      ],
      "metadata": {
        "id": "ri-kdl5nTpJA"
      }
    },
    {
      "cell_type": "code",
      "source": [
        "df = pd.DataFrame({'texts':texts,\n",
        "                   'author':fixed_author})\n",
        "\n",
        "df=df.explode('texts')"
      ],
      "metadata": {
        "id": "Hs0r1VdMGsbl"
      },
      "execution_count": 39,
      "outputs": []
    },
    {
      "cell_type": "code",
      "source": [
        "df['texts']"
      ],
      "metadata": {
        "id": "b6DOHdkozIP_",
        "colab": {
          "base_uri": "https://localhost:8080/"
        },
        "outputId": "ce72bcb1-840f-461e-d33f-eabb826139d3"
      },
      "execution_count": 40,
      "outputs": [
        {
          "output_type": "execute_result",
          "data": {
            "text/plain": [
              "0    ['\\n\\n\\t \\n      hey. today i woke up got all ...\n",
              "0    eah that's right. karlys at a concert er sumth...\n",
              "1    ['\\n\\n     \\n      Why do I feel the sudden ur...\n",
              "1    that is installed if you know where to look.  ...\n",
              "2    ['\\n\\n     \\n      You should realise that eve...\n",
              "2    eally give you an impression of how you can ge...\n",
              "3    ['\\n\\n\\n       \\n      Here comes thay next st...\n",
              "3    bout not knowing what to do with me, this week...\n",
              "4    [\"\\n\\n\\t \\n       Billy Zane  and Jaoquin Phoe...\n",
              "4    illy Zane .\"      And thus the concept was bor...\n",
              "5    ['\\n\\n     \\n       Edit:  urlLink According t...\n",
              "5    HTML\" capabilities - like  urlLink NetNewsWire...\n",
              "6    [\"\\n\\n\\t\\t\\t\\t\\t\\t\\n\\t\\t\\t\\t\\t\\t          Mayb...\n",
              "6     and crops grow on the surface; growing in eno...\n",
              "7    [\"\\n\\n\\t \\n      Recently I was told that I'm ...\n",
              "7    I always think that people are out to get me. ...\n",
              "8    [\"\\n\\n    \\n       \\n      Sometimes it's the ...\n",
              "8    ven why anyone should take blogs seriously?  M...\n",
              "9    [\"\\n\\n\\t \\n         Currently reading through ...\n",
              "9     17\" TFT screen (with spare CDs in front) the ...\n",
              "Name: texts, dtype: object"
            ]
          },
          "metadata": {},
          "execution_count": 40
        }
      ]
    },
    {
      "cell_type": "code",
      "source": [
        "xfeature = df['texts']\n",
        "ylabel = df['author']"
      ],
      "metadata": {
        "id": "O2yIhP28kVl1"
      },
      "execution_count": 41,
      "outputs": []
    },
    {
      "cell_type": "code",
      "source": [
        "# list of documents\n",
        "docs = xfeature\n",
        "# create the transform\n",
        "vectorizer = CountVectorizer()\n",
        "# tokenize and build vocab\n",
        "X = vectorizer.fit_transform(docs)\n",
        "print('vocabulary: ', vectorizer.vocabulary_)\n",
        "# summarize encoded vector\n",
        "print('shape: ', X.shape)\n",
        "print('vectors: ', X.toarray())\n",
        "\n"
      ],
      "metadata": {
        "id": "s7l8y_NyNJ_F",
        "colab": {
          "base_uri": "https://localhost:8080/"
        },
        "outputId": "5d79725a-8b70-49ed-c0ae-f39ea7ef1fd7"
      },
      "execution_count": 42,
      "outputs": [
        {
          "output_type": "stream",
          "name": "stdout",
          "text": [
            "vocabulary:  {'hey': 649, 'today': 1411, 'woke': 1566, 'up': 1465, 'got': 595, 'all': 46, 'dressed': 417, 'and': 61, 'went': 1540, 'to': 1410, 'ballet': 119, 'it': 733, 'from': 561, 'wuz': 1587, 'sooo': 1282, 'hungry': 683, 'after': 35, 'that': 1376, 'ate': 104, 'like': 807, 'feast': 503, 'at': 103, 'the': 1378, 'chinese': 241, 'place': 1044, 'ollies': 979, 'have': 631, 'such': 1328, 'good': 592, 'food': 539, 'makes': 858, 'in': 704, 'darien': 341, 'suck': 1329, 'anywho': 78, 'so': 1271, 'alot': 51, 'there': 1383, 'came': 208, 'home': 660, 'intotown': 722, 'with': 1563, 'kendall': 755, 'had': 614, 'big': 150, 'slice': 1263, 'of': 972, 'pizza': 1043, 'snapple': 1269, 'then': 1382, 'we': 1530, 'whole': 1553, 'box': 180, 'scooby': 1208, 'doo': 401, 'snacks': 1268, 'baskin': 127, 'robins': 1177, 'shakes': 1233, 'this': 1392, 'within': 1564, 'hrs': 675, 'hehe': 641, 'town': 1424, 'these': 1384, 'people': 1030, 'were': 1541, 'yellin': 1596, 'me': 872, 'which': 1549, 'isn': 729, 'really': 1138, 'unusual': 1464, 'but': 199, 'lke': 826, 'or': 991, 'is': 726, 'usually': 1482, 'its': 734, 'just': 751, 'lie': 803, 'maybe': 871, 'cuz': 335, 'who': 1552, 'off': 973, 'hiway': 657, 'lots': 838, 'traffic': 1425, 'on': 980, 'arent': 94, 'drivin': 421, 'around': 97, 'one': 982, 'person': 1034, 'wants': 1520, 'sleep': 1261, 'tonite': 1416, 'abbbooottt': 17, 'think': 1389, 'colli': 260, 'another': 69, 'heeeeeey': 638, 'ladies': 769, 'pussy': 1102, 'come': 263, 'here': 648, 'why': 1556, 'are': 92, 'you': 1602, 'crossin': 326, 'street': 1319, 'hahaha': 617, 'dude': 424, 'creepy': 321, 'walked': 1511, 'waitin': 1508, 'outside': 1004, 'dunkin': 425, 'donuts': 400, 'be': 130, 'picked': 1041, 'eddie': 434, 'sum': 1337, 'heeyy': 639, 'wuzn': 1588, 'bad': 116, 'ehh': 441, 'could': 311, 'tell': 1366, 'she': 1236, 'didn': 374, 'talkin': 1358, 'them': 1381, 'heh': 640, 'well': 1539, 'when': 1546, 'pulled': 1100, 'into': 721, 'driveway': 420, 'racoon': 1115, 'our': 1000, 'garage': 570, 'ahh': 42, 'my': 926, 'mom': 904, 'ooh': 986, 'cookie': 301, 'openly': 989, 'walks': 1513, 'haah': 613, 'ran': 1122, 'def': 357, 'eah': 428, 'right': 1169, 'karlys': 753, 'concert': 282, 'er': 457, 'sumthin': 1339, 'mafreaka': 851, 'dad': 337, 'cousin': 314, 'weddin': 1534, 'sucks': 1330, 'for': 540, 'especially': 459, 'has': 628, 'hear': 637, 'snore': 1270, 'haha': 615, 'much': 921, 'luv': 845, 'yeah': 1593, 'wut': 1586, 'about': 20, 'oooh': 987, 'out': 1001, 'workin': 1574, 'restaurant': 1158, 'katelyn': 754, 'chilln': 240, 'merri': 882, 'supposidly': 1343, 'new': 942, 'boyfrieeeend': 182, 'cannon': 213, 'kuleness': 767, 'meet': 877, 'haven': 632, 'talked': 1357, 'forever': 542, 'get': 579, 'along': 50, 'wuzover': 1589, 'stupid': 1324, 'stuffs': 1323, 'kule': 766, 'liz': 825, 'both': 176, 'chill': 239, 'her': 647, 'now': 961, 'ponderous': 1062, 'look': 832, 'camp': 209, 'stuff': 1322, 'things': 1388, 'say': 1200, 'middle': 888, 'watchin': 1525, 'movie': 917, 'll': 827, 'back': 114, 'ya': 1590, 'lata': 781, 'cyaz': 336, 'flip': 532, 'side': 1248, 'hahah': 616, 'byeeeeeeeeeieiei': 201, 'shwang': 1247, 'sarah': 1197, 'hump': 682, 'margottt': 867, 'guys': 610, 'if': 689, 'noticed': 960, 've': 1485, 'mainly': 855, 'been': 137, 'done': 398, 'summer': 1338, 'blog': 161, 'personal': 1035, 'your': 1603, 'close': 256, 'friend': 558, 'link': 814, 'far': 495, 'only': 984, 'told': 1413, 'over': 1005, 'lil': 810, '2ish': 10, 'almost': 48, '5ish': 14, 'played': 1054, 'mitten': 902, 'yes': 1598, 'set': 1229, 'yard': 1592, 'was': 1522, 'hot': 666, 'swimming': 1350, 'jummbooo': 746, 'made': 850, 'macoroni': 848, 'cheese': 234, 'forgot': 543, 'drain': 410, 'us': 1473, 'heads': 636, 'nasty': 932, 'ooops': 988, 'wanna': 1517, 'learn': 790, 'dance': 340, 'music': 924, 'video': 1494, 'dip': 380, 'low': 841, 'kinda': 760, 'hard': 627, 'though': 1396, 'do': 392, 'feel': 507, 'sudden': 1331, 'urge': 1470, 'slam': 1260, 'head': 635, 'desk': 365, 'every': 467, 'time': 1407, 'try': 1440, 'deal': 350, 'windows': 1560, 'trying': 1441, '2000': 6, 'play': 1053, 'nice': 945, 'hp': 673, 'colorado': 261, 'gb': 573, 'travan': 1428, 'drive': 418, 'standard': 1299, 'ide': 687, 'qic': 1104, 'installed': 715, 'usb': 1474, 'seems': 1219, 'reasonable': 1140, 'should': 1242, 'work': 1572, 'no': 949, 'need': 937, 'as': 100, 'most': 911, 'data': 343, 'tapes': 1361, 'certainly': 225, 'proprietary': 1094, 'format': 545, 'surely': 1345, 'read': 1131, 'using': 1480, 'same': 1194, 'program': 1090, 'created': 320, 'wondered': 1568, 'worked': 1573, 'not': 954, 'used': 1476, 'many': 865, 'years': 1595, 'tar': 1363, 'unix': 1458, 'tape': 1360, 'archiver': 91, 'user': 1478, 'manual': 864, 'claims': 248, 'originally': 995, 'urllink': 1472, 'yosemite': 1601, 'tapeware': 1362, 'linux': 816, 'computer': 280, 'show': 1244, 'rubber': 1182, 'banded': 122, 'website': 1532, 'found': 551, 'fedora': 506, 'core': 305, 'administration': 30, 'gui': 608, 'auto': 108, 'detected': 368, 'make': 857, 'model': 903, 'works': 1576, 'without': 1565, 'hitch': 656, 'entire': 455, 'process': 1083, 'took': 1418, 'minutes': 893, 'since': 1252, 'effortlessly': 440, 'under': 1450, 'thought': 1397, 'see': 1217, 'what': 1543, 'testing': 1369, 'purposes': 1101, 'virtual': 1498, 'machine': 847, 'running': 1187, 'started': 1302, 'vm': 1501, 'once': 981, 'finished': 524, 'booting': 172, 'attach': 105, '20': 4, 'know': 763, 'where': 1547, 'rather': 1127, 'than': 1374, 'convince': 300, 'someone': 1275, 'needs': 938, 'something': 1277, 'how': 670, 'wouldn': 1581, 'fix': 530, 'existing': 478, 'main': 854, 'menu': 881, 'create': 319, 'useful': 1477, 'implemented': 698, 'mechanisms': 875, 'least': 791, 'having': 633, 'favorites': 501, 'would': 1580, 'great': 598, 'long': 831, 'doesn': 395, 'rip': 1172, 'location': 828, 'while': 1550, 're': 1128, 'looking': 834, 'some': 1274, 'list': 817, 'mailing': 853, 'etiquette': 464, 'publicly': 1097, 'corrects': 309, 'making': 859, 'simple': 1250, 'mistake': 900, 'shouldn': 1243, 'freak': 553, 'willing': 1559, 'help': 644, 'will': 1558, 'instantly': 716, 'put': 1103, 'name': 931, 'their': 1380, 'permanent': 1033, 'ignore': 691, 'cursing': 333, 'blaming': 157, 'yelling': 1597, 'acceptable': 23, 'public': 1096, 'forum': 549, 'gets': 580, 'thousand': 1398, 'messages': 883, 'per': 1031, 'day': 345, 'reply': 1151, 'fellow': 510, 'asked': 102, 'poster': 1069, 'break': 185, 'threading': 1399, 'way': 1528, 'anyone': 75, 'can': 210, 'sense': 1225, 'shear': 1237, 'volume': 1502, 'he': 634, 'simply': 1251, 'understand': 1453, 'communicate': 269, 'those': 1395, 'able': 19, 'said': 1193, 'nothing': 958, 'left': 795, 'ignorant': 690, 'problem': 1082, 'instead': 717, 'stuck': 1321, 'his': 654, 'neck': 936, 'chopping': 243, 'block': 159, 'suggestion': 1334, 'elicit': 445, 'more': 909, 'repsonses': 1154, 'questions': 1107, 'very': 1490, 'helpful': 645, 'members': 879, 'appear': 84, 'dish': 387, 'crap': 316, 'times': 1408, 'absolutely': 21, 'realise': 1136, 'everywhere': 469, 'london': 830, 'complete': 276, 'mystery': 929, 'because': 135, 'diversity': 391, 'an': 60, 'adventure': 31, 'even': 465, 'quite': 1112, 'strange': 1316, 'stepping': 1307, 'tube': 1442, 'station': 1304, 'walking': 1512, '200': 5, 'metres': 886, 'road': 1174, 'suddenly': 1332, 'feeling': 508, 'small': 1266, 'village': 1497, 'somerset': 1276, 'somewhere': 1279, 'equally': 456, 'managed': 862, 'yesterday': 1599, 'through': 1401, 'highgate': 651, 'reason': 1139, 'fairly': 492, 'quickly': 1109, 'late': 782, 'area': 93, 'north': 953, 'going': 589, 'preview': 1076, 'ade': 29, 'success': 1327, 'gatehouse': 572, 'theatre': 1379, 'man': 861, 'written': 1584, 'starring': 1300, 'himself': 653, 'never': 941, 'scale': 1202, 'production': 1086, 'before': 138, 'considering': 292, 'enjoyed': 451, 'thoroughly': 1394, 'myself': 927, 'edinburgh': 436, 'next': 943, 'week': 1536, 'fringe': 560, 'festival': 512, 'let': 797, 'hope': 665, 'award': 111, 'him': 652, 'bonus': 169, 'night': 947, 'sorted': 1284, 'room': 1180, 'house': 669, 'hooray': 664, 'visiting': 1500, 'past': 1021, 'underground': 1451, 'saviour': 1199, 'despite': 366, 'being': 140, 'crowded': 327, 'travelcard': 1429, 'any': 72, 'navigating': 934, 'via': 1491, 'eally': 429, 'give': 585, 'impression': 702, 'also': 54, 'included': 705, 'page': 1008, 'pdf': 1027, 'geographical': 575, 'map': 866, 'superimprosed': 1340, 'onto': 985, 'shows': 1246, 'landmarks': 773, 'train': 1426, 'stations': 1305, 'railway': 1117, 'lines': 813, 'stop': 1312, 'correct': 308, 'locations': 829, 'quick': 1108, 'walk': 1510, 'fighting': 515, 'commute': 270, 'move': 916, 'job': 739, 'others': 998, 'better': 147, 'life': 804, 'closer': 257, 'friends': 559, 'family': 494, 'did': 373, 'decide': 354, 'smoke': 1267, 'honest': 661, 'bored': 174, 'sitting': 1256, 'watching': 1526, 'tv': 1445, 'little': 820, 'stir': 1311, 'crazy': 318, 'start': 1301, 'last': 780, 'few': 513, 'months': 908, 'unsettled': 1461, 'thinking': 1390, 'getting': 581, 'own': 1006, 'prices': 1078, 'everything': 468, 'soooo': 1283, 'expensive': 481, 'wasn': 1524, 'option': 990, 'email': 447, 'laura': 787, 'saying': 1201, 'moving': 918, 'want': 1518, 'join': 741, 'reaction': 1129, 'hell': 642, 'weeks': 1538, 'later': 784, 'met': 884, 'clapham': 249, 'junction': 747, 'hours': 668, 'lucky': 844, 'perfect': 1032, 'finish': 523, 'wrangling': 1582, 'agent': 39, 'contract': 298, 'woo': 1570, 'hoo': 663, 'doing': 396, 'commuting': 271, 'thing': 1387, 'backwards': 115, 'happy': 626, 'change': 229, 'morning': 910, 'comes': 264, 'thay': 1377, 'stage': 1297, 'imna': 697, 'miss': 896, '____________________________________': 15, 'sent': 1226, 'treo600': 1434, 'blackberry': 156, 'basically': 126, 'brother': 190, 'wedding': 1535, 'weekend': 1537, 'spent': 1294, 'ended': 449, 'saturday': 1198, 'wild': 1557, 'bachelor': 113, 'party': 1017, 'bro': 189, 'fun': 567, 'altough': 55, 'partake': 1015, 'fully': 566, 'anyhoo': 73, 'bit': 154, 'beth': 146, 'following': 538, 'thursday': 1404, 'post': 1067, 'crushed': 328, 'again': 37, 'fault': 499, 'point': 1055, 'am': 57, 'loves': 840, 'boy': 181, 'ben': 144, 'fact': 490, 'too': 1417, 'cannot': 214, 'ever': 466, 'happen': 623, 'nonetheless': 952, 'phone': 1039, 'friday': 557, 'talking': 1359, 'hang': 622, 'go': 587, 'nj': 948, 'anyway': 77, 'driving': 422, 'knew': 762, 'called': 206, 'surprised': 1348, 'shown': 1245, 'doorstep': 403, 'fuck': 564, 'take': 1353, 'anymore': 74, 'love': 839, 'girl': 584, 'truly': 1439, 'competing': 274, 'affections': 33, 'guy': 609, 'whom': 1554, 'obviosly': 967, 'prefers': 1072, 'tried': 1435, 'stings': 1310, 'damm': 338, 'dont': 399, 'bout': 179, 'knowing': 764, 'distant': 390, 'call': 205, 'birthday': 153, 'sure': 1344, 'knee': 761, 'impossible': 700, 'touch': 1421, 'hurts': 684, 'don': 397, 'anything': 76, 'differently': 377, 'badly': 117, 'ring': 1170, 'ringtone': 1171, 'phantom': 1037, 'planet': 1048, 'always': 56, 'mind': 891, 'bothering': 178, 'occasionally': 969, 'happiness': 625, 'often': 975, 'causing': 222, 'pain': 1010, 'texted': 1371, 'ask': 101, 'increasingly': 706, 'hate': 630, 'mean': 873, 'they': 1385, 'calling': 207, 'writing': 1583, 'views': 1496, 'gestures': 578, 'annoying': 67, 'basic': 125, 'gyst': 612, 'text': 1370, 'sleeping': 1262, 'commission': 268, 'ok': 977, 'busy': 198, 'coming': 266, 'whatnot': 1545, 'reacts': 1130, 'confusing': 288, 'situation': 1257, 'quit': 1111, 'trouble': 1438, 'wish': 1562, 'wash': 1523, 'hands': 621, 'otherwise': 999, 'billy': 151, 'zane': 1606, 'jaoquin': 738, 'phoenix': 1038, 'half': 618, 'brothers': 191, 'father': 498, 'may': 870, 'lazarus': 789, 'type': 1449, 'mystical': 930, 'paternity': 1024, 'granted': 596, 'ability': 18, 'raise': 1118, 'recently': 1142, 'deceased': 353, 'dead': 349, 'mission': 898, 'find': 521, 'fate': 497, 'still': 1309, 'lives': 823, 'kill': 758, 'free': 554, 'bonds': 168, 'earth': 432, 'year': 1594, 'alive': 45, 'single': 1253, 'soul': 1286, 'must': 925, 'afterlife': 36, 'continued': 296, 'live': 821, 'oh': 976, 'angst': 63, 'raising': 1120, 'worse': 1579, 'bringing': 187, 'killing': 759, 'does': 394, 'cave': 223, 'wears': 1531, 'white': 1551, 'robe': 1175, 'beard': 132, 'mothers': 914, 'belonged': 142, 'cult': 330, 'died': 375, 'childbirth': 238, 'course': 313, 'raised': 1119, 'by': 200, 'woman': 1567, 'amounts': 59, 'den': 362, 'mother': 913, 'cults': 331, 'clean': 251, 'bathrooms': 128, 'conflict': 287, 'between': 148, 'character': 231, 'afraid': 34, 'revealed': 1161, 'turn': 1444, 'continue': 295, 'drags': 409, 'forward': 550, 'sheer': 1239, 'inertia': 709, 'question': 1106, 'earleir': 430, 'nathan': 933, 'ready': 1134, 'illy': 692, 'thus': 1405, 'concept': 281, 'born': 175, 'odd': 971, 'couple': 312, 'ish': 727, 'pair': 1011, 'detectives': 369, 'book': 170, 'immacualtely': 696, 'rough': 1181, 'edges': 435, 'whatever': 1544, 'takes': 1354, 'lackluster': 768, 'hygeine': 685, 'together': 1412, 'solve': 1273, 'crimes': 322, 'private': 1080, 'investigation': 723, 'firm': 526, 'specializes': 1291, 'finding': 522, 'kidnap': 757, 'victims': 1493, 'missing': 897, 'persons': 1036, 'cop': 303, 'disgusted': 386, 'frustrated': 563, 'corrupt': 310, 'ineffective': 708, 'police': 1059, 'force': 541, 'leaves': 793, 'goes': 588, 'business': 197, 'slightly': 1265, 'reformed': 1145, 'criminal': 323, 'bookie': 171, 'chase': 233, 'down': 405, 'payments': 1025, 'decided': 355, 'connections': 289, 'profitable': 1088, 'less': 796, 'enterprise': 454, 'working': 1575, 'already': 53, 'rhythm': 1164, 'relationship': 1149, 'established': 462, 'allude': 47, 'previous': 1077, 'unseen': 1460, 'adventures': 32, 'characters': 232, 'universe': 1457, 'trite': 1437, 'cliche': 252, 'casting': 221, 'lifts': 806, 'beyond': 149, 'mundane': 923, 'chemistry': 235, 'pull': 1099, 'fresh': 556, 'doubt': 404, 'possession': 1064, 'expressive': 486, 'brow': 193, 'sparkly': 1290, 'eyes': 488, 'known': 765, 'filmdom': 519, 'edit': 437, 'according': 25, 'engadget': 450, 'story': 1315, 'quoted': 1113, 'rant': 1124, 'itself': 735, 'misinterpreted': 894, 'ms': 919, 'taking': 1355, 'gonna': 591, 'beat': 134, 'ipod': 725, 'trash': 1427, 'nowhere': 962, 'balls': 120, 'wall': 1514, 'seemed': 1218, 'microsoft': 887, 'digital': 378, 'market': 868, 'refined': 1144, 'defined': 358, 'apple': 86, 'sights': 1249, 'looks': 835, 'enough': 453, 'initiation': 711, 'plans': 1049, 'nthe': 963, 'branded': 184, 'devices': 371, '50': 13, 'yusuf': 1605, 'mehdi': 878, 'corporate': 307, 'vice': 1492, 'president': 1074, 'msn': 920, 'corp': 306, 'goldman': 590, 'sachs': 1190, 'fifth': 514, 'annual': 68, 'internet': 720, 'conference': 285, 'las': 779, 'vegas': 1486, 'hrm': 674, 'disregard': 389, 'moment': 905, 'applied': 88, 'patent': 1023, 'concommitent': 283, 'issues': 732, 'regarding': 1146, 'application': 87, 'innovator': 713, 'other': 997, 'number': 964, 'companies': 272, 'rallying': 1121, 'cry': 329, 'nigh': 946, 'unto': 1463, 'claim': 247, 'prop': 1093, 'crappy': 317, 'product': 1085, 'office': 974, 'profits': 1089, 'until': 1462, 'two': 1447, 'pillars': 1042, 'busines': 196, 'strategy': 1317, 'hasn': 629, 'lately': 783, 'competitors': 275, 'date': 344, 'huge': 678, 'part': 1014, 'appeal': 83, 'continuing': 297, 'cool': 302, 'factor': 491, 'might': 889, 'excel': 474, 'html': 676, 'capabilities': 217, 'netnewswire': 940, 'mail': 852, 'app': 81, 'thorny': 1393, 'beast': 133, 'aware': 112, 'reports': 1153, 'examining': 472, 'issue': 731, 'ways': 1529, 'vulnerabilities': 1505, 'run': 1184, 'pretty': 1075, 'deep': 356, 'john': 740, 'gruber': 606, 'daring': 342, 'fireball': 525, 'discusses': 385, 'protect': 1095, 'mac': 846, 'os': 996, '10': 0, 'security': 1216, 'exploit': 483, 'announced': 66, 'earlier': 431, 'lower': 842, 'level': 799, 'josh': 743, 'larios': 778, 'suggestions': 1335, 'pc': 1026, 'users': 1479, 'rejoice': 1147, 'actually': 27, 'serious': 1227, 'macos': 849, 'hyped': 686, 'effort': 439, 'sell': 1221, 'software': 1272, 'rundown': 1185, 'secunia': 1215, 'uri': 1471, 'handler': 619, 'arbitrary': 90, 'code': 258, 'execution': 475, 'information': 710, 'insecure': 714, 'ws': 1585, 'safari': 1192, 'runscript': 1188, 'proof': 1092, 'short': 1240, 'version': 1488, 'links': 815, 'use': 1475, 'disk': 388, 'handlers': 620, 'tag': 1352, 'rigged': 1168, 'arbirary': 89, 'form': 544, 'scripts': 1213, 'privs': 1081, 'script': 1212, 'several': 1230, 'submitted': 1326, 'exploits': 484, 'online': 983, 'become': 136, 'pointed': 1056, 'method': 885, 'patch': 1022, 'yourself': 1604, 'launch': 786, 'meaning': 874, 'exists': 479, 'doodles': 402, 'black': 155, 'canson': 216, 'sketchbook': 1259, 'stories': 1314, 'txt': 1448, 'files': 518, 'laptop': 774, 'daydreaming': 346, 'during': 426, 'rides': 1167, 'desire': 364, 'comic': 265, 'manifested': 863, 'forms': 547, 'throughout': 1402, 'remember': 1150, 'rest': 1157, 'idea': 688, 'tolkien': 1414, 'esque': 460, 'stance': 1298, 'confidence': 286, 'yet': 1600, 'bold': 167, 'direct': 381, 'lewis': 800, 'hmm': 658, 'quicksilver': 1110, 'shadow': 1231, 'tristaanian': 1436, 'rhob': 1163, 'pash': 1018, 'arialyn': 95, 'posted': 1068, 'preliminary': 1073, 'images': 694, 'guess': 607, 'detail': 367, 'figure': 516, 'general': 574, 'geography': 576, 'non': 950, 'specific': 1292, 'lay': 788, 'land': 772, 'cities': 244, 'real': 1135, 'notes': 957, 'climate': 253, 'scenery': 1205, 'forth': 548, 'explored': 485, 'world': 1577, 'consists': 293, 'grouping': 602, 'semi': 1222, 'isolated': 730, 'islands': 728, 'various': 1484, 'size': 1258, 'ranging': 1123, 'outcroppings': 1002, 'dry': 423, 'rock': 1179, 'stretches': 1320, 'terrai': 1368, 'crops': 325, 'grow': 603, 'surface': 1346, 'growing': 604, 'variety': 1483, 'interesting': 719, 'nutritional': 965, 'animals': 64, 'tend': 1367, 'largest': 777, 'predators': 1071, 'chain': 226, 'aviary': 110, 'large': 775, 'birds': 152, 'drakes': 412, 'etc': 463, 'rivers': 1173, 'lakes': 770, 'streams': 1318, 'exist': 476, 'larger': 776, 'plateaus': 1051, 'sometimes': 1278, 'rush': 1189, 'fall': 493, 'mist': 899, 'sound': 1287, 'below': 143, 'misty': 901, 'barrier': 124, 'mostly': 912, 'unexplored': 1455, 'traveled': 1430, 'clingy': 254, 'fog': 536, 'lived': 822, 'barely': 123, 'scraggly': 1209, 'tough': 1423, 'trees': 1433, 'jut': 752, 'vertical': 1489, 'faces': 489, 'eeking': 438, 'existence': 477, 'high': 650, 'elevations': 444, 'further': 569, 'grows': 605, 'jungle': 748, 'unknown': 1459, 'parted': 1016, 'places': 1046, 'reveal': 1160, 'brilliant': 186, 'alien': 44, 'green': 599, 'ness': 939, 'underneath': 1452, 'thick': 1386, 'blinding': 158, 'covering': 315, 'warm': 1521, 'damp': 339, 'nearly': 935, 'suffocating': 1333, 'humidity': 680, 'arid': 96, 'flora': 535, 'fauna': 500, 'documented': 393, 'exact': 471, 'depth': 363, 'discovered': 384, 'reported': 1152, 'likely': 808, 'old': 978, 'dragons': 408, 'surfacing': 1347, 'days': 348, 'intelligent': 718, 'race': 1114, 'jungles': 749, 'mysterious': 928, 'humanoids': 679, 'viewed': 1495, 'fearful': 502, 'superstition': 1341, 'among': 58, 'supposedly': 1342, 'civilized': 245, 'plateau': 1050, 'dwellers': 427, 'whether': 1548, 'obsessive': 966, 'compulsive': 278, 'compared': 273, 'monica': 906, 'former': 546, 'sitcom': 1255, 'first': 527, 'agree': 41, 'realized': 1137, 'organized': 993, 'slightest': 1264, 'crooked': 324, 'dirty': 383, 'mismatched': 895, 'sit': 1254, 'tweaking': 1446, 'style': 1325, 'notice': 959, 'behavior': 139, 'lined': 812, 'else': 446, 'worried': 1578, 'appearance': 85, 'function': 568, 'example': 473, 'school': 1206, 'lecture': 794, 'different': 376, 'colored': 262, 'pen': 1028, 'usual': 1481, 'felt': 511, 'tip': 1409, 'ball': 118, 'rewrite': 1162, 'matched': 869, 'pages': 1009, 'notebook': 956, 'compulsiveness': 279, 'extreme': 487, 'tear': 1364, 'apart': 80, 'upsetting': 1469, 'organization': 992, 'erk': 458, 'improperly': 703, 'placed': 1045, 'brought': 192, 'blocks': 160, 'lot': 837, 'thank': 1375, 'teenage': 1365, 'torment': 1420, 'humiliation': 681, 'starting': 1303, 'line': 811, 'lifestyle': 805, 'answer': 70, 'hmmm': 659, 'shall': 1234, 'attention': 106, 'whore': 1555, 'imagine': 695, 'fucking': 565, 'possibilities': 1065, 'tonight': 1415, 'organizing': 994, 'yahoo': 1591, 'deleting': 359, 'talk': 1356, 'ex': 470, 'boyfriend': 183, 'screen': 1211, 'listed': 818, 'rarely': 1125, 'case': 220, 'related': 1148, 'child': 237, 'month': 907, 'honestly': 662, 'passed': 1019, 'major': 856, 'happened': 624, 'occupies': 970, 'uneventful': 1454, 'plane': 1047, 'ride': 1166, 'memorable': 880, 'experiences': 482, 'drag': 407, 'passes': 1020, 'rate': 1126, 'ago': 40, 'living': 824, 'bearable': 131, '24': 9, 'hour': 667, 'priority': 1079, 'packages': 1007, '11': 1, '30': 11, 'steak': 1306, 'shake': 1232, 'hit': 655, 'sack': 1191, 'soon': 1281, 'websites': 1533, 'shot': 1241, 'mouth': 915, 'blogging': 163, 'hubbub': 677, 'mill': 890, 'bloggers': 162, 'treated': 1432, 'journalists': 745, 'media': 876, 'consider': 290, 'sport': 1296, 'access': 24, 'cable': 202, 'helps': 646, 'freedom': 555, 'speech': 1293, 'drivel': 419, 'however': 672, 'readership': 1132, 'qualify': 1105, 'journalist': 744, 'cablecast': 203, 'follow': 537, 'rules': 1183, 'sorts': 1285, 'reading': 1133, 'blogs': 164, 'democratic': 361, 'convention': 299, 'impressed': 701, 'chairman': 227, 'border': 173, 'libel': 801, 'fat': 496, 'suit': 1336, 'luck': 843, 'chief': 236, 'bother': 177, 'pick': 1040, 'copy': 304, 'ap': 79, 'ven': 1487, 'seriously': 1228, 'answers': 71, 'tune': 1443, 'completely': 277, 'expect': 480, 'updated': 1466, 'wait': 1507, 'four': 552, 'voting': 1504, 'george': 577, 'bush': 195, 'wanted': 1519, 'end': 448, 'eight': 442, 'clinton': 255, 'politics': 1061, 'al': 43, 'gore': 594, 'political': 1060, 'career': 219, 'importantly': 699, 'produce': 1084, 'section': 1214, 'grocery': 600, 'store': 1313, 'seen': 1220, 'banannas': 121, 'considered': 291, 'libral': 802, 'republican': 1155, 'wing': 1561, 'democrat': 360, 'choice': 242, 'vote': 1503, 'best': 145, 'candidate': 212, 'determine': 370, 'brings': 188, 'election': 443, 'shebang': 1238, 'sendups': 1224, 'platform': 1052, 'runner': 1186, 'ups': 1468, 'possibly': 1066, 'swayed': 1349, 'gwb': 611, 'wes': 1542, 'clark': 250, 'howard': 671, 'dean': 351, 'fell': 509, 'wagon': 1506, 'kerry': 756, 'floated': 533, 'top': 1419, 'treading': 1431, 'water': 1527, 'likes': 809, 'sharpton': 1235, 'changes': 230, 'position': 1063, 'currently': 332, 'devin': 372, 'grayson': 597, 'available': 109, 'splash': 1295, 'image': 693, 'prolly': 1091, 'none': 951, 'feature': 504, 'batman': 129, 'poison': 1058, 'ivy': 737, 'robin': 1176, 'tim': 1406, 'drake': 411, 'civvies': 246, 'direction': 382, 'panel': 1012, 'sample': 1195, 'throw': 1403, 'art': 98, 'ground': 601, 'thinks': 1391, 'loser': 836, 'published': 1098, 'cuts': 334, 'chance': 228, 'flaws': 531, 'artwork': 99, 'samples': 1196, 'minimum': 892, 'three': 1400, 'reckoned': 1143, 'five': 529, 'sounds': 1288, 'pencils': 1029, 'letter': 798, 'outlaying': 1003, 'sending': 1223, 'invitation': 724, 'bob': 166, 'schreck': 1207, 'added': 28, 'obvious': 968, 'leave': 792, 'joke': 742, 'alone': 49, 'profile': 1087, 'finally': 520, 'itunes': 736, 'accept': 22, 'visa': 1499, 'card': 218, 'unfortunately': 1456, 'annette': 65, 'easy': 433, 'rebuild': 1141, 'audio': 107, 'collection': 259, 'downloads': 406, 'cancelling': 211, 'debbie': 352, 'gibson': 583, 'songs': 1280, 'listen': 819, 'rich': 1165, '17': 3, 'tft': 1373, 'spare': 1289, 'cds': 224, 'front': 562, 'power': 1070, '12': 2, 'canon': 215, 'scan': 1203, 'a4': 16, 'scanner': 1204, 'notable': 955, 'wally': 1516, 'wood': 1571, '22': 8, 'panels': 1013, '2000ad': 7, 'commandments': 267, 'wallplaner': 1515, 'alphonse': 52, 'mucha': 922, 'calendar': 204, 'drawing': 414, 'table': 1351, 'junk': 750, 'accumulator': 26, 'radio': 1116, 'angle': 62, 'poise': 1057, 'lamp': 771, 'fitted': 528, 'daylight': 347, 'bulb': 194, 'giant': 582, 'robots': 1178, 'laugh': 785, 'essentially': 461, 'dredd': 416, 'flooks': 534, 'waiting': 1509, 'feaure': 505, 'respectivly': 1156, 'goofy': 593, 'upon': 1467, 'aged': 38, 'bloke': 165, 'steve': 1308, 'dillon': 379, 'apparently': 82, 'garth': 571, 'ennis': 452, 'draw': 413, 'drawn': 415, '48': 12, 'malachy': 860, 'coney': 284, 'belfast': 141, 'nib': 944, 'indian': 707, 'ink': 712, 'touched': 1422, 'giving': 586, 'scratchy': 1210, 'texture': 1372, 'looked': 833, 'return': 1159, 'figured': 517, 'hello': 643, 'wondering': 1569, 'content': 294}\n",
            "shape:  (20, 1607)\n",
            "vectors:  [[0 0 0 ... 0 0 0]\n",
            " [0 0 0 ... 0 0 0]\n",
            " [0 0 0 ... 0 0 0]\n",
            " ...\n",
            " [0 0 0 ... 0 0 0]\n",
            " [0 0 0 ... 0 0 0]\n",
            " [1 0 1 ... 0 0 0]]\n"
          ]
        }
      ]
    },
    {
      "cell_type": "code",
      "source": [
        "X_train,X_test,y_train,y_test = train_test_split(X, ylabel, train_size=0.10, random_state=42)\n",
        "                                            "
      ],
      "metadata": {
        "id": "ZprsY4cyJeMn"
      },
      "execution_count": 43,
      "outputs": []
    },
    {
      "cell_type": "code",
      "source": [
        "X_train.shape , X_test.shape , y_train.shape , y_test.shape"
      ],
      "metadata": {
        "id": "7d6wEyMak8iW",
        "colab": {
          "base_uri": "https://localhost:8080/"
        },
        "outputId": "8495db6a-1fa6-4fe9-ce29-517548852af2"
      },
      "execution_count": 44,
      "outputs": [
        {
          "output_type": "execute_result",
          "data": {
            "text/plain": [
              "((2, 1607), (18, 1607), (2,), (18,))"
            ]
          },
          "metadata": {},
          "execution_count": 44
        }
      ]
    },
    {
      "cell_type": "markdown",
      "source": [
        "Tests"
      ],
      "metadata": {
        "id": "T1O2PUGQTv7-"
      }
    },
    {
      "cell_type": "code",
      "source": [
        "clf = MultinomialNB() #classification\n",
        "clf.fit(X_train , y_train)"
      ],
      "metadata": {
        "id": "XR44rptElXpt",
        "colab": {
          "base_uri": "https://localhost:8080/"
        },
        "outputId": "43ff8733-4c5e-4ecb-ffcb-b703ca9f8c8a"
      },
      "execution_count": 45,
      "outputs": [
        {
          "output_type": "execute_result",
          "data": {
            "text/plain": [
              "MultinomialNB()"
            ]
          },
          "metadata": {},
          "execution_count": 45
        }
      ]
    },
    {
      "cell_type": "code",
      "source": [
        "y_pred = clf.predict(X_test)\n",
        "print(accuracy_score(y_test,clf.predict(X_test)))\n",
        "print(classification_report(y_test,y_pred))"
      ],
      "metadata": {
        "id": "xyRsfgK4mZd-",
        "colab": {
          "base_uri": "https://localhost:8080/"
        },
        "outputId": "73631fc4-3ae9-43c4-b4ad-3bf1a5692805"
      },
      "execution_count": 46,
      "outputs": [
        {
          "output_type": "stream",
          "name": "stdout",
          "text": [
            "0.1111111111111111\n",
            "                                          precision    recall  f1-score   support\n",
            "\n",
            "     2000257.female.14.indUnk.Scorpio.xm       0.00      0.00      0.00         2\n",
            "29253.female.26.HumanResources.Cancer.xm       0.00      0.00      0.00         2\n",
            "          37626.male.24.indUnk.Gemini.xm       0.25      1.00      0.40         1\n",
            "       40964.female.23.RealEstate.Leo.xm       0.07      1.00      0.13         1\n",
            "      43781.female.25.Education.Aries.xm       0.00      0.00      0.00         2\n",
            " 48638.male.36.Technology.Sagittarius.xm       0.00      0.00      0.00         2\n",
            "          566970.male.27.indUnk.Libra.xm       0.00      0.00      0.00         2\n",
            "   61176.male.33.Technology.Capricorn.xm       0.00      0.00      0.00         2\n",
            "         67459.male.34.Arts.Capricorn.xm       0.00      0.00      0.00         2\n",
            "             854.male.25.indUnk.Virgo.xm       0.00      0.00      0.00         2\n",
            "\n",
            "                                accuracy                           0.11        18\n",
            "                               macro avg       0.03      0.20      0.05        18\n",
            "                            weighted avg       0.02      0.11      0.03        18\n",
            "\n"
          ]
        },
        {
          "output_type": "stream",
          "name": "stderr",
          "text": [
            "/usr/local/lib/python3.8/dist-packages/sklearn/metrics/_classification.py:1318: UndefinedMetricWarning: Precision and F-score are ill-defined and being set to 0.0 in labels with no predicted samples. Use `zero_division` parameter to control this behavior.\n",
            "  _warn_prf(average, modifier, msg_start, len(result))\n",
            "/usr/local/lib/python3.8/dist-packages/sklearn/metrics/_classification.py:1318: UndefinedMetricWarning: Precision and F-score are ill-defined and being set to 0.0 in labels with no predicted samples. Use `zero_division` parameter to control this behavior.\n",
            "  _warn_prf(average, modifier, msg_start, len(result))\n",
            "/usr/local/lib/python3.8/dist-packages/sklearn/metrics/_classification.py:1318: UndefinedMetricWarning: Precision and F-score are ill-defined and being set to 0.0 in labels with no predicted samples. Use `zero_division` parameter to control this behavior.\n",
            "  _warn_prf(average, modifier, msg_start, len(result))\n"
          ]
        }
      ]
    },
    {
      "cell_type": "code",
      "source": [
        "logit = LogisticRegression() #logistic regression\n",
        "logit.fit(X_train,y_train)\n"
      ],
      "metadata": {
        "id": "R35CV-LipdyG",
        "colab": {
          "base_uri": "https://localhost:8080/"
        },
        "outputId": "d3b0378a-16b4-4cd5-9b77-63d7d408ecb8"
      },
      "execution_count": 47,
      "outputs": [
        {
          "output_type": "execute_result",
          "data": {
            "text/plain": [
              "LogisticRegression()"
            ]
          },
          "metadata": {},
          "execution_count": 47
        }
      ]
    },
    {
      "cell_type": "code",
      "source": [
        "accuracy_score(y_test,logit.predict(X_test))"
      ],
      "metadata": {
        "id": "5sCYypeYRMED",
        "colab": {
          "base_uri": "https://localhost:8080/"
        },
        "outputId": "6a70d5ee-443f-45e6-9f62-e418280270db"
      },
      "execution_count": 48,
      "outputs": [
        {
          "output_type": "execute_result",
          "data": {
            "text/plain": [
              "0.1111111111111111"
            ]
          },
          "metadata": {},
          "execution_count": 48
        }
      ]
    },
    {
      "cell_type": "code",
      "source": [
        "f26hrcancer = [\"Billy Zane  and Jaoquin Phoenix are half-brothers.  Their father may or may not be  the  Lazarus (he could just be  a  Lazarus- type ), this mystical paternity has granted them the ability to raise the recently deceased from the dead.    Do they have a mission?  Yes, to find out the fate of their father and, if he still lives, kill him and set him free from the bonds of the Earth because for every year the Dad is alive, a single soul must take his place in the afterlife.  A soul that would have otherwise continued to live.  Oh, the angst!  Are the brothers raising the right people from the dead? Or are they making things worse?  Would they be better off doing nothing, or not bringing people back and just killing Dad?  How do they find all of this out?  Does a little man who lives in a cave and wears a white robe with an equally white beard tell them?  No!  Their mothers belonged to a cult - both died in childbirth, of course - and they were raised by a woman who amounts to the cult's den mother (because even cults need someone to clean the bathrooms).    Is there a conflict between the brothers? Of course!  Jaoquin's character is afraid of what will be revealed and would rather turn back than continue on and Billy's character drags him forward by sheer inertia.    But who will play Dad?  That is the question.  \"]\n",
        "vect1 = vectorizer.transform(f26hrcancer).toarray()\n",
        "\n",
        "m25indvirgo = [\"For someone new to London (or just visiting as I have in the past) the London Underground is a saviour (despite being hot, crowded and late). Get a travelcard and you can just from one place to another without any problem at all.    But the problem with navigating London via the tube is that it gives a totally skewed impression of the Geography of the place. People get the tube when walking would have taken half the time, if only they knew where they were going. For example, in the past I've gone from Tottenham Court Road to Covent Garden by getting the Northern line to Leicester Square and then changing on to the Picadilly line. Now, that probably took about 25 minutes, but if I'd just walkd I could have done it in 15. Ish.         A couple of weeks ago I bought an A-Z which has put a few things into perspective, but for the most part I'm still stuck on tube-geography. Yesterday I came across a  urlLink handy little web page  which gives a number of tube maps, including a  urlLink geographically correct map of the underground .  Nice to see, but doesn't really give you an impression of how you can get from place to another.    But also included on that page is a PDF of the  urlLink geographical map superimprosed onto a street map ! It shows landmarks, train stations and railway lines, tube stop and lines, all in the correct locations, so now you really can see just how quick it would have been to walk instead of fighting the commute! \"]\n",
        "vect2 = vectorizer.transform(m25indvirgo).toarray()\n",
        "\n",
        "m36techsagi =[\"Microsoft, it's long been known, has the digital music market (refined and defined by Apple) in its sights. Looks like they're getting close enough to the initiation of their plans that they're willing to start talking trash: \"]\n",
        "vect3 = vectorizer.transform(m36techsagi).toarray()\n"
      ],
      "metadata": {
        "id": "4LUXIqX1p5Ul"
      },
      "execution_count": 49,
      "outputs": []
    },
    {
      "cell_type": "code",
      "source": [
        "vect1"
      ],
      "metadata": {
        "colab": {
          "base_uri": "https://localhost:8080/"
        },
        "id": "jELkaIytbiqO",
        "outputId": "c901e1ee-b98e-492f-89f8-c8ea41d49190"
      },
      "execution_count": 50,
      "outputs": [
        {
          "output_type": "execute_result",
          "data": {
            "text/plain": [
              "array([[0, 0, 0, ..., 0, 0, 1]])"
            ]
          },
          "metadata": {},
          "execution_count": 50
        }
      ]
    },
    {
      "cell_type": "code",
      "source": [
        "predict_vect=vect3"
      ],
      "metadata": {
        "id": "kLrFfvriqu3v"
      },
      "execution_count": 51,
      "outputs": []
    },
    {
      "cell_type": "code",
      "source": [
        "print(clf.predict(predict_vect))"
      ],
      "metadata": {
        "id": "aR_MXWEYQTLC",
        "colab": {
          "base_uri": "https://localhost:8080/"
        },
        "outputId": "7a830eb5-5415-47ee-e853-9479a945451a"
      },
      "execution_count": 52,
      "outputs": [
        {
          "output_type": "stream",
          "name": "stdout",
          "text": [
            "['40964.female.23.RealEstate.Leo.xm']\n"
          ]
        }
      ]
    },
    {
      "cell_type": "code",
      "source": [
        "print(logit.predict(predict_vect))"
      ],
      "metadata": {
        "id": "76Xx2i6LQcGm",
        "colab": {
          "base_uri": "https://localhost:8080/"
        },
        "outputId": "179946e5-edc2-4262-e3ba-b01332dc68c3"
      },
      "execution_count": 53,
      "outputs": [
        {
          "output_type": "stream",
          "name": "stdout",
          "text": [
            "['40964.female.23.RealEstate.Leo.xm']\n"
          ]
        }
      ]
    }
  ]
}