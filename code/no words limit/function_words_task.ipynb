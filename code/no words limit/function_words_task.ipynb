{
  "nbformat": 4,
  "nbformat_minor": 0,
  "metadata": {
    "colab": {
      "provenance": [],
      "collapsed_sections": []
    },
    "kernelspec": {
      "name": "python3",
      "display_name": "Python 3"
    },
    "language_info": {
      "name": "python"
    }
  },
  "cells": [
    {
      "cell_type": "markdown",
      "source": [
        "Imports"
      ],
      "metadata": {
        "id": "PNOZIax4R0DC"
      }
    },
    {
      "cell_type": "code",
      "execution_count": 304,
      "metadata": {
        "id": "QuuJYDWdKaXR"
      },
      "outputs": [],
      "source": [
        "import os\n",
        "import re\n",
        "import csv\n",
        "import numpy as np\n",
        "import pandas as pd\n",
        "import string\n",
        "import matplotlib.pyplot as plt\n",
        "import xml.etree.ElementTree as ET\n",
        "from sklearn.naive_bayes import MultinomialNB\n",
        "from sklearn.feature_extraction.text import CountVectorizer\n",
        "from sklearn.model_selection import train_test_split\n",
        "from sklearn.datasets import load_files\n",
        "from sklearn.metrics import accuracy_score,classification_report\n",
        "from sklearn.linear_model import LogisticRegression\n",
        "from string import digits\n"
      ]
    },
    {
      "cell_type": "markdown",
      "source": [
        "File imports and parsing"
      ],
      "metadata": {
        "id": "OLl-C0W0R4BO"
      }
    },
    {
      "cell_type": "code",
      "source": [
        "data_dir = '/content/drive/MyDrive/10blogs'#a dir of 10 blogs in xml\n",
        "data_xml=[]\n",
        "data_txt={}"
      ],
      "metadata": {
        "id": "msCwPBM5cBTT"
      },
      "execution_count": 305,
      "outputs": []
    },
    {
      "cell_type": "code",
      "source": [
        "#content words\n",
        "content_words=[]\n",
        "with open('/content/drive/MyDrive/research/content_words.txt') as f: #content_words txt file\n",
        "    #Content_list is the list that contains the read lines.     \n",
        "    for line in f:\n",
        "      content_words.append(line.translate({ord(c): None for c in string.whitespace}))\n",
        "    cont = []\n",
        "    for i in range(len(content_words)):\n",
        "      remove_digits = str.maketrans('', '', digits)\n",
        "      cont.append(content_words[i].translate(remove_digits))\n",
        "    \n",
        "    \n"
      ],
      "metadata": {
        "id": "JaaYR_tvW-Um"
      },
      "execution_count": 306,
      "outputs": []
    },
    {
      "cell_type": "code",
      "source": [
        "cont"
      ],
      "metadata": {
        "colab": {
          "base_uri": "https://localhost:8080/"
        },
        "id": "g0EwOXTEmN2P",
        "outputId": "08bf210e-4dde-41bd-caf8-0572f06c5a2d"
      },
      "execution_count": 307,
      "outputs": [
        {
          "output_type": "execute_result",
          "data": {
            "text/plain": [
              "['a',\n",
              " 'about',\n",
              " 'above',\n",
              " 'across',\n",
              " 'after',\n",
              " 'afterwards',\n",
              " 'again',\n",
              " 'against',\n",
              " 'all',\n",
              " 'almost',\n",
              " 'alone',\n",
              " 'along',\n",
              " 'already',\n",
              " 'also',\n",
              " 'although',\n",
              " 'always',\n",
              " 'am',\n",
              " 'among',\n",
              " 'amongst',\n",
              " 'amoungst',\n",
              " 'an',\n",
              " 'and',\n",
              " 'another',\n",
              " 'any',\n",
              " 'anyhow',\n",
              " 'anyone',\n",
              " 'anything',\n",
              " 'anyway',\n",
              " 'anywhere',\n",
              " 'are',\n",
              " 'around',\n",
              " 'as',\n",
              " 'at',\n",
              " 'be',\n",
              " 'became',\n",
              " 'because',\n",
              " 'been',\n",
              " 'before',\n",
              " 'beforehand',\n",
              " 'behind',\n",
              " 'being',\n",
              " 'below',\n",
              " 'beside',\n",
              " 'besides',\n",
              " 'between',\n",
              " 'beyond',\n",
              " 'both',\n",
              " 'but',\n",
              " 'by',\n",
              " 'can',\n",
              " 'cannot',\n",
              " 'could',\n",
              " 'dare',\n",
              " 'despite',\n",
              " 'did',\n",
              " 'do',\n",
              " 'does',\n",
              " 'done',\n",
              " 'down',\n",
              " 'during',\n",
              " 'each',\n",
              " 'eg',\n",
              " 'either',\n",
              " 'else',\n",
              " 'elsewhere',\n",
              " 'enough',\n",
              " 'etc',\n",
              " 'even',\n",
              " 'ever',\n",
              " 'every',\n",
              " 'everyone',\n",
              " 'everything',\n",
              " 'everywhere',\n",
              " 'except',\n",
              " 'few',\n",
              " 'first',\n",
              " 'for',\n",
              " 'former',\n",
              " 'formerly',\n",
              " 'from',\n",
              " 'further',\n",
              " 'furthermore',\n",
              " 'had',\n",
              " 'has',\n",
              " 'have',\n",
              " 'he',\n",
              " 'hence',\n",
              " 'her',\n",
              " 'here',\n",
              " 'hereabouts',\n",
              " 'hereafter',\n",
              " 'hereby',\n",
              " 'herein',\n",
              " 'hereinafter',\n",
              " 'heretofore',\n",
              " 'hereunder',\n",
              " 'hereupon',\n",
              " 'herewith',\n",
              " 'hers',\n",
              " 'herself',\n",
              " 'him',\n",
              " 'himself',\n",
              " 'his',\n",
              " 'how',\n",
              " 'however',\n",
              " 'i',\n",
              " 'ie',\n",
              " 'if',\n",
              " 'in',\n",
              " 'indeed',\n",
              " 'inside',\n",
              " 'instead',\n",
              " 'into',\n",
              " 'is',\n",
              " 'it',\n",
              " 'its',\n",
              " 'itself',\n",
              " 'last',\n",
              " 'latter',\n",
              " 'latterly',\n",
              " 'least',\n",
              " 'less',\n",
              " 'lot',\n",
              " 'lots',\n",
              " 'many',\n",
              " 'may',\n",
              " 'me',\n",
              " 'meanwhile',\n",
              " 'might',\n",
              " 'mine',\n",
              " 'more',\n",
              " 'moreover',\n",
              " 'most',\n",
              " 'mostly',\n",
              " 'much',\n",
              " 'must',\n",
              " 'my',\n",
              " 'myself',\n",
              " 'namely',\n",
              " 'near',\n",
              " 'need',\n",
              " 'neither',\n",
              " 'never',\n",
              " 'nevertheless',\n",
              " 'next',\n",
              " 'no',\n",
              " 'nobody',\n",
              " 'none',\n",
              " 'noone',\n",
              " 'nor',\n",
              " 'not',\n",
              " 'nothing',\n",
              " 'now',\n",
              " 'nowhere',\n",
              " 'of',\n",
              " 'off',\n",
              " 'often',\n",
              " 'oftentimes',\n",
              " 'on',\n",
              " 'once',\n",
              " 'one',\n",
              " 'only',\n",
              " 'onto',\n",
              " 'or',\n",
              " 'other',\n",
              " 'others',\n",
              " 'otherwise',\n",
              " 'ought',\n",
              " 'our',\n",
              " 'ours',\n",
              " 'ourselves',\n",
              " 'out',\n",
              " 'outside',\n",
              " 'over',\n",
              " 'per',\n",
              " 'perhaps',\n",
              " 'rather',\n",
              " 're',\n",
              " 'same',\n",
              " 'second',\n",
              " 'several',\n",
              " 'shall',\n",
              " 'she',\n",
              " 'should',\n",
              " 'since',\n",
              " 'so',\n",
              " 'some',\n",
              " 'somehow',\n",
              " 'someone',\n",
              " 'something',\n",
              " 'sometime',\n",
              " 'sometimes',\n",
              " 'somewhat',\n",
              " 'somewhere',\n",
              " 'still',\n",
              " 'such',\n",
              " 'than',\n",
              " 'that',\n",
              " 'the',\n",
              " 'their',\n",
              " 'theirs',\n",
              " 'them',\n",
              " 'themselves',\n",
              " 'then',\n",
              " 'thence',\n",
              " 'there',\n",
              " 'thereabouts',\n",
              " 'thereafter',\n",
              " 'thereby',\n",
              " 'therefore',\n",
              " 'therein',\n",
              " 'thereof',\n",
              " 'thereon',\n",
              " 'thereupon',\n",
              " 'these',\n",
              " 'they',\n",
              " 'third',\n",
              " 'this',\n",
              " 'those',\n",
              " 'though',\n",
              " 'through',\n",
              " 'throughout',\n",
              " 'thru',\n",
              " 'thus',\n",
              " 'to',\n",
              " 'together',\n",
              " 'too',\n",
              " 'top',\n",
              " 'toward',\n",
              " 'towards',\n",
              " 'under',\n",
              " 'until',\n",
              " 'up',\n",
              " 'upon',\n",
              " 'us',\n",
              " 'used',\n",
              " 'very',\n",
              " 'via',\n",
              " 'was',\n",
              " 'we',\n",
              " 'well',\n",
              " 'were',\n",
              " 'what',\n",
              " 'whatever',\n",
              " 'when',\n",
              " 'whence',\n",
              " 'whenever',\n",
              " 'where',\n",
              " 'whereafter',\n",
              " 'whereas',\n",
              " 'whereby',\n",
              " 'wherein',\n",
              " 'whereupon',\n",
              " 'wherever',\n",
              " 'whether',\n",
              " 'which',\n",
              " 'while',\n",
              " 'whither',\n",
              " 'who',\n",
              " 'whoever',\n",
              " 'whole',\n",
              " 'whom',\n",
              " 'whose',\n",
              " 'why',\n",
              " 'whyever',\n",
              " 'will',\n",
              " 'with',\n",
              " 'within',\n",
              " 'without',\n",
              " 'would',\n",
              " 'yes',\n",
              " 'yet',\n",
              " 'you',\n",
              " 'your',\n",
              " 'yours',\n",
              " 'yourself',\n",
              " 'yourselves',\n",
              " '']"
            ]
          },
          "metadata": {},
          "execution_count": 307
        }
      ]
    },
    {
      "cell_type": "code",
      "source": [
        "for filename in os.listdir(data_dir):\n",
        "    f = os.path.join(data_dir,filename)\n",
        "    if os.path.isfile(f):\n",
        "          data_xml.append(f)"
      ],
      "metadata": {
        "id": "iGRbfhqxcRTL"
      },
      "execution_count": 308,
      "outputs": []
    },
    {
      "cell_type": "code",
      "source": [
        "for i in data_xml:\n",
        "  tree = ET.parse(i)  #parsing\n",
        "  root = tree.getroot()   #parsing\n",
        "  textArr = []\n",
        "  for child in root:\n",
        "    if child.tag=='post':\n",
        "      textArr.append(str(child.text))\n",
        "      data_txt[i]=textArr\n",
        "\n"
      ],
      "metadata": {
        "id": "zHit9FYB7Wl9"
      },
      "execution_count": 309,
      "outputs": []
    },
    {
      "cell_type": "code",
      "source": [
        "texts = list(data_txt.values())\n",
        "author = list(data_txt.keys())\n",
        "\n",
        "fixed_author = []\n",
        "for i in range(10):\n",
        "  fixed_author.append(author[i].strip('/content/drive/MyDrive/10blogs/'))"
      ],
      "metadata": {
        "id": "a6ntGe7v-wu-"
      },
      "execution_count": 310,
      "outputs": []
    },
    {
      "cell_type": "markdown",
      "source": [
        "Creating a data frame"
      ],
      "metadata": {
        "id": "ri-kdl5nTpJA"
      }
    },
    {
      "cell_type": "code",
      "source": [
        "df = pd.DataFrame({'texts':texts,\n",
        "                   'author':fixed_author})\n",
        "df=df.explode('texts')"
      ],
      "metadata": {
        "id": "Hs0r1VdMGsbl"
      },
      "execution_count": 311,
      "outputs": []
    },
    {
      "cell_type": "code",
      "source": [
        "df.head()"
      ],
      "metadata": {
        "id": "b6DOHdkozIP_",
        "colab": {
          "base_uri": "https://localhost:8080/",
          "height": 204
        },
        "outputId": "e8722d52-af41-4be1-e24b-2c6694d5f573"
      },
      "execution_count": 312,
      "outputs": [
        {
          "output_type": "execute_result",
          "data": {
            "text/plain": [
              "                                               texts  \\\n",
              "0  \\n\\n     \\n      You should realise that every...   \n",
              "0  \\n\\n     \\n      For someone new to London (or...   \n",
              "0  \\n\\n     \\n      Some people move to London fo...   \n",
              "1  \\n\\n\\t \\n       Billy Zane  and Jaoquin Phoeni...   \n",
              "1  \\n\\n\\t \\n      Earleir today, as my brother Na...   \n",
              "\n",
              "                                     author  \n",
              "0               854.male.25.indUnk.Virgo.xm  \n",
              "0               854.male.25.indUnk.Virgo.xm  \n",
              "0               854.male.25.indUnk.Virgo.xm  \n",
              "1  29253.female.26.HumanResources.Cancer.xm  \n",
              "1  29253.female.26.HumanResources.Cancer.xm  "
            ],
            "text/html": [
              "\n",
              "  <div id=\"df-13b527b0-4f88-4dfe-9244-22587b433244\">\n",
              "    <div class=\"colab-df-container\">\n",
              "      <div>\n",
              "<style scoped>\n",
              "    .dataframe tbody tr th:only-of-type {\n",
              "        vertical-align: middle;\n",
              "    }\n",
              "\n",
              "    .dataframe tbody tr th {\n",
              "        vertical-align: top;\n",
              "    }\n",
              "\n",
              "    .dataframe thead th {\n",
              "        text-align: right;\n",
              "    }\n",
              "</style>\n",
              "<table border=\"1\" class=\"dataframe\">\n",
              "  <thead>\n",
              "    <tr style=\"text-align: right;\">\n",
              "      <th></th>\n",
              "      <th>texts</th>\n",
              "      <th>author</th>\n",
              "    </tr>\n",
              "  </thead>\n",
              "  <tbody>\n",
              "    <tr>\n",
              "      <th>0</th>\n",
              "      <td>\\n\\n     \\n      You should realise that every...</td>\n",
              "      <td>854.male.25.indUnk.Virgo.xm</td>\n",
              "    </tr>\n",
              "    <tr>\n",
              "      <th>0</th>\n",
              "      <td>\\n\\n     \\n      For someone new to London (or...</td>\n",
              "      <td>854.male.25.indUnk.Virgo.xm</td>\n",
              "    </tr>\n",
              "    <tr>\n",
              "      <th>0</th>\n",
              "      <td>\\n\\n     \\n      Some people move to London fo...</td>\n",
              "      <td>854.male.25.indUnk.Virgo.xm</td>\n",
              "    </tr>\n",
              "    <tr>\n",
              "      <th>1</th>\n",
              "      <td>\\n\\n\\t \\n       Billy Zane  and Jaoquin Phoeni...</td>\n",
              "      <td>29253.female.26.HumanResources.Cancer.xm</td>\n",
              "    </tr>\n",
              "    <tr>\n",
              "      <th>1</th>\n",
              "      <td>\\n\\n\\t \\n      Earleir today, as my brother Na...</td>\n",
              "      <td>29253.female.26.HumanResources.Cancer.xm</td>\n",
              "    </tr>\n",
              "  </tbody>\n",
              "</table>\n",
              "</div>\n",
              "      <button class=\"colab-df-convert\" onclick=\"convertToInteractive('df-13b527b0-4f88-4dfe-9244-22587b433244')\"\n",
              "              title=\"Convert this dataframe to an interactive table.\"\n",
              "              style=\"display:none;\">\n",
              "        \n",
              "  <svg xmlns=\"http://www.w3.org/2000/svg\" height=\"24px\"viewBox=\"0 0 24 24\"\n",
              "       width=\"24px\">\n",
              "    <path d=\"M0 0h24v24H0V0z\" fill=\"none\"/>\n",
              "    <path d=\"M18.56 5.44l.94 2.06.94-2.06 2.06-.94-2.06-.94-.94-2.06-.94 2.06-2.06.94zm-11 1L8.5 8.5l.94-2.06 2.06-.94-2.06-.94L8.5 2.5l-.94 2.06-2.06.94zm10 10l.94 2.06.94-2.06 2.06-.94-2.06-.94-.94-2.06-.94 2.06-2.06.94z\"/><path d=\"M17.41 7.96l-1.37-1.37c-.4-.4-.92-.59-1.43-.59-.52 0-1.04.2-1.43.59L10.3 9.45l-7.72 7.72c-.78.78-.78 2.05 0 2.83L4 21.41c.39.39.9.59 1.41.59.51 0 1.02-.2 1.41-.59l7.78-7.78 2.81-2.81c.8-.78.8-2.07 0-2.86zM5.41 20L4 18.59l7.72-7.72 1.47 1.35L5.41 20z\"/>\n",
              "  </svg>\n",
              "      </button>\n",
              "      \n",
              "  <style>\n",
              "    .colab-df-container {\n",
              "      display:flex;\n",
              "      flex-wrap:wrap;\n",
              "      gap: 12px;\n",
              "    }\n",
              "\n",
              "    .colab-df-convert {\n",
              "      background-color: #E8F0FE;\n",
              "      border: none;\n",
              "      border-radius: 50%;\n",
              "      cursor: pointer;\n",
              "      display: none;\n",
              "      fill: #1967D2;\n",
              "      height: 32px;\n",
              "      padding: 0 0 0 0;\n",
              "      width: 32px;\n",
              "    }\n",
              "\n",
              "    .colab-df-convert:hover {\n",
              "      background-color: #E2EBFA;\n",
              "      box-shadow: 0px 1px 2px rgba(60, 64, 67, 0.3), 0px 1px 3px 1px rgba(60, 64, 67, 0.15);\n",
              "      fill: #174EA6;\n",
              "    }\n",
              "\n",
              "    [theme=dark] .colab-df-convert {\n",
              "      background-color: #3B4455;\n",
              "      fill: #D2E3FC;\n",
              "    }\n",
              "\n",
              "    [theme=dark] .colab-df-convert:hover {\n",
              "      background-color: #434B5C;\n",
              "      box-shadow: 0px 1px 3px 1px rgba(0, 0, 0, 0.15);\n",
              "      filter: drop-shadow(0px 1px 2px rgba(0, 0, 0, 0.3));\n",
              "      fill: #FFFFFF;\n",
              "    }\n",
              "  </style>\n",
              "\n",
              "      <script>\n",
              "        const buttonEl =\n",
              "          document.querySelector('#df-13b527b0-4f88-4dfe-9244-22587b433244 button.colab-df-convert');\n",
              "        buttonEl.style.display =\n",
              "          google.colab.kernel.accessAllowed ? 'block' : 'none';\n",
              "\n",
              "        async function convertToInteractive(key) {\n",
              "          const element = document.querySelector('#df-13b527b0-4f88-4dfe-9244-22587b433244');\n",
              "          const dataTable =\n",
              "            await google.colab.kernel.invokeFunction('convertToInteractive',\n",
              "                                                     [key], {});\n",
              "          if (!dataTable) return;\n",
              "\n",
              "          const docLinkHtml = 'Like what you see? Visit the ' +\n",
              "            '<a target=\"_blank\" href=https://colab.research.google.com/notebooks/data_table.ipynb>data table notebook</a>'\n",
              "            + ' to learn more about interactive tables.';\n",
              "          element.innerHTML = '';\n",
              "          dataTable['output_type'] = 'display_data';\n",
              "          await google.colab.output.renderOutput(dataTable, element);\n",
              "          const docLink = document.createElement('div');\n",
              "          docLink.innerHTML = docLinkHtml;\n",
              "          element.appendChild(docLink);\n",
              "        }\n",
              "      </script>\n",
              "    </div>\n",
              "  </div>\n",
              "  "
            ]
          },
          "metadata": {},
          "execution_count": 312
        }
      ]
    },
    {
      "cell_type": "code",
      "source": [
        "xfeature = df['texts']\n",
        "ylabel = df['author']"
      ],
      "metadata": {
        "id": "O2yIhP28kVl1"
      },
      "execution_count": 313,
      "outputs": []
    },
    {
      "cell_type": "code",
      "source": [
        "# list of documents\n",
        "docs = xfeature\n",
        "# create the transform\n",
        "vectorizer = CountVectorizer(vocabulary=cont)\n",
        "# tokenize and build vocab\n",
        "X = vectorizer.fit_transform(docs)\n",
        "print('vocabulary: ', vectorizer.vocabulary_)\n",
        "# summarize encoded vector\n",
        "print('shape: ', X.shape)\n",
        "print('vectors: ', X.toarray())"
      ],
      "metadata": {
        "id": "s7l8y_NyNJ_F",
        "colab": {
          "base_uri": "https://localhost:8080/"
        },
        "outputId": "5e82f62f-ed8a-49c3-d014-511665a69e25"
      },
      "execution_count": 314,
      "outputs": [
        {
          "output_type": "stream",
          "name": "stdout",
          "text": [
            "vocabulary:  {'a': 0, 'about': 1, 'above': 2, 'across': 3, 'after': 4, 'afterwards': 5, 'again': 6, 'against': 7, 'all': 8, 'almost': 9, 'alone': 10, 'along': 11, 'already': 12, 'also': 13, 'although': 14, 'always': 15, 'am': 16, 'among': 17, 'amongst': 18, 'amoungst': 19, 'an': 20, 'and': 21, 'another': 22, 'any': 23, 'anyhow': 24, 'anyone': 25, 'anything': 26, 'anyway': 27, 'anywhere': 28, 'are': 29, 'around': 30, 'as': 31, 'at': 32, 'be': 33, 'became': 34, 'because': 35, 'been': 36, 'before': 37, 'beforehand': 38, 'behind': 39, 'being': 40, 'below': 41, 'beside': 42, 'besides': 43, 'between': 44, 'beyond': 45, 'both': 46, 'but': 47, 'by': 48, 'can': 49, 'cannot': 50, 'could': 51, 'dare': 52, 'despite': 53, 'did': 54, 'do': 55, 'does': 56, 'done': 57, 'down': 58, 'during': 59, 'each': 60, 'eg': 61, 'either': 62, 'else': 63, 'elsewhere': 64, 'enough': 65, 'etc': 66, 'even': 67, 'ever': 68, 'every': 69, 'everyone': 70, 'everything': 71, 'everywhere': 72, 'except': 73, 'few': 74, 'first': 75, 'for': 76, 'former': 77, 'formerly': 78, 'from': 79, 'further': 80, 'furthermore': 81, 'had': 82, 'has': 83, 'have': 84, 'he': 85, 'hence': 86, 'her': 87, 'here': 88, 'hereabouts': 89, 'hereafter': 90, 'hereby': 91, 'herein': 92, 'hereinafter': 93, 'heretofore': 94, 'hereunder': 95, 'hereupon': 96, 'herewith': 97, 'hers': 98, 'herself': 99, 'him': 100, 'himself': 101, 'his': 102, 'how': 103, 'however': 104, 'i': 105, 'ie': 106, 'if': 107, 'in': 108, 'indeed': 109, 'inside': 110, 'instead': 111, 'into': 112, 'is': 113, 'it': 114, 'its': 115, 'itself': 116, 'last': 117, 'latter': 118, 'latterly': 119, 'least': 120, 'less': 121, 'lot': 122, 'lots': 123, 'many': 124, 'may': 125, 'me': 126, 'meanwhile': 127, 'might': 128, 'mine': 129, 'more': 130, 'moreover': 131, 'most': 132, 'mostly': 133, 'much': 134, 'must': 135, 'my': 136, 'myself': 137, 'namely': 138, 'near': 139, 'need': 140, 'neither': 141, 'never': 142, 'nevertheless': 143, 'next': 144, 'no': 145, 'nobody': 146, 'none': 147, 'noone': 148, 'nor': 149, 'not': 150, 'nothing': 151, 'now': 152, 'nowhere': 153, 'of': 154, 'off': 155, 'often': 156, 'oftentimes': 157, 'on': 158, 'once': 159, 'one': 160, 'only': 161, 'onto': 162, 'or': 163, 'other': 164, 'others': 165, 'otherwise': 166, 'ought': 167, 'our': 168, 'ours': 169, 'ourselves': 170, 'out': 171, 'outside': 172, 'over': 173, 'per': 174, 'perhaps': 175, 'rather': 176, 're': 177, 'same': 178, 'second': 179, 'several': 180, 'shall': 181, 'she': 182, 'should': 183, 'since': 184, 'so': 185, 'some': 186, 'somehow': 187, 'someone': 188, 'something': 189, 'sometime': 190, 'sometimes': 191, 'somewhat': 192, 'somewhere': 193, 'still': 194, 'such': 195, 'than': 196, 'that': 197, 'the': 198, 'their': 199, 'theirs': 200, 'them': 201, 'themselves': 202, 'then': 203, 'thence': 204, 'there': 205, 'thereabouts': 206, 'thereafter': 207, 'thereby': 208, 'therefore': 209, 'therein': 210, 'thereof': 211, 'thereon': 212, 'thereupon': 213, 'these': 214, 'they': 215, 'third': 216, 'this': 217, 'those': 218, 'though': 219, 'through': 220, 'throughout': 221, 'thru': 222, 'thus': 223, 'to': 224, 'together': 225, 'too': 226, 'top': 227, 'toward': 228, 'towards': 229, 'under': 230, 'until': 231, 'up': 232, 'upon': 233, 'us': 234, 'used': 235, 'very': 236, 'via': 237, 'was': 238, 'we': 239, 'well': 240, 'were': 241, 'what': 242, 'whatever': 243, 'when': 244, 'whence': 245, 'whenever': 246, 'where': 247, 'whereafter': 248, 'whereas': 249, 'whereby': 250, 'wherein': 251, 'whereupon': 252, 'wherever': 253, 'whether': 254, 'which': 255, 'while': 256, 'whither': 257, 'who': 258, 'whoever': 259, 'whole': 260, 'whom': 261, 'whose': 262, 'why': 263, 'whyever': 264, 'will': 265, 'with': 266, 'within': 267, 'without': 268, 'would': 269, 'yes': 270, 'yet': 271, 'you': 272, 'your': 273, 'yours': 274, 'yourself': 275, 'yourselves': 276, '': 277}\n",
            "shape:  (224, 278)\n",
            "vectors:  [[0 2 0 ... 0 0 0]\n",
            " [0 1 0 ... 0 0 0]\n",
            " [0 4 0 ... 0 0 0]\n",
            " ...\n",
            " [0 0 0 ... 0 0 0]\n",
            " [0 0 0 ... 0 0 0]\n",
            " [0 0 0 ... 0 0 0]]\n"
          ]
        }
      ]
    },
    {
      "cell_type": "code",
      "source": [
        "X_train,X_test,y_train,y_test = train_test_split(X, ylabel, train_size=0.10, random_state=42)\n",
        "                                            "
      ],
      "metadata": {
        "id": "ZprsY4cyJeMn"
      },
      "execution_count": 315,
      "outputs": []
    },
    {
      "cell_type": "code",
      "source": [
        "X_train.shape"
      ],
      "metadata": {
        "colab": {
          "base_uri": "https://localhost:8080/"
        },
        "id": "7d6wEyMak8iW",
        "outputId": "024acc4f-b332-41d6-ba16-d5c9207620b9"
      },
      "execution_count": 316,
      "outputs": [
        {
          "output_type": "execute_result",
          "data": {
            "text/plain": [
              "(22, 278)"
            ]
          },
          "metadata": {},
          "execution_count": 316
        }
      ]
    },
    {
      "cell_type": "markdown",
      "source": [
        "Tests"
      ],
      "metadata": {
        "id": "T1O2PUGQTv7-"
      }
    },
    {
      "cell_type": "code",
      "source": [
        "clf = MultinomialNB() #classification\n",
        "clf.fit(X_train , y_train)"
      ],
      "metadata": {
        "colab": {
          "base_uri": "https://localhost:8080/"
        },
        "id": "XR44rptElXpt",
        "outputId": "300c3760-19b7-490b-b73d-62f4cb474945"
      },
      "execution_count": 317,
      "outputs": [
        {
          "output_type": "execute_result",
          "data": {
            "text/plain": [
              "MultinomialNB()"
            ]
          },
          "metadata": {},
          "execution_count": 317
        }
      ]
    },
    {
      "cell_type": "code",
      "source": [
        "y_pred = clf.predict(X_test)\n",
        "print(accuracy_score(y_test,clf.predict(X_test)))\n",
        "print(classification_report(y_test,y_pred))"
      ],
      "metadata": {
        "colab": {
          "base_uri": "https://localhost:8080/"
        },
        "id": "xyRsfgK4mZd-",
        "outputId": "579708c7-05ac-42d7-9a05-1f284dbf3eab"
      },
      "execution_count": 318,
      "outputs": [
        {
          "output_type": "stream",
          "name": "stdout",
          "text": [
            "0.5148514851485149\n",
            "                                          precision    recall  f1-score   support\n",
            "\n",
            "29253.female.26.HumanResources.Cancer.xm       0.00      0.00      0.00         3\n",
            "         32894.female.26.indUnk.Aries.xm       0.67      0.79      0.73       113\n",
            "          37626.male.24.indUnk.Gemini.xm       0.20      0.72      0.31        18\n",
            "       40964.female.23.RealEstate.Leo.xm       0.00      0.00      0.00         5\n",
            "      43781.female.25.Education.Aries.xm       0.00      0.00      0.00         6\n",
            " 48638.male.36.Technology.Sagittarius.xm       0.00      0.00      0.00        12\n",
            "   61176.male.33.Technology.Capricorn.xm       0.00      0.00      0.00         3\n",
            "     66895.female.25.Technology.Virgo.xm       0.00      0.00      0.00        16\n",
            "         67459.male.34.Arts.Capricorn.xm       0.67      0.08      0.15        24\n",
            "             854.male.25.indUnk.Virgo.xm       0.00      0.00      0.00         2\n",
            "\n",
            "                                accuracy                           0.51       202\n",
            "                               macro avg       0.15      0.16      0.12       202\n",
            "                            weighted avg       0.47      0.51      0.45       202\n",
            "\n"
          ]
        },
        {
          "output_type": "stream",
          "name": "stderr",
          "text": [
            "/usr/local/lib/python3.7/dist-packages/sklearn/metrics/_classification.py:1318: UndefinedMetricWarning: Precision and F-score are ill-defined and being set to 0.0 in labels with no predicted samples. Use `zero_division` parameter to control this behavior.\n",
            "  _warn_prf(average, modifier, msg_start, len(result))\n",
            "/usr/local/lib/python3.7/dist-packages/sklearn/metrics/_classification.py:1318: UndefinedMetricWarning: Precision and F-score are ill-defined and being set to 0.0 in labels with no predicted samples. Use `zero_division` parameter to control this behavior.\n",
            "  _warn_prf(average, modifier, msg_start, len(result))\n",
            "/usr/local/lib/python3.7/dist-packages/sklearn/metrics/_classification.py:1318: UndefinedMetricWarning: Precision and F-score are ill-defined and being set to 0.0 in labels with no predicted samples. Use `zero_division` parameter to control this behavior.\n",
            "  _warn_prf(average, modifier, msg_start, len(result))\n"
          ]
        }
      ]
    },
    {
      "cell_type": "code",
      "source": [
        "logit = LogisticRegression() #logistic regression\n",
        "logit.fit(X_train,y_train)\n"
      ],
      "metadata": {
        "colab": {
          "base_uri": "https://localhost:8080/"
        },
        "id": "R35CV-LipdyG",
        "outputId": "f0a86ea4-48de-4fb0-fea4-48918a62156b"
      },
      "execution_count": 319,
      "outputs": [
        {
          "output_type": "stream",
          "name": "stderr",
          "text": [
            "/usr/local/lib/python3.7/dist-packages/sklearn/linear_model/_logistic.py:818: ConvergenceWarning: lbfgs failed to converge (status=1):\n",
            "STOP: TOTAL NO. of ITERATIONS REACHED LIMIT.\n",
            "\n",
            "Increase the number of iterations (max_iter) or scale the data as shown in:\n",
            "    https://scikit-learn.org/stable/modules/preprocessing.html\n",
            "Please also refer to the documentation for alternative solver options:\n",
            "    https://scikit-learn.org/stable/modules/linear_model.html#logistic-regression\n",
            "  extra_warning_msg=_LOGISTIC_SOLVER_CONVERGENCE_MSG,\n"
          ]
        },
        {
          "output_type": "execute_result",
          "data": {
            "text/plain": [
              "LogisticRegression()"
            ]
          },
          "metadata": {},
          "execution_count": 319
        }
      ]
    },
    {
      "cell_type": "code",
      "source": [
        "accuracy_score(y_test,logit.predict(X_test))"
      ],
      "metadata": {
        "colab": {
          "base_uri": "https://localhost:8080/"
        },
        "id": "5sCYypeYRMED",
        "outputId": "6b7b11ea-604f-4360-a403-aef3a0d1456e"
      },
      "execution_count": 320,
      "outputs": [
        {
          "output_type": "execute_result",
          "data": {
            "text/plain": [
              "0.5594059405940595"
            ]
          },
          "metadata": {},
          "execution_count": 320
        }
      ]
    },
    {
      "cell_type": "code",
      "source": [
        "f26hrcancer = [\"Billy Zane  and Jaoquin Phoenix are half-brothers.  Their father may or may not be  the  Lazarus (he could just be  a  Lazarus- type ), this mystical paternity has granted them the ability to raise the recently deceased from the dead.    Do they have a mission?  Yes, to find out the fate of their father and, if he still lives, kill him and set him free from the bonds of the Earth because for every year the Dad is alive, a single soul must take his place in the afterlife.  A soul that would have otherwise continued to live.  Oh, the angst!  Are the brothers raising the right people from the dead? Or are they making things worse?  Would they be better off doing nothing, or not bringing people back and just killing Dad?  How do they find all of this out?  Does a little man who lives in a cave and wears a white robe with an equally white beard tell them?  No!  Their mothers belonged to a cult - both died in childbirth, of course - and they were raised by a woman who amounts to the cult's den mother (because even cults need someone to clean the bathrooms).    Is there a conflict between the brothers? Of course!  Jaoquin's character is afraid of what will be revealed and would rather turn back than continue on and Billy's character drags him forward by sheer inertia.    But who will play Dad?  That is the question.  \"]\n",
        "vect1 = vectorizer.transform(f26hrcancer).toarray()\n",
        "\n",
        "m25virgo = [\"For someone new to London (or just visiting as I have in the past) the London Underground is a saviour (despite being hot, crowded and late). Get a travelcard and you can just from one place to another without any problem at all.    But the problem with navigating London via the tube is that it gives a totally skewed impression of the Geography of the place. People get the tube when walking would have taken half the time, if only they knew where they were going. For example, in the past I've gone from Tottenham Court Road to Covent Garden by getting the Northern line to Leicester Square and then changing on to the Picadilly line. Now, that probably took about 25 minutes, but if I'd just walkd I could have done it in 15. Ish.         A couple of weeks ago I bought an A-Z which has put a few things into perspective, but for the most part I'm still stuck on tube-geography. Yesterday I came across a  urlLink handy little web page  which gives a number of tube maps, including a  urlLink geographically correct map of the underground .  Nice to see, but doesn't really give you an impression of how you can get from place to another.    But also included on that page is a PDF of the  urlLink geographical map superimprosed onto a street map ! It shows landmarks, train stations and railway lines, tube stop and lines, all in the correct locations, so now you really can see just how quick it would have been to walk instead of fighting the commute! \"]\n",
        "vect2 = vectorizer.transform(m25virgo).toarray()\n",
        "\n",
        "m36techsagi =[\"Microsoft, it's long been known, has the digital music market (refined and defined by Apple) in its sights. Looks like they're getting close enough to the initiation of their plans that they're willing to start talking trash: \"]\n",
        "vect3 = vectorizer.transform(m36techsagi).toarray()\n"
      ],
      "metadata": {
        "id": "4LUXIqX1p5Ul"
      },
      "execution_count": 321,
      "outputs": []
    },
    {
      "cell_type": "code",
      "source": [
        "clf.predict(vect2)"
      ],
      "metadata": {
        "colab": {
          "base_uri": "https://localhost:8080/"
        },
        "id": "aR_MXWEYQTLC",
        "outputId": "680cf9cf-55fb-4a1a-ce86-7a0d2e232de6"
      },
      "execution_count": 322,
      "outputs": [
        {
          "output_type": "execute_result",
          "data": {
            "text/plain": [
              "array(['854.male.25.indUnk.Virgo.xm'], dtype='<U35')"
            ]
          },
          "metadata": {},
          "execution_count": 322
        }
      ]
    },
    {
      "cell_type": "code",
      "source": [
        "logit.predict(vect2)"
      ],
      "metadata": {
        "colab": {
          "base_uri": "https://localhost:8080/"
        },
        "id": "76Xx2i6LQcGm",
        "outputId": "92df0a82-96de-419c-8421-0311861a6a9f"
      },
      "execution_count": 323,
      "outputs": [
        {
          "output_type": "execute_result",
          "data": {
            "text/plain": [
              "array(['854.male.25.indUnk.Virgo.xm'], dtype=object)"
            ]
          },
          "metadata": {},
          "execution_count": 323
        }
      ]
    }
  ]
}
