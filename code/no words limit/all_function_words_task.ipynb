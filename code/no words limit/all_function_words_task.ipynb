{
  "nbformat": 4,
  "nbformat_minor": 0,
  "metadata": {
    "colab": {
      "provenance": [],
      "collapsed_sections": []
    },
    "kernelspec": {
      "name": "python3",
      "display_name": "Python 3"
    },
    "language_info": {
      "name": "python"
    }
  },
  "cells": [
    {
      "cell_type": "markdown",
      "source": [
        "Imports"
      ],
      "metadata": {
        "id": "PNOZIax4R0DC"
      }
    },
    {
      "cell_type": "code",
      "execution_count": 120,
      "metadata": {
        "id": "QuuJYDWdKaXR"
      },
      "outputs": [],
      "source": [
        "import os\n",
        "import re\n",
        "import csv\n",
        "import numpy as np\n",
        "import pandas as pd\n",
        "import xml.etree.ElementTree as ET\n",
        "from sklearn.naive_bayes import MultinomialNB\n",
        "from sklearn.feature_extraction.text import CountVectorizer\n",
        "from sklearn.model_selection import train_test_split\n",
        "from sklearn.datasets import load_files\n",
        "from sklearn.metrics import accuracy_score, classification_report\n",
        "from sklearn.linear_model import LogisticRegression\n",
        "from string import digits\n"
      ]
    },
    {
      "cell_type": "markdown",
      "source": [
        "File imports and parsing"
      ],
      "metadata": {
        "id": "OLl-C0W0R4BO"
      }
    },
    {
      "cell_type": "code",
      "source": [
        "data_dir = '/content/drive/MyDrive/10blogs'#a dir of 10 blogs in xml\n",
        "data_xml=[]\n",
        "data_txt={}"
      ],
      "metadata": {
        "id": "msCwPBM5cBTT"
      },
      "execution_count": 121,
      "outputs": []
    },
    {
      "cell_type": "code",
      "source": [
        "for filename in os.listdir(data_dir):\n",
        "    f = os.path.join(data_dir,filename)\n",
        "    if os.path.isfile(f):\n",
        "          data_xml.append(f)"
      ],
      "metadata": {
        "id": "iGRbfhqxcRTL"
      },
      "execution_count": 122,
      "outputs": []
    },
    {
      "cell_type": "code",
      "source": [
        "for i in data_xml:\n",
        "  tree = ET.parse(i)  #parsing\n",
        "  root = tree.getroot()   #parsing\n",
        "  textArr = []\n",
        "  for child in root:\n",
        "    if child.tag=='post':\n",
        "      textArr.append(str(child.text))\n",
        "      data_txt[i]=textArr\n",
        "\n"
      ],
      "metadata": {
        "id": "zHit9FYB7Wl9"
      },
      "execution_count": 123,
      "outputs": []
    },
    {
      "cell_type": "code",
      "source": [
        "texts = list(data_txt.values())\n",
        "author = list(data_txt.keys())\n",
        "\n",
        "fixed_author = []\n",
        "for i in range(10):\n",
        "  fixed_author.append(author[i].strip('/content/drive/MyDrive/10blogs/'))"
      ],
      "metadata": {
        "id": "a6ntGe7v-wu-"
      },
      "execution_count": 124,
      "outputs": []
    },
    {
      "cell_type": "markdown",
      "source": [
        "Creating a data frame"
      ],
      "metadata": {
        "id": "ri-kdl5nTpJA"
      }
    },
    {
      "cell_type": "code",
      "source": [
        "df = pd.DataFrame({'texts':texts,\n",
        "                   'author':fixed_author})\n",
        "df=df.explode('texts')"
      ],
      "metadata": {
        "id": "Hs0r1VdMGsbl"
      },
      "execution_count": 125,
      "outputs": []
    },
    {
      "cell_type": "code",
      "source": [
        "df.head()"
      ],
      "metadata": {
        "id": "b6DOHdkozIP_",
        "colab": {
          "base_uri": "https://localhost:8080/",
          "height": 204
        },
        "outputId": "c19a1438-1fe9-4eaf-dbee-a3e9084ad040"
      },
      "execution_count": 126,
      "outputs": [
        {
          "output_type": "execute_result",
          "data": {
            "text/plain": [
              "                                               texts  \\\n",
              "0  \\n\\n     \\n      You should realise that every...   \n",
              "0  \\n\\n     \\n      For someone new to London (or...   \n",
              "0  \\n\\n     \\n      Some people move to London fo...   \n",
              "1  \\n\\n\\t \\n       Billy Zane  and Jaoquin Phoeni...   \n",
              "1  \\n\\n\\t \\n      Earleir today, as my brother Na...   \n",
              "\n",
              "                                     author  \n",
              "0               854.male.25.indUnk.Virgo.xm  \n",
              "0               854.male.25.indUnk.Virgo.xm  \n",
              "0               854.male.25.indUnk.Virgo.xm  \n",
              "1  29253.female.26.HumanResources.Cancer.xm  \n",
              "1  29253.female.26.HumanResources.Cancer.xm  "
            ],
            "text/html": [
              "\n",
              "  <div id=\"df-9b0fbcbc-7ed0-45e5-b6e2-5dd89aa7a135\">\n",
              "    <div class=\"colab-df-container\">\n",
              "      <div>\n",
              "<style scoped>\n",
              "    .dataframe tbody tr th:only-of-type {\n",
              "        vertical-align: middle;\n",
              "    }\n",
              "\n",
              "    .dataframe tbody tr th {\n",
              "        vertical-align: top;\n",
              "    }\n",
              "\n",
              "    .dataframe thead th {\n",
              "        text-align: right;\n",
              "    }\n",
              "</style>\n",
              "<table border=\"1\" class=\"dataframe\">\n",
              "  <thead>\n",
              "    <tr style=\"text-align: right;\">\n",
              "      <th></th>\n",
              "      <th>texts</th>\n",
              "      <th>author</th>\n",
              "    </tr>\n",
              "  </thead>\n",
              "  <tbody>\n",
              "    <tr>\n",
              "      <th>0</th>\n",
              "      <td>\\n\\n     \\n      You should realise that every...</td>\n",
              "      <td>854.male.25.indUnk.Virgo.xm</td>\n",
              "    </tr>\n",
              "    <tr>\n",
              "      <th>0</th>\n",
              "      <td>\\n\\n     \\n      For someone new to London (or...</td>\n",
              "      <td>854.male.25.indUnk.Virgo.xm</td>\n",
              "    </tr>\n",
              "    <tr>\n",
              "      <th>0</th>\n",
              "      <td>\\n\\n     \\n      Some people move to London fo...</td>\n",
              "      <td>854.male.25.indUnk.Virgo.xm</td>\n",
              "    </tr>\n",
              "    <tr>\n",
              "      <th>1</th>\n",
              "      <td>\\n\\n\\t \\n       Billy Zane  and Jaoquin Phoeni...</td>\n",
              "      <td>29253.female.26.HumanResources.Cancer.xm</td>\n",
              "    </tr>\n",
              "    <tr>\n",
              "      <th>1</th>\n",
              "      <td>\\n\\n\\t \\n      Earleir today, as my brother Na...</td>\n",
              "      <td>29253.female.26.HumanResources.Cancer.xm</td>\n",
              "    </tr>\n",
              "  </tbody>\n",
              "</table>\n",
              "</div>\n",
              "      <button class=\"colab-df-convert\" onclick=\"convertToInteractive('df-9b0fbcbc-7ed0-45e5-b6e2-5dd89aa7a135')\"\n",
              "              title=\"Convert this dataframe to an interactive table.\"\n",
              "              style=\"display:none;\">\n",
              "        \n",
              "  <svg xmlns=\"http://www.w3.org/2000/svg\" height=\"24px\"viewBox=\"0 0 24 24\"\n",
              "       width=\"24px\">\n",
              "    <path d=\"M0 0h24v24H0V0z\" fill=\"none\"/>\n",
              "    <path d=\"M18.56 5.44l.94 2.06.94-2.06 2.06-.94-2.06-.94-.94-2.06-.94 2.06-2.06.94zm-11 1L8.5 8.5l.94-2.06 2.06-.94-2.06-.94L8.5 2.5l-.94 2.06-2.06.94zm10 10l.94 2.06.94-2.06 2.06-.94-2.06-.94-.94-2.06-.94 2.06-2.06.94z\"/><path d=\"M17.41 7.96l-1.37-1.37c-.4-.4-.92-.59-1.43-.59-.52 0-1.04.2-1.43.59L10.3 9.45l-7.72 7.72c-.78.78-.78 2.05 0 2.83L4 21.41c.39.39.9.59 1.41.59.51 0 1.02-.2 1.41-.59l7.78-7.78 2.81-2.81c.8-.78.8-2.07 0-2.86zM5.41 20L4 18.59l7.72-7.72 1.47 1.35L5.41 20z\"/>\n",
              "  </svg>\n",
              "      </button>\n",
              "      \n",
              "  <style>\n",
              "    .colab-df-container {\n",
              "      display:flex;\n",
              "      flex-wrap:wrap;\n",
              "      gap: 12px;\n",
              "    }\n",
              "\n",
              "    .colab-df-convert {\n",
              "      background-color: #E8F0FE;\n",
              "      border: none;\n",
              "      border-radius: 50%;\n",
              "      cursor: pointer;\n",
              "      display: none;\n",
              "      fill: #1967D2;\n",
              "      height: 32px;\n",
              "      padding: 0 0 0 0;\n",
              "      width: 32px;\n",
              "    }\n",
              "\n",
              "    .colab-df-convert:hover {\n",
              "      background-color: #E2EBFA;\n",
              "      box-shadow: 0px 1px 2px rgba(60, 64, 67, 0.3), 0px 1px 3px 1px rgba(60, 64, 67, 0.15);\n",
              "      fill: #174EA6;\n",
              "    }\n",
              "\n",
              "    [theme=dark] .colab-df-convert {\n",
              "      background-color: #3B4455;\n",
              "      fill: #D2E3FC;\n",
              "    }\n",
              "\n",
              "    [theme=dark] .colab-df-convert:hover {\n",
              "      background-color: #434B5C;\n",
              "      box-shadow: 0px 1px 3px 1px rgba(0, 0, 0, 0.15);\n",
              "      filter: drop-shadow(0px 1px 2px rgba(0, 0, 0, 0.3));\n",
              "      fill: #FFFFFF;\n",
              "    }\n",
              "  </style>\n",
              "\n",
              "      <script>\n",
              "        const buttonEl =\n",
              "          document.querySelector('#df-9b0fbcbc-7ed0-45e5-b6e2-5dd89aa7a135 button.colab-df-convert');\n",
              "        buttonEl.style.display =\n",
              "          google.colab.kernel.accessAllowed ? 'block' : 'none';\n",
              "\n",
              "        async function convertToInteractive(key) {\n",
              "          const element = document.querySelector('#df-9b0fbcbc-7ed0-45e5-b6e2-5dd89aa7a135');\n",
              "          const dataTable =\n",
              "            await google.colab.kernel.invokeFunction('convertToInteractive',\n",
              "                                                     [key], {});\n",
              "          if (!dataTable) return;\n",
              "\n",
              "          const docLinkHtml = 'Like what you see? Visit the ' +\n",
              "            '<a target=\"_blank\" href=https://colab.research.google.com/notebooks/data_table.ipynb>data table notebook</a>'\n",
              "            + ' to learn more about interactive tables.';\n",
              "          element.innerHTML = '';\n",
              "          dataTable['output_type'] = 'display_data';\n",
              "          await google.colab.output.renderOutput(dataTable, element);\n",
              "          const docLink = document.createElement('div');\n",
              "          docLink.innerHTML = docLinkHtml;\n",
              "          element.appendChild(docLink);\n",
              "        }\n",
              "      </script>\n",
              "    </div>\n",
              "  </div>\n",
              "  "
            ]
          },
          "metadata": {},
          "execution_count": 126
        }
      ]
    },
    {
      "cell_type": "code",
      "source": [
        "xfeature = df['texts']\n",
        "ylabel = df['author']"
      ],
      "metadata": {
        "id": "O2yIhP28kVl1"
      },
      "execution_count": 127,
      "outputs": []
    },
    {
      "cell_type": "code",
      "source": [
        "# list of documents\n",
        "docs = xfeature\n",
        "# create the transform\n",
        "vectorizer = CountVectorizer()\n",
        "# tokenize and build vocab\n",
        "X = vectorizer.fit_transform(docs)\n",
        "print('vocabulary: ', vectorizer.vocabulary_)\n",
        "# summarize encoded vector\n",
        "print('shape: ', X.shape)\n",
        "print('vectors: ', X.toarray())"
      ],
      "metadata": {
        "id": "s7l8y_NyNJ_F",
        "colab": {
          "base_uri": "https://localhost:8080/"
        },
        "outputId": "a5c6a996-d94d-4414-a8f5-5480a4c51221"
      },
      "execution_count": 128,
      "outputs": [
        {
          "output_type": "stream",
          "name": "stdout",
          "text": [
            "vocabulary:  {'you': 5595, 'should': 4371, 'realise': 3903, 'that': 4926, 'everywhere': 1682, 'in': 2488, 'london': 2897, 'is': 2601, 'complete': 1013, 'mystery': 3216, 'to': 5015, 'me': 3027, 'and': 225, 'because': 469, 'of': 3351, 'the': 4929, 'diversity': 1432, 'place': 3594, 'it': 2613, 'an': 221, 'adventure': 135, 'every': 1677, 'time': 5004, 'head': 2280, 'town': 5061, 'but': 722, 'even': 1669, 'so': 4509, 'quite': 3831, 'strange': 4700, 'stepping': 4662, 'out': 3419, 'tube': 5128, 'station': 4647, 'middle': 3084, 'walking': 5352, 'about': 74, '200': 20, 'metres': 3080, 'up': 5218, 'road': 4079, 'suddenly': 4756, 'feeling': 1810, 'like': 2849, 'could': 1119, 'be': 457, 'some': 4531, 'small': 4478, 'or': 3398, 'village': 5307, 'somerset': 4536, 'somewhere': 4541, 'equally': 1645, 'not': 3304, 'what': 5435, 'managed': 2978, 'do': 1436, 'yesterday': 5590, 'as': 342, 'walked': 5350, 'through': 4980, 'highgate': 2343, 'reason': 3915, 'was': 5379, 'making': 2969, 'my': 3213, 'way': 5396, 'fairly': 1766, 'quickly': 3825, 'late': 2766, 'area': 308, 'north': 3302, 'going': 2132, 'preview': 3717, 'show': 4376, 'ade': 122, 'new': 3264, 'play': 3612, 'success': 4748, 'at': 369, 'urllink': 5239, 'gatehouse': 2067, 'theatre': 4931, 'one': 3375, 'man': 2977, 'written': 5564, 'starring': 4635, 'himself': 2349, 've': 5277, 'never': 3261, 'been': 479, 'scale': 4192, 'production': 3746, 'before': 480, 'considering': 1047, 'there': 4941, 'were': 5428, 'only': 3378, '20': 19, 'people': 3530, 'very': 5291, 'enjoyed': 1621, 'thoroughly': 4966, 'myself': 3214, 'off': 3352, 'edinburgh': 1559, 'next': 3269, 'week': 5415, 'for': 1943, 'fringe': 2008, 'festival': 1822, 'let': 2821, 'hope': 2383, 'another': 248, 'award': 404, 'him': 2348, 'bonus': 603, 'night': 3279, 'we': 5398, 'sorted': 4558, 'who': 5459, 'got': 2150, 'which': 5449, 'room': 4101, 'house': 2404, 'after': 151, 'hooray': 2382, 'someone': 4535, 'just': 2673, 'visiting': 5317, 'have': 2273, 'past': 3490, 'underground': 5169, 'saviour': 4184, 'despite': 1351, 'being': 494, 'hot': 2399, 'crowded': 1182, 'get': 2091, 'travelcard': 5087, 'can': 755, 'from': 2010, 'without': 5508, 'any': 258, 'problem': 3738, 'all': 182, 'with': 5504, 'navigating': 3232, 'via': 5293, 'gives': 2107, 'totally': 5046, 'skewed': 4445, 'impression': 2485, 'geography': 2087, 'when': 5443, 'would': 5546, 'taken': 4838, 'half': 2222, 'if': 2449, 'they': 4946, 'knew': 2718, 'where': 5445, 'example': 1691, 'gone': 2138, 'tottenham': 5047, 'court': 1133, 'covent': 1140, 'garden': 2061, 'by': 728, 'getting': 2093, 'northern': 3303, 'line': 2857, 'leicester': 2814, 'square': 4617, 'then': 4938, 'changing': 844, 'on': 3373, 'picadilly': 3574, 'now': 3317, 'probably': 3736, 'took': 5032, '25': 35, 'minutes': 3103, 'walkd': 5349, 'done': 1454, '15': 9, 'ish': 2602, 'couple': 1127, 'weeks': 5419, 'ago': 162, 'bought': 623, 'has': 2263, 'put': 3807, 'few': 1828, 'things': 4953, 'into': 2582, 'perspective': 3554, 'most': 3166, 'part': 3475, 'still': 4671, 'stuck': 4728, 'came': 751, 'across': 102, 'handy': 2238, 'little': 2874, 'web': 5409, 'page': 3448, 'number': 3322, 'maps': 2993, 'including': 2495, 'geographically': 2086, 'correct': 1109, 'map': 2992, 'nice': 3273, 'see': 4256, 'doesn': 1445, 'really': 3910, 'give': 2105, 'how': 2407, 'also': 197, 'included': 2494, 'pdf': 3512, 'geographical': 2085, 'superimprosed': 4775, 'onto': 3381, 'street': 4708, 'shows': 4381, 'landmarks': 2747, 'train': 5072, 'stations': 4648, 'railway': 3848, 'lines': 2861, 'stop': 4687, 'locations': 2888, 'quick': 3823, 'walk': 5348, 'instead': 2556, 'fighting': 1840, 'commute': 995, 'move': 3187, 'job': 2644, 'others': 3413, 'better': 516, 'life': 2836, 'closer': 942, 'friends': 2003, 'family': 1774, 'why': 5468, 'did': 1383, 'decide': 1282, 'big': 526, 'smoke': 4491, 'well': 5425, 'honest': 2376, 'bored': 613, 'much': 3198, 'sitting': 4432, 'around': 319, 'watching': 5391, 'tv': 5140, 'stir': 4678, 'crazy': 1154, 'start': 4637, 'last': 2763, 'months': 3149, 'unsettled': 5206, 'had': 2217, 'thinking': 4955, 'own': 3438, 'while': 5450, 'prices': 3722, 'everything': 1681, 'soooo': 4550, 'expensive': 1717, 'here': 2326, 'wasn': 5382, 'option': 3395, 'email': 1585, 'laura': 2777, 'saying': 4188, 'she': 4341, 'moving': 3193, 'anyone': 262, 'want': 5365, 'join': 2650, 'her': 2321, 'reaction': 3892, 'hell': 2312, 'later': 2768, 'met': 3075, 'clapham': 912, 'junction': 2668, 'along': 193, 'within': 5507, 'hours': 2403, 'yes': 5588, 'lucky': 2934, 'found': 1975, 'perfect': 3536, 'us': 5240, 'finish': 1864, 'wrangling': 5551, 'agent': 161, 'contract': 1073, 'woo': 5525, 'hoo': 2380, 'kinda': 2706, 'doing': 1448, 'commuting': 998, 'thing': 4952, 'backwards': 424, 'happy': 2248, 'no': 3291, 'change': 841, 'morning': 3159, 'll': 2881, 'windsor': 5489, 'repeating': 3998, 'reverse': 4047, 'evening': 1670, 'slightly': 4467, 'quieter': 3828, 'day': 1257, 'chance': 838, 'experience': 1718, 'evenings': 1671, 'weekends': 5417, 'know': 2721, 'plenty': 3624, 'am': 204, 'looking': 2911, 'forward': 1972, 'able': 71, 'go': 2125, 'pub': 3785, 'drink': 1499, 'center': 824, 'science': 4212, 'museum': 3206, 'since': 4417, '12': 4, 'until': 5211, 'recently': 3926, 'actually': 112, 'shunned': 4388, 'idea': 2444, 'something': 4537, 'places': 3597, 'person': 3550, 'thought': 4969, 'young': 5596, 'free': 1990, 'tied': 4995, 'down': 1467, 'bit': 539, 'different': 1388, 'don': 1453, 'year': 5580, 'billy': 530, 'zane': 5604, 'jaoquin': 2627, 'phoenix': 3563, 'are': 307, 'brothers': 682, 'their': 4934, 'father': 1792, 'may': 3023, 'lazarus': 2783, 'he': 2279, 'type': 5153, 'this': 4960, 'mystical': 3217, 'paternity': 3495, 'granted': 2166, 'them': 4935, 'ability': 70, 'raise': 3852, 'deceased': 1277, 'dead': 1262, 'mission': 3116, 'find': 1857, 'fate': 1790, 'lives': 2878, 'kill': 2697, 'set': 4303, 'bonds': 600, 'earth': 1544, 'dad': 1221, 'alive': 181, 'single': 4423, 'soul': 4561, 'must': 3209, 'take': 4837, 'his': 2355, 'afterlife': 152, 'otherwise': 3414, 'continued': 1070, 'live': 2875, 'oh': 3366, 'angst': 234, 'raising': 3854, 'right': 4065, 'worse': 5541, 'nothing': 3311, 'bringing': 670, 'back': 417, 'killing': 2701, 'does': 1444, 'cave': 818, 'wears': 5405, 'white': 5457, 'robe': 4084, 'beard': 460, 'tell': 4893, 'mothers': 3172, 'belonged': 499, 'cult': 1202, 'both': 618, 'died': 1386, 'childbirth': 873, 'course': 1131, 'raised': 3853, 'woman': 5514, 'amounts': 217, 'den': 1325, 'mother': 3171, 'cults': 1203, 'need': 3243, 'clean': 917, 'bathrooms': 449, 'conflict': 1036, 'between': 517, 'character': 848, 'afraid': 149, 'will': 5479, 'revealed': 4044, 'rather': 3873, 'turn': 5135, 'than': 4921, 'continue': 1069, 'drags': 1477, 'sheer': 4345, 'inertia': 2513, 'question': 3821, 'earleir': 1539, 'today': 5016, 'brother': 681, 'nathan': 3227, 'ready': 3900, 'home': 2372, 'birthday': 538, 'talking': 4847, 'network': 3258, 'television': 4892, 'networks': 3259, 'cancelled': 759, 'promising': 3762, 'conversation': 1085, 'inspired': 2550, 'purchase': 3797, 'freaks': 1989, 'geeks': 2077, 'firefly': 1869, 'boxed': 629, 'sets': 4304, 'felt': 1817, 'creators': 1161, 'these': 4944, 'learned': 2797, 'lesson': 2818, 'working': 5534, 'respectively': 4030, 'sort': 4557, 'chris': 887, 'carter': 799, 'millennium': 3091, 'harsh': 2261, 'realm': 3911, 'said': 4157, 'liked': 2850, 'guy': 2210, 'cutting': 1218, 'edge': 1556, 'sweeney': 4809, 'thus': 4989, 'concept': 1024, 'born': 615, 'odd': 3348, 'pair': 3459, 'detectives': 1361, 'book': 605, 'immacualtely': 2469, 'rough': 4107, 'edges': 1557, 'whatever': 5436, 'takes': 4840, 'lackluster': 2735, 'hygeine': 2437, 'together': 5019, 'solve': 4529, 'crimes': 1172, 'say': 4187, 'private': 3734, 'investigation': 2586, 'firm': 1871, 'specializes': 4581, 'finding': 1858, 'kidnap': 2695, 'victims': 5297, 'missing': 3115, 'persons': 3553, 'cop': 1095, 'disgusted': 1418, 'frustrated': 2015, 'views': 5304, 'corrupt': 1111, 'ineffective': 2512, 'police': 3643, 'force': 1945, 'leaves': 2802, 'goes': 2131, 'business': 718, 'reformed': 3947, 'criminal': 1173, 'bookie': 606, 'having': 2275, 'chase': 854, 'too': 5031, 'many': 2991, 'payments': 3509, 'decided': 1283, 'connections': 1042, 'more': 3158, 'profitable': 3750, 'less': 2817, 'annoying': 245, 'enterprise': 1630, 'meet': 3042, 'already': 195, 'rhythm': 4055, 'relationship': 3966, 'established': 1663, 'allude': 188, 'previous': 3718, 'unseen': 5205, 'adventures': 136, 'characters': 849, 'universe': 5190, 'trite': 5109, 'cliche': 922, 'casting': 805, 'lifts': 2844, 'beyond': 519, 'mundane': 3203, 'think': 4954, 'chemistry': 867, 'pull': 3788, 'make': 2967, 'fresh': 1998, 'fun': 2029, 'doubt': 1464, 'possession': 3661, 'expressive': 1737, 'brow': 684, 'sparkly': 4578, 'eyes': 1746, 'known': 2724, 'filmdom': 1854, 'subject': 4741, 'blog': 571, 'over': 3430, 'years': 5584, 'seems': 4263, 'name': 3221, 'comes': 979, 'whenever': 5444, 'talk': 4845, 'various': 5274, 'concepts': 1025, 'movies': 3192, 'suppose': 4780, 'approriate': 298, 'cite': 902, 'other': 3412, 'entries': 1635, 'performace': 3539, 'film': 1853, 'particularly': 3479, 'point': 3638, 'exception': 1695, 'titanic': 5013, 'haven': 2274, 'seen': 4264, 'although': 199, 'creeped': 1165, 'calm': 749, 'inaugurate': 2490, 'thank': 4922, '22': 29, 'october': 3347, '1999': 18, 'vestigion': 5292, 'darkness': 1242, 'crowds': 1183, 'against': 157, 'warm': 5371, 'living': 2879, 'parts': 3481, 'pushes': 3805, 'wet': 5433, 'hidden': 2336, 'keep': 2686, 'secret': 4246, 'red': 3933, 'probing': 3737, 'tongue': 5027, 'your': 5598, 'ear': 1538, 'lips': 2866, 'sliding': 4464, 'teasing': 4883, 'smothers': 4497, 'makes': 2968, 'cling': 931, 'each': 1535, 'seductive': 4255, 'black': 545, 'lace': 2731, 'sweat': 4808, 'pain': 3450, 'pleasure': 3622, 'sublime': 4742, 'torture': 5042, 'sometime': 4538, 'music': 3207, 'again': 156, 'oblivion': 3333, 'bottom': 621, 'bottomless': 622, 'cup': 1204, 'information': 2527, 'draw': 1481, 'breath': 647, 'strip': 4716, 'mining': 3100, 'raping': 3868, 'pertinent': 3555, 'details': 1360, 'exhaling': 1706, 'waste': 5384, 'filled': 1849, 'meaning': 3031, 'rubbing': 4116, 'sighing': 4400, 'wooing': 5529, 'coaxing': 953, 'breathing': 650, 'asking': 349, 'come': 978, 'its': 2615, 'call': 744, 'hang': 2239, 'share': 4334, 'shall': 4326, 'feel': 1809, '11': 3, 'january': 2626, '2000': 21, 'body': 594, 'work': 5532, 'behold': 493, 'read': 3894, 'bulky': 702, 'jagged': 2622, 'mine': 3097, 'definitive': 1310, 'cross': 1179, 'section': 4250, 'indelible': 2504, 'proof': 3764, 'therapy': 4940, 'drugs': 1511, 'bi': 520, 'polar': 3642, 'split': 4600, 'personality': 3552, 'borderline': 612, 'schizophrenia': 4207, 'order': 3401, 'broken': 677, 'pre': 3682, 'thoughts': 4970, 'microcosms': 3081, 'knowing': 2722, 'longer': 2902, '14': 7, 'lost': 2919, 'girl': 2102, 'child': 872, 'cried': 1170, 'answered': 250, 'light': 2845, 'left': 2807, 'fend': 1819, 'herself': 2330, 'looked': 2910, 'death': 1269, 'end': 1608, 'peace': 3513, 'chaotic': 847, 'silence': 4407, 'answer': 249, 'inside': 2545, 'near': 3234, 'hour': 2402, 'wolf': 5512, 'love': 2922, 'starved': 4643, 'gave': 2070, 'birth': 537, 'bitterness': 542, 'hate': 2266, 'trapped': 5082, 'suffering': 4759, 'screamed': 4221, 'mute': 3211, 'letting': 2826, 'trust': 5121, 'september': 4293, 'state': 4645, 'proverbial': 3776, 'record': 3932, 'events': 1674, 'san': 4166, 'antonio': 256, 'means': 3036, 'morally': 3156, 'legally': 2811, 'justifiably': 2676, 'firstly': 1874, 'wanted': 5366, 'secondly': 4243, 'needed': 3244, 'extreme': 1741, 'reasonable': 3916, 'rational': 3875, 'ends': 1613, 'acts': 111, 'exciting': 1697, 'wrong': 5565, 'played': 3614, 'dark': 1239, 'fiendish': 1836, 'side': 4396, 'simply': 4415, 'arrogance': 324, 'finished': 1865, 'either': 1572, 'august': 386, 'dying': 1531, 'trying': 5125, 'hard': 2251, 'pretend': 3713, 'fool': 1939, 'everyone': 1679, 'else': 1581, 'words': 5531, 'locked': 2890, 'won': 5518, 'hold': 2364, 'please': 3620, 'alone': 191, 'hurts': 2435, 'somebody': 4532, 'help': 2314, 'sleep': 4458, 'hurt': 2433, 'exhaust': 1707, 'double': 1463, 'happiness': 2247, 'anything': 263, 'completely': 1015, 'listen': 2869, 'attention': 379, 'sit': 4427, 'bed': 474, 'watch': 5387, '21': 28, 'mehe': 3048, 'nihil': 3284, 'soom': 4547, 'though': 4968, 'used': 5244, 'shy': 4391, 'lonely': 2899, '18': 13, 'yet': 5591, 'clinging': 932, 'childhood': 874, 'anger': 230, 'embracing': 1592, 'teen': 4888, 'rebellion': 3919, 'gathering': 2069, 'courage': 1129, 'training': 5073, 'preparing': 3701, 'teaching': 4876, 'forcing': 1947, 'become': 470, 'sum': 4765, 'foundations': 1977, 'ruins': 4126, 'build': 696, 'top': 5034, 'rubble': 4118, 'restless': 4038, 'spirit': 4597, 'bad': 425, 'proverbially': 3777, 'sow': 4570, 'wild': 5478, 'oats': 3331, 'first': 1873, 'countless': 1125, 'miles': 3089, 'terrible': 4914, 'searing': 4237, 'agonies': 163, 'rape': 3865, 'homelessness': 2374, 'jail': 2623, 'realize': 3907, 'lift': 2842, 'clear': 918, 'lay': 2779, 'solid': 4524, 'groundwork': 2192, 'formulas': 1964, 'forte': 1967, 'went': 5427, 'built': 700, 'tower': 5058, 'poured': 3673, 'foundation': 1976, 'grew': 2180, 'wants': 5369, 'suffer': 4758, 'sorrow': 4553, 'especially': 1659, 'long': 2900, 'purpose': 3802, 'learning': 2798, 'horror': 2393, 'crisis': 1174, 'fire': 1867, 'boundary': 626, 'break': 641, 'month': 3148, 'realized': 3908, 'learn': 2795, 'good': 2140, 'carry': 796, 'always': 203, 'became': 468, 'age': 159, 'remember': 3982, 're': 3886, 'happiest': 2245, 'saddest': 4147, 'fine': 1859, 'eveything': 1683, 'joy': 2662, 'smile': 4484, 'follow': 1933, 'perhaps': 3541, 'importantly': 2479, 'leave': 2801, 'underwear': 5173, 'bus': 715, 'unbroken': 5160, 'tame': 4851, 'unbridled': 5159, 'fettered': 1826, 'smirk': 4488, 'headstrong': 2285, 'laugh': 2771, 'face': 1749, 'soft': 4519, 'womanly': 5515, 'needs': 3246, 'ankles': 242, 'pains': 3454, 'scars': 4200, 'ridicule': 4062, 'jest': 2637, 'maliciousness': 2973, 'limits': 2855, 'turns': 5138, 'keeps': 2688, 'ending': 1610, 'story': 4696, 'price': 3720, 'pay': 3506, 'knowledge': 2723, 'shackles': 4318, 'responsibility': 4034, 'rattle': 3876, 'chains': 833, 'bridle': 662, 'gentle': 2083, 'strong': 4720, 'delicate': 1315, 'steely': 4659, 'warrior': 5378, 'heart': 2294, 'tattered': 4870, 'frayed': 1987, 'bloody': 581, 'scarred': 4199, 'stubbornly': 4727, 'continues': 1071, 'beat': 463, 'itself': 2616, 'sundered': 4771, 'battlefield': 453, 'matters': 3021, 'mountains': 3180, 'oceans': 3345, 'forests': 1950, 'deserts': 1338, 'heaven': 2301, 'wise': 5497, 'naive': 3219, 'march': 2996, 'cool': 1091, 'subtle': 4746, 'bold': 596, 'tactful': 4833, 'brash': 637, 'smooth': 4494, 'suave': 4740, 'uncouth': 5164, 'sun': 4769, 'moon': 3151, 'stars': 4636, 'void': 5326, 'worst': 5542, 'nemesis': 3251, 'dearest': 1268, 'lover': 2924, 'harshest': 2262, 'critic': 1176, 'tragic': 5069, 'seer': 4266, 'look': 2909, 'mirror': 3106, 'reflection': 3944, 'taunting': 4871, 'vague': 5256, 'shiftlessness': 4352, 'tender': 4903, 'seeing': 4258, 'truth': 5122, 'wishes': 5501, 'deeper': 1295, 'hints': 2352, 'longing': 2904, 'delusion': 1318, 'bittersweet': 543, 'dream': 1485, 'touch': 5048, 'skin': 4449, 'flushed': 1922, 'heated': 2300, 'beneath': 507, 'fingers': 1863, 'sticky': 4668, 'agaunst': 158, 'legs': 2813, 'tone': 5026, 'arms': 318, 'wrapped': 5553, 'tight': 4998, 'blood': 578, 'beathing': 464, 'rythym': 4139, 'merely': 3068, 'behind': 492, 'sensuous': 4282, 'neither': 3249, 'nor': 3300, 'moment': 3138, 'float': 1909, 'sound': 4564, 'exist': 1709, 'turning': 5137, 'flowing': 1917, 'notes': 3308, 'caress': 790, 'breeze': 653, 'cooling': 1094, 'fooling': 1940, 'such': 4751, 'sweet': 4811, 'repose': 4004, 'drifting': 1497, 'mind': 3095, 'landscapes': 2749, 'serenity': 4294, 'rising': 4076, 'higher': 2341, 'wanting': 5367, 'nestled': 3255, 'among': 213, 'worlds': 5537, 'sure': 4784, 'absolute': 77, 'bliss': 566, 'rest': 4036, 'february': 1804, 'jungle': 2670, 'ones': 3376, 'horrors': 2394, 'thorny': 4965, 'grove': 2195, 'decadent': 1274, 'decay': 1275, 'lies': 2835, 'matter': 3020, 'seat': 4240, 'base': 443, 'madness': 2958, 'origin': 3405, 'sickly': 4394, 'humid': 2421, 'fright': 2005, 'reader': 3896, 'friendly': 2002, 'energy': 1615, 'transcribe': 5077, 'stuff': 4734, 'bear': 458, 'far': 1782, 'awful': 410, 'case': 801, 'acid': 99, 'reflux': 3945, 'short': 4368, 'comment': 989, 'poems': 3635, 'writings': 5563, 'witchylass': 5503, 'hotmail': 2400, 'com': 976, 'anyway': 264, 'rid': 4058, 'eaten': 1552, 'ttfn': 5126, '10': 0, 'swear': 4807, 'certain': 830, 'ennui': 1626, 'trickling': 5103, 'languid': 2751, 'viewing': 5303, 'perception': 3533, 'world': 5536, 'worries': 5539, 'almost': 190, 'situation': 4433, 'originates': 3408, 'whole': 5461, 'fell': 1815, 'away': 407, 'exhaled': 1704, 'forced': 1946, 'city': 904, 'construction': 1056, 'razed': 3883, 'old': 3370, 'rebuilt': 3923, 'using': 5248, 'indestructable': 2505, 'materials': 3018, 'oak': 3330, 'power': 3674, 'bend': 505, 'willow': 5482, 'offer': 3355, 'shelter': 4348, 'storms': 4694, 'fanciful': 1776, 'metaphor': 3077, 'changed': 842, 'values': 5265, 'perceptions': 3534, 'space': 4571, 'maybe': 3024, 'verbosity': 5285, 'irreverence': 2599, 'atlanta': 371, 'tearjerking': 4881, 'inciting': 2492, 'anguishing': 236, 'lifetime': 2840, 'movie': 3190, 'nearly': 3236, 'true': 5119, 'paralyzing': 3469, 'fork': 1956, 'fillings': 1851, 'tasting': 4869, 'terror': 4915, 'three': 4974, 'days': 1260, 'contact': 1060, 'outside': 3427, 'shattered': 4340, 'homeless': 2373, 'friendless': 2001, 'penniless': 3527, 'phone': 3564, 'numbers': 3323, 'clothes': 945, 'push': 3804, 'capable': 772, 'breaking': 644, 'swallowed': 4804, 'pride': 3723, 'given': 2106, 'spark': 4573, 'dignity': 1393, 'broke': 676, 'boundaries': 625, 'crumbling': 1190, 'renovated': 3995, 'finally': 1856, 'childish': 875, 'trappings': 5083, 'preaching': 3684, 'gods': 2130, 'enough': 1627, 'guess': 2203, 'tempting': 4900, 'drop': 1506, 'pillow': 3585, 'eternal': 1666, 'sucks': 4755, 'happening': 2243, 'feels': 1812, 'sex': 4313, 'couldn': 1120, 'begin': 486, 'infinitely': 2523, 'potential': 3669, 'fulfill': 2024, 'worth': 5543, 'november': 3315, 'flip': 1905, 'hair': 2221, 'breakdown': 642, 'ruined': 4125, 'date': 1250, 'silent': 4408, 'screams': 4223, 'bleeding': 556, 'wounds': 5549, 'healed': 2287, 'nails': 3218, 'jog': 2648, 'block': 569, 'upper': 5228, 'class': 914, 'suburbia': 4747, 'tracks': 5066, 'trodden': 5113, 'struggle': 4724, 'feed': 1806, 'children': 876, 'dodge': 1443, 'bullets': 704, 'school': 4209, 'worry': 5540, 'dear': 1267, 'expect': 1714, 'except': 1694, 'gleeful': 2114, 'laughter': 2774, 'inevitable': 2514, 'happens': 2244, 'tumble': 5130, 'slick': 4463, 'pedestal': 3519, 'dementia': 1320, 'december': 1280, 'sovereignty': 4569, 'mistress': 3121, 'master': 3013, 'key': 2692, 'lock': 2889, 'resides': 4019, 'made': 2957, 'star': 4629, 'control': 1079, 'destiny': 1352, 'eternity': 1667, 'fused': 2037, 'flesh': 1897, 'sinew': 4419, 'bone': 601, 'divine': 1433, 'upon': 5227, 'throne': 4979, 'scone': 4214, 'royal': 4114, 'fiant': 1831, 'bind': 531, 'commands': 988, 'high': 2340, 'queen': 3816, 'sorceress': 4552, 'kin': 2704, 'dragon': 1475, 'razor': 3884, 'verge': 5286, 'continual': 1067, 'disaster': 1408, 'sovereign': 4568, 'mistakes': 3119, 'bring': 669, 'straight': 4697, 'rule': 4127, 'forewarned': 1953, 'forearmed': 1948, 'sometimes': 4539, 'easier': 1547, 'majority': 2966, 'postings': 3668, 'transcriptions': 5078, 'journals': 2658, 'essays': 1661, 'snatches': 4504, 'stories': 4691, 'sme': 4480, 'writing': 5562, 'naturally': 3230, 'oftentimes': 3364, 'permanent': 3545, 'residence': 4017, 'those': 4967, 'scribbling': 4228, 'bibblings': 521, 'mozart': 3194, 'choose': 881, 'tarnished': 4863, 'stolen': 4681, 'destroyed': 1354, 'fit': 1875, 'adolescent': 130, 'temper': 4896, 'goal': 2126, 'two': 5151, 'fold': 1928, 'wish': 5499, 'chronological': 889, 'least': 2799, 'save': 4181, 'remembered': 3983, 'greatest': 2176, 'fear': 1796, 'forgotten': 1955, 'fade': 1755, 'dust': 1528, 'return': 4040, 'medium': 3041, 'assuage': 361, 'somewhat': 4540, 'poem': 3634, 'assured': 366, 'preface': 3692, 'original': 3406, 'beforehand': 481, 'bid': 524, 'adieu': 123, 'welcome': 5424, 'letter': 2824, 'detailing': 1359, 'slings': 4469, 'arrows': 326, 'outrageous': 3425, 'fortune': 1970, 'chosen': 886, 'throw': 4982, 'ever': 1676, 'opportunity': 3391, 'grow': 2196, 'fully': 2028, 'truly': 5120, 'pontifications': 3651, 'write': 5557, '31': 41, '2001': 23, 'comissioned': 985, 'friend': 2000, 'lifetimes': 2841, 'revisions': 4050, 'posted': 3666, 'dreams': 1489, 'spins': 4596, 'shadow': 4321, 'becomes': 471, 'lessons': 2819, 'slips': 4473, 'outward': 3428, 'infinity': 2525, 'faces': 1750, 'wear': 5402, 'masks': 3009, 'facets': 1752, 'ourselves': 3418, 'blinding': 562, 'blind': 561, 'our': 3416, 'existence': 1711, 'linger': 2862, 'shadows': 4323, 'gravity': 2171, 'blank': 551, 'sheet': 4346, 'lined': 2859, 'paper': 3465, 'intimidating': 2581, 'compelled': 1005, 'open': 3384, 'notebook': 3307, 'clam': 910, 'twisted': 5148, 'version': 5287, 'performance': 3540, 'anxiety': 257, 'fails': 1763, 'unfulfilled': 5183, 'taking': 4841, 'cosmic': 1113, 'test': 4916, 'merit': 3069, 'intelligence': 2562, 'inevitably': 2515, 'fail': 1760, 'roast': 4082, 'beef': 477, 'sandwich': 4168, 'absolutely': 78, 'wonderful': 5521, 'nobody': 3293, 'shoes': 4362, 'deal': 1264, 'integrate': 2560, 'shared': 4335, 'defines': 1307, 'individually': 2508, 'frustrating': 2016, 'same': 4163, 'explained': 1721, 'copying': 1098, 'under': 5167, 'finely': 1860, 'precisely': 3689, 'keenly': 2685, 'variations': 5272, 'tub': 5127, 'bent': 511, 'spray': 4605, 'showering': 4378, 'water': 5392, 'hand': 2227, 'tendons': 4905, 'flexing': 1899, 'veins': 5283, 'bubbling': 692, 'surface': 4786, 'aesthetic': 139, 'beauty': 467, 'wonder': 5519, 'running': 4134, 'wrap': 5552, 'blanket': 552, 'denial': 1326, 'sept': 4292, 'oct': 3346, 'access': 86, 'fall': 1768, 'teach': 4874, 'fullness': 2026, 'revere': 4046, 'precious': 3687, 'gems': 2078, 'glitters': 2118, 'gold': 2133, 'worthwile': 5544, 'thieving': 4950, 'deceiver': 1279, 'tightropes': 5000, 'treacherously': 5090, 'pipe': 3591, 'phantom': 3560, 'hopes': 2385, 'glittering': 2117, 'brightly': 666, 'waiting': 5344, 'snatched': 4503, 'diamonds': 1379, 'forever': 1951, 'soon': 4548, 'whithers': 5458, 'flashing': 1891, 'dangling': 1235, 'prisms': 3732, 'rainbow': 3850, 'colours': 975, 'walls': 5358, 'icy': 2441, 'talons': 4850, 'eager': 1536, 'rip': 4071, 'shred': 4382, 'tear': 4879, 'sapphires': 4173, 'sparkle': 4576, 'tears': 4882, 'deepen': 1294, 'obsidian': 3339, 'flakes': 1885, 'chipping': 877, 'runs': 4135, 'rubies': 4119, 'fevered': 1827, 'attempts': 376, 'self': 4268, 'preservation': 3706, 'treasure': 5093, 'chest': 870, '16': 10, 'pencil': 3523, 'god': 2127, 'damn': 1226, 'stand': 4625, 'abide': 69, 'erasing': 1650, 'permanence': 3544, 'ink': 2535, 'starkness': 4634, 'jelly': 2634, 'roll': 4094, 'styling': 4739, 'pens': 3528, 'writer': 5558, 'attempting': 375, 'catch': 810, 'edit': 1560, 'rework': 4052, 'captured': 780, 'happened': 2242, 'erase': 1649, 'encapsulate': 1603, 'grammar': 2163, 'buggery': 695, 'supposed': 4781, 'use': 5243, 'implies': 2476, 'fleeting': 1896, 'temporary': 4897, 'meant': 3037, 'faded': 1756, 'inconstant': 2499, 'easily': 1548, 'marred': 3001, 'ahead': 170, 'physical': 3572, 'paragraphs': 3467, 'third': 4958, 'fast': 1787, 'starts': 4640, 'thin': 4951, 'distinct': 1425, 'sharp': 4337, 'crisp': 1175, 'thinness': 4957, 'flattens': 1893, 'fat': 1789, 'lazy': 2786, 'yourself': 5601, 'pushing': 3806, 'harder': 2253, 'holding': 2365, 'wierd': 5476, 'angles': 232, 'readable': 3895, 'letters': 2825, 'penmanship': 3526, 'falters': 1771, 'level': 2827, 'frustration': 2017, 'grows': 2198, 'exponentially': 1734, 'indistinct': 2507, 'bullshit': 705, 'often': 3363, 'redundancy': 3939, 'smudging': 4498, 'graphite': 2167, 'note': 3306, 'centered': 825, 'unfortunately': 5181, 'blogger': 572, 'feature': 1800, 'figured': 1843, 'wicca': 5469, 'phallus': 3559, 'womb': 5516, 'fertility': 1820, 'religion': 3975, 'invoke': 2592, 'goddess': 2128, 'earthly': 1545, 'form': 1958, 'air': 173, 'strength': 4710, 'stone': 4683, 'circle': 898, 'opens': 3388, 'coven': 1138, 'unites': 5189, 'tantric': 4856, 'dance': 1230, 'fearless': 1798, 'careless': 789, 'invocation': 2591, 'completed': 1014, 'praise': 3679, 'spells': 4589, 'cast': 804, 'awed': 408, 'thanked': 4923, 'seeds': 4257, 'offered': 3356, 'closes': 943, 'persecution': 3549, 'burning': 713, 'hanging': 2240, 'ignorance': 2450, 'hatred': 2268, 'reigns': 3960, 'magic': 2959, 'loss': 2918, 'dispersion': 1421, 'secrecy': 4245, 'solitary': 4525, 'practices': 3678, 'discovery': 1412, 'careful': 787, 'steps': 4663, 'offerings': 3357, 'desires': 1344, 'coupling': 1128, 'praises': 3680, 'veil': 5280, 'disguise': 1417, 'remains': 3980, 'step': 4661, 'courageous': 1130, 'reunite': 4041, 'forms': 1963, 'begins': 488, 'smothered': 4496, 'festering': 1821, 'blackened': 547, 'hearts': 2298, 'reborn': 3921, 'wheel': 5441, 'anew': 228, 'remain': 3978, 'sacred': 4143, 'covens': 1139, 'formed': 1961, 'circles': 899, 'blessed': 559, 'mote': 3169, '1995': 16, 'cigarette': 894, 'sat': 4177, 'dock': 1438, 'jeans': 2633, 'nin': 3285, 'shirt': 4357, 'murky': 3205, 'depths': 1334, 'psyche': 3782, 'statue': 4649, 'guys': 2211, 'drove': 1508, 'pretty': 3715, 'knee': 2716, 'pulled': 3789, 'arm': 316, 'leg': 2809, 'dangled': 1234, 'notice': 3312, 'surroundings': 4798, 'preoccupied': 3698, 'mental': 3060, 'introspection': 2584, 'care': 785, 'anymore': 261, 'quoth': 3839, 'raven': 3879, 'nevermore': 3263, 'track': 5065, 'slowly': 4476, 'lets': 2823, 'focus': 1925, 'green': 2179, 'colorfully': 972, 'oily': 3367, 'covering': 1142, 'delicately': 1316, 'reaches': 3889, 'pocket': 3633, 'draws': 1484, 'slender': 4462, 'lighter': 2846, 'carefully': 788, 'lights': 2848, 'large': 2756, 'nicotine': 3276, 'drag': 1474, 'replaces': 4001, 'watches': 5389, 'blows': 586, 'noticing': 3314, 'swirls': 4819, 'inconsistencies': 2498, 'patterns': 3503, 'languidly': 2752, 'flicks': 1902, 'ash': 343, 'try': 5124, 'stay': 4650, 'afloat': 147, 'paradox': 3466, 'cry': 1194, 'focuses': 1926, 'remaining': 3979, 'smoking': 4492, 'lays': 2782, 'enjoying': 1622, 'wooden': 5527, 'planks': 3603, 'addiction': 119, 'guaranteeing': 2201, 'exhales': 1705, 'sensuously': 4283, 'deep': 1293, 'term': 4910, 'sense': 4278, 'cigarete': 893, 'undivided': 5175, 'act': 103, 'sucking': 4754, 'blowing': 585, 'art': 330, 'french': 1996, 'inhaling': 2530, 'kiss': 2710, 'briefly': 664, 'refocuses': 3946, 'calming': 750, 'polluted': 3646, 'waters': 5393, 'hindsight': 2350, 'bridge': 661, 'burned': 712, 'barely': 440, 'audible': 382, 'sigh': 4399, 'escae': 1657, 'parted': 3477, 'seeps': 4265, 'corner': 1104, 'eye': 1744, 'salty': 4160, 'sorrowful': 4554, 'determined': 1363, '27': 38, 'madame': 2956, 'bovary': 628, 'lovers': 2925, 'thereby': 4942, 'spill': 4593, 'passion': 3489, 'real': 3902, 'existed': 1710, 'comfortably': 981, 'numb': 3320, 'word': 5530, 'virginal': 5310, 'add': 116, 'mature': 3022, 'borne': 616, 'purely': 3800, 'bits': 540, 'pieces': 3582, 'created': 1156, 'breathed': 649, 'apart': 267, 'elevate': 1576, 'godhood': 2129, 'chooses': 882, 'once': 3374, 'answers': 251, 'questions': 3822, 'dare': 1237, 'create': 1155, 'creations': 1160, 'protected': 3769, 'nurtured': 3325, 'torment': 5038, 'lamentation': 2743, '13': 6, 'recent': 3925, 'silly': 4410, 'kind': 2705, 'cute': 1216, 'sleepy': 4460, 'nap': 3224, 'raining': 3851, 'curl': 1205, 'sky': 4453, 'gray': 2172, 'oppressing': 3393, 'shadowy': 4324, 'curtains': 1211, 'sheets': 4347, 'fluffy': 1919, 'blankets': 553, 'egg': 1567, 'crate': 1151, 'foam': 1924, 'underneath': 5170, 'cozy': 1144, 'inviting': 2590, 'doorway': 1461, 'land': 2745, 'cat': 807, 'resting': 4037, 'lolling': 2896, 'luxuriating': 2946, 'fitting': 1877, 'cracked': 1145, 'close': 940, 'purring': 3803, 'drift': 1496, 'morpheus': 3163, 'lair': 2737, 'floating': 1911, 'oddest': 3349, 'series': 4295, 'destroy': 1353, 'sits': 4431, 'uneasily': 5177, 'alison': 180, 'powers': 3676, 'devil': 1369, 'attractive': 381, 'losing': 2917, 'await': 403, 'david': 1255, 'huge': 2416, 'fight': 1839, 'function': 2030, 'called': 745, 'alluring': 189, 'captivating': 778, 'pleaded': 3618, 'agreed': 166, 'alarm': 175, 'woke': 5511, 'describe': 1335, 'afterwards': 155, 'dreaming': 1488, 'keith': 2689, 'upcoming': 5219, 'symbolically': 4823, 'warning': 5376, 'passed': 3486, 'however': 2409, 'affected': 142, 'imagine': 2461, 'awhile': 411, '17': 12, 'passes': 3487, 'aware': 406, 'killed': 2698, 'choking': 880, 'tedious': 4886, 'gagging': 2044, 'inconsequential': 2497, 'counting': 1124, 'seconds': 4244, 'slithers': 4474, 'leaving': 2803, 'empty': 1602, 'passing': 3488, '30': 40, 'personal': 3551, 'observations': 3336, 'insane': 2542, 'sanity': 4171, 'unable': 5157, 'consumed': 1057, 'admit': 128, 'defeat': 1298, 'overtake': 3434, 'fly': 1923, 'soar': 4510, 'above': 75, 'current': 1207, 'blow': 584, 'flow': 1915, 'twist': 5147, 'mold': 3135, 'dirt': 1403, 'anonymous': 247, 'tried': 5104, 'turned': 5136, 'told': 5020, 'blade': 550, 'defend': 1301, 'led': 2805, 'slaughter': 4456, 'shame': 4328, 'ounce': 3415, 'yours': 5600, 'held': 2311, 'isn': 2605, 'dated': 1251, 'consoling': 1051, 'bubble': 690, 'bath': 448, 'soothing': 4551, 'sherry': 4349, 'sipped': 4425, 'warming': 5372, 'indulging': 2509, 'refusing': 3952, 'certainly': 831, 'resign': 4020, 'melancholy': 3049, 'solitude': 4526, 'aloneness': 192, 'peaceful': 3514, 'win': 5484, 'haiku': 2220, 'wrote': 5568, 'sister': 4426, 'autumnal': 394, 'wind': 5485, 'gently': 2084, 'locks': 2891, 'nearing': 3235, 'farewell': 1783, 'haunts': 2272, 'wolfie': 5513, 'mass': 3011, 'presided': 3707, 'apropos': 302, 'solemnity': 4523, 'mourned': 3182, 'ashen': 344, 'crumbled': 1188, 'hovered': 2406, 'pregnant': 3696, 'accusation': 94, 'further': 2036, 'admission': 127, 'laziness': 2785, 'weak': 5399, 'carried': 794, 'reality': 3905, 'shoulders': 4373, 'wouldn': 5547, 'crumble': 1187, 'mired': 3105, 'drowning': 1509, 'deeply': 1297, 'embedded': 1589, 'detached': 1356, 'yearn': 5581, 'meld': 3050, 'smoothly': 4495, 'ins': 2541, 'tead': 4877, 'forth': 1968, 'resources': 4028, 'limited': 2854, 'achieve': 97, 'fluidity': 1921, 'believe': 497, 'happen': 2241, 'lethargy': 2822, 'weariness': 5403, 'increasing': 2500, 'desire': 1343, 'resigning': 4023, 'exhausting': 1708, 'begun': 490, 'century': 828, 'pen': 3522, 'changes': 843, 'started': 4638, 'wake': 5345, 'motions': 3174, 'holes': 2368, 'shirts': 4358, 'looks': 2912, 'amends': 209, 'wrongs': 5567, 'july': 2664, 'front': 2011, 'group': 2193, 'goodly': 2144, 'amount': 215, 'applause': 284, 'biggest': 527, 'proud': 3773, 'gawky': 2072, 'ungainly': 5184, 'early': 1541, 'expose': 1735, 'autopsy': 393, 'planets': 3602, 'aligned': 179, 'crystal': 1198, 'ogra': 3365, 'jareth': 2628, 'maze': 3025, 'hercules': 2324, 'xena': 5571, 'begged': 484, 'slave': 4457, 'ares': 312, 'compassion': 1003, 'sincerely': 4418, 'wondering': 5522, 'complain': 1010, 'ginseng': 2101, 'keeping': 2687, 'nodding': 3295, 'link': 2864, 'luck': 2932, 'calls': 748, 'kick': 2693, 'screener': 4226, 'jobs': 2645, 'amazing': 205, 'assumptions': 364, 'sight': 4401, 'disregard': 1422, 'presented': 3704, 'lambs': 2741, 'eagerly': 1537, 'bible': 522, 'herd': 2325, 'animals': 240, 'republicans': 4008, 'helping': 2318, 'sodomize': 4518, 'gleefully': 2115, 'government': 2155, 'urging': 5236, 'painful': 3452, 'torturous': 5044, 'polluting': 3647, 'destroying': 1355, 'dreamed': 1487, 'pale': 3460, 'horse': 2395, 'talked': 4846, 'gesticulated': 2089, 'didn': 1384, 'dreamt': 1490, 'thick': 4947, 'nectar': 3242, 'uncles': 5162, 'stopped': 4688, 'tiny': 5008, 'phrase': 3570, 'construct': 1055, 'depth': 1333, 'perfection': 3537, 'imagination': 2460, 'heroes': 2328, 'whom': 5463, 'enternally': 1629, 'bonded': 598, 'speak': 4580, 'ours': 3417, 'romantic': 4096, 'justification': 2677, 'paths': 3498, 'ultimately': 5155, 'seperate': 4288, 'intertwined': 2579, 'respect': 4029, 'embark': 1586, 'journey': 2659, 'carve': 800, 'niche': 3275, 'heed': 2306, 'calling': 747, 'flare': 1888, 'brilliant': 668, 'heard': 2292, 'sorry': 4556, 'actions': 107, 'decisions': 1285, 'shine': 4355, 'selfish': 4269, 'sounds': 4566, 'understand': 5171, 'necessary': 3239, 'standing': 4627, 'drama': 1480, 'transcendance': 5075, 'material': 3017, 'knows': 2725, 'catalyst': 808, 'safe': 4153, 'excited': 1696, 'future': 2040, 'challenged': 836, 'esteemed': 1664, 'forsaking': 1966, 'ignoring': 2453, 'present': 3703, 'ill': 2454, 'coming': 984, 'justified': 2678, 'blackest': 548, 'poetry': 3637, 'blackness': 549, 'healthy': 2290, 'taste': 4866, 'denying': 1327, 'hadn': 2218, 'stupidest': 4737, 'mistake': 3118, 'plunged': 3630, 'path': 3496, 'stupid': 4736, 'funny': 2035, 'slap': 4455, 'wrist': 5556, 'hey': 2334, 'freedom': 1991, 'straighten': 4698, 'attend': 377, 'amounting': 216, 'karma': 2682, 'swift': 4815, 'generally': 2080, 'painless': 3453, 'snags': 4500, 'tangles': 4854, 'paying': 3507, 'complacent': 1009, 'irony': 2597, 'shaded': 4319, 'blue': 587, 'fault': 1793, 'wonderous': 5523, 'glorious': 2122, 'tale': 4842, 'unwavering': 5217, 'devotion': 1373, 'friendship': 2004, 'heartbreak': 2296, 'tragedy': 5068, 'trial': 5100, 'sacrifice': 4144, 'particular': 3478, 'endings': 1611, 'survival': 4799, 'midst': 3085, 'reach': 3887, 'seperatist': 4291, 'steel': 4658, 'pressing': 3711, 'welling': 5426, 'biblical': 523, 'apple': 285, 'washed': 5381, 'window': 5486, 'neck': 3241, 'caressing': 792, 'isis': 2603, 'leading': 2789, 'astray': 367, 'knees': 2717, 'giving': 2108, 'demanded': 1319, 'undeniably': 5166, 'jealous': 2632, 'nightmare': 3281, 'april': 301, 'popped': 3656, 'context': 1066, 'flowed': 1916, 'surely': 4785, 'swept': 4814, 'die': 1385, 'elysium': 1583, 'fields': 1834, 'stood': 4686, 'transfixed': 5080, 'colors': 973, 'bloom': 582, 'closed': 941, 'opened': 3385, 'shape': 4330, 'drew': 1495, 'peacefulness': 3515, 'reached': 3888, 'pluck': 3626, 'sprig': 4608, 'mint': 3101, 'ground': 2190, 'setting': 4305, 'lusted': 2944, 'loved': 2923, 'cursed': 1209, 'bled': 554, 'stronger': 4721, 'shadowed': 4322, 'moonless': 3152, 'search': 4232, 'cries': 1171, 'infant': 2519, 'innocence': 2538, 'moan': 3127, 'core': 1102, 'bloodlust': 580, 'timeless': 5005, 'feedings': 1807, 'unsure': 5209, 'grr': 2199, 'desperate': 1348, 'questing': 3820, 'vigil': 5305, 'waking': 5346, 'corners': 1105, 'comfortable': 980, 'loose': 2914, 'threads': 4973, 'raveled': 3878, 'undefined': 5165, 'stitch': 4679, 'design': 1341, 'watchful': 5390, 'undiscovered': 5174, 'flows': 1918, 'searching': 4235, 'elusive': 1582, 'futile': 2039, 'longed': 2901, 'foolish': 1941, 'searched': 4233, 'hide': 2337, 'release': 3970, 'proved': 3775, 'captive': 779, 'shut': 4389, 'misguided': 3110, 'fought': 1973, 'miss': 3113, 'forest': 1949, 'trees': 5097, 'june': 2669, 'failure': 1764, 'sustain': 4803, 'darkest': 1241, 'dawn': 1256, 'afire': 146, 'crests': 1169, 'horizon': 2387, 'frozen': 2014, 'passage': 3485, 'winds': 5488, 'war': 5370, 'bury': 714, 'low': 2928, 'saving': 4183, 'gallant': 2049, 'knight': 2719, 'waving': 5395, 'slience': 4465, 'lifeless': 2837, 'cold': 964, 'sword': 4821, 'slow': 4475, 'failed': 1761, 'piece': 3581, 'neatly': 3238, 'coded': 957, 'convergance': 1084, 'molecular': 3136, 'structures': 4723, 'action': 106, 'deed': 1291, 'sentence': 4285, 'consciousness': 1044, 'smell': 4481, 'yearning': 5583, 'hunger': 2426, 'electricity': 1574, 'nexus': 3270, 'resistance': 4024, 'harbor': 2249, 'stormy': 4695, 'seas': 4238, 'consoler': 1050, 'buried': 709, 'cynicism': 1220, 'quester': 3819, 'complacency': 1008, 'audience': 383, 'hint': 2351, 'approval': 299, 'exposing': 1736, 'secrets': 4249, 'perusal': 3556, 'dive': 1431, 'poison': 3641, 'exploding': 1726, 'chambers': 837, 'willing': 5480, 'overdose': 3431, 'treacherous': 5089, 'beg': 482, 'run': 4130, 'firmly': 1872, 'grounded': 2191, 'thrown': 4983, 'wave': 5394, 'wide': 5472, 'teeth': 4891, 'shivering': 4361, 'jaw': 2629, 'excstasy': 1698, 'headfirst': 2281, 'crysania': 1197, 'conclusion': 1027, 'possible': 3663, 'stalked': 4623, 'figment': 1841, 'trailers': 5071, 'flashes': 1890, 'visuals': 5321, 'amused': 220, 'discomfort': 1410, 'confusion': 1039, 'arousal': 320, 'aroused': 322, 'nipples': 3289, 'warmth': 5373, 'speed': 4587, 'internally': 2575, 'streets': 4709, 'hear': 2291, 'chuckle': 890, 'faster': 1788, 'hunter': 2430, 'reveling': 4045, 'prey': 3719, 'hunted': 2429, 'trip': 5106, 'interesting': 2573, 'buildings': 699, 'streaking': 4706, 'wetness': 5434, 'aching': 98, 'cut': 1215, 'glass': 2112, 'alley': 184, 'catching': 811, 'wall': 5354, 'support': 4779, 'heartbeat': 2295, 'jesus': 2638, 'caught': 813, 'chasing': 855, 'hands': 2236, 'slip': 4470, 'damp': 1229, 'thud': 4986, 'flash': 1889, 'triumphant': 5111, 'ice': 2439, 'groaned': 2185, 'exert': 1703, 'hallucination': 2224, 'yank': 5577, 'roughly': 4108, 'pins': 3589, 'laughs': 2773, 'realizing': 3909, 'encounter': 1606, 'mixes': 3125, 'paralyzed': 3468, 'kisses': 2712, 'barrier': 442, 'clenched': 921, 'twining': 5146, 'studded': 4729, 'danger': 1232, 'throbbing': 4978, 'spurs': 4614, 'releases': 3971, 'immediately': 2471, 'breasts': 646, 'ripe': 4072, 'tracing': 5064, 'outline': 3424, 'nipple': 3288, 'rings': 4069, 'crotch': 1180, 'torturing': 5043, 'tongues': 5028, 'penetrate': 3525, 'writhe': 5560, 'begging': 485, 'effort': 1566, 'damnable': 1227, 'farther': 1784, 'plaid': 3598, 'skirt': 4451, 'travel': 5086, 'peeling': 3521, 'labia': 2728, 'thrust': 4985, 'hole': 2367, 'dart': 1245, 'flicking': 1901, 'clit': 938, 'swollen': 4820, 'pink': 3588, 'pounding': 3672, 'whose': 5466, 'tasted': 4867, 'tang': 4852, 'pulling': 3790, 'whimper': 5451, 'toy': 5063, 'ben': 502, 'staring': 4633, 'meadow': 3028, 'saw': 4186, 'laughing': 2772, 'kissing': 2713, 'milling': 3092, 'quasi': 3815, 'punk': 3795, 'rock': 4087, 'overhead': 3432, 'talks': 4848, 'remembering': 3984, 'sting': 4672, 'fangs': 1778, 'ecstasy': 1555, 'font': 1937, 'fountain': 1978, 'youth': 5602, 'coppery': 1096, 'ambrosia': 207, 'forevermore': 1952, 'kissed': 2711, 'afterward': 154, 'awoke': 413, 'vampire': 5266, 'spoken': 4601, 'dinner': 1395, 'amidst': 212, 'hunting': 2431, 'joining': 2651, 'observing': 3337, 'great': 2174, 'leather': 2800, 'trench': 5098, 'pony': 3652, 'tailed': 4836, 'blond': 577, 'clink': 935, 'natural': 3229, 'roar': 4081, 'pulsing': 3792, 'works': 5535, 'copyrighted': 1100, 'reserved': 4016, 'pure': 3799, 'fiction': 1832, 'scraped': 4217, 'leftovers': 2808, 'raucous': 3877, 'teens': 4890, 'stages': 4620, 'rebellious': 3920, 'rantings': 3864, 'ski': 4446, 'caps': 776, 'wallet': 5355, 'mohawks': 3132, 'abundance': 80, 'quiet': 3827, 'dressed': 1494, 'somberly': 4530, 'untucked': 5215, 'button': 725, 'occasionally': 3343, 'mingle': 3098, 'enjoyable': 1620, 'company': 1000, 'tonight': 5029, 'ebb': 1553, 'laced': 2732, 'somehow': 4534, 'vaguely': 5257, 'distorted': 1426, 'eyeing': 1745, 'glimpse': 2116, 'vision': 5315, 'leaning': 2792, 'wallflower': 5356, 'mural': 3204, 'clouds': 946, 'exactly': 1688, 'imagined': 2462, 'might': 3086, 'earlier': 1540, 'starting': 4639, 'tall': 4849, 'lanky': 2753, 'lithe': 2873, 'inhuman': 2532, 'hallucinogenically': 2225, 'enhanced': 1618, 'bother': 619, 'stare': 4632, 'crowd': 1181, 'unobstructed': 5198, 'view': 5300, 'drinking': 1500, 'lighting': 2847, 'goths': 2152, 'creatures': 1163, 'malnourished': 2976, 'shaped': 4331, 'full': 2025, 'reminds': 3987, 'actress': 110, 'angelina': 229, 'jolie': 2653, 'determine': 1362, 'color': 970, 'cheekbones': 862, 'ears': 1543, 'avoiding': 401, 'hers': 2329, 'impossibly': 2481, 'floor': 1913, 'drops': 1507, 'falling': 1769, 'peak': 3516, 'intensely': 2566, 'breathe': 648, 'walks': 5353, 'jerk': 2635, 'connection': 1041, 'grabbing': 2156, 'cigarettes': 895, 'door': 1458, 'coursing': 1132, 'shake': 4325, 'avoided': 400, 'bar': 439, 'lsd': 2931, 'tilt': 5002, 'sights': 4402, 'hazy': 2277, 'abstract': 79, 'salvador': 4161, 'dali': 1224, 'painting': 3458, 'strolling': 4719, 'sidewalk': 4397, 'lit': 2871, 'talent': 4843, 'acting': 105, 'perfectly': 3538, 'sober': 4513, 'public': 3786, 'pays': 3510, 'accident': 88, 'squad': 4616, 'cars': 798, 'reds': 3936, 'drawing': 1482, 'moth': 3170, 'flame': 1886, 'rubberneckers': 4115, 'swirling': 4818, 'blending': 558, 'trippy': 5107, 'enlightenment': 1624, 'gawked': 2071, 'interest': 2571, 'waning': 5363, 'holds': 2366, 'wasted': 5385, 'jaded': 2620, 'following': 1934, 'second': 4242, 'settle': 4306, 'highly': 2345, 'closest': 944, 'tcim': 4872, 'oklahoma': 3369, 'due': 1518, 'lack': 2733, 'options': 3396, 'transportation': 5081, 'position': 3660, 'promised': 3760, 'longview': 2907, 'burn': 711, 'phones': 3566, 'enjoy': 1619, 'waldenbooks': 5347, 'priscilla': 3731, 'variety': 5273, 'cases': 802, 'limitations': 2853, 'major': 2965, 'role': 4093, 'doldrums': 1449, 'complaining': 1012, 'starving': 4644, 'africa': 150, 'hitler': 2358, 'reincarnation': 3961, 'office': 3359, 'america': 210, '1993': 15, 'unlike': 5195, 'figure': 1842, 'amendment': 208, 'ways': 5397, 'dress': 1493, 'hem': 2320, 'ignorant': 2451, 'aren': 310, 'earn': 1542, 'social': 4514, 'soulful': 4562, 'develop': 1364, 'hes': 2331, 'mesmerizing': 3071, 'fascinated': 1785, 'intimidates': 2580, 'handsome': 2237, 'witty': 5509, 'intelligent': 2563, 'deserve': 1339, 'struggled': 4725, 'rocket': 4089, 'shouldn': 4374, 'frightened': 2006, 'scared': 4198, 'pray': 3681, 'validation': 5261, 'spend': 4590, 'thrilled': 4976, 'intellect': 2561, 'seduction': 4254, 'caresses': 791, 'whispered': 5454, 'theatres': 4932, 'flirt': 1907, 'lonliness': 2908, 'pained': 3451, 'boyfriend': 631, 'fledged': 1895, 'kevin': 2691, 'patrick': 3500, 'dougherty': 1465, 'mulder': 3200, 'ball': 430, 'cap': 770, 'sexy': 4315, 'coat': 952, 'surrounded': 4797, 'voice': 5324, 'claimed': 908, 'allerigies': 183, 'repay': 3996, 'inexperience': 2518, 'naivete': 3220, 'best': 514, 'mentally': 3061, 'emotionally': 1595, 'moved': 3188, 'emptiness': 1601, 'logical': 2893, 'began': 483, 'hiding': 2339, 'remotely': 3990, 'resembling': 4015, 'human': 2417, 'cobwebs': 954, 'settles': 4307, 'claim': 907, 'domain': 1451, 'tend': 4901, 'shed': 4343, 'blossoms': 583, 'thorm': 4963, 'savage': 4180, 'bells': 498, 'ringing': 4068, 'pumkins': 3793, 'carriages': 793, 'melodramatic': 3052, 'wailings': 5341, 'sorrows': 4555, 'sparks': 4579, 'longings': 2905, 'ring': 4067, 'carrying': 797, 'trait': 5074, 'mannerism': 2989, 'orbelief': 3399, 'seperated': 4289, 'themselves': 4937, 'inspection': 2549, 'analysis': 223, 'expected': 1715, 'palpably': 3462, 'frowning': 2013, 'emotion': 1594, 'fragmented': 1984, 'seperately': 4290, 'erred': 1654, 'deductions': 1290, 'innocent': 2539, 'bystander': 730, 'acute': 114, 'fracturing': 1982, 'millions': 3094, 'easy': 1550, 'assemble': 354, 'shards': 4333, 'shard': 4332, 'gets': 2092, 'roaming': 4080, 'facet': 1751, 'banal': 434, 'flickers': 1900, 'memory': 3057, 'association': 360, 'tori': 5037, 'amos': 214, 'singing': 4422, 'topic': 5035, 'aside': 346, 'gatherd': 2068, 'immediate': 2470, 'worked': 5533, 'tirelessly': 5011, 'harried': 2259, 'interrupted': 2578, 'consuming': 1058, 'task': 4864, 'creating': 1158, 'mask': 3008, 'vast': 5276, 'contained': 1061, 'simple': 4414, 'touched': 5049, 'domino': 1452, 'labryinth': 2730, 'intricate': 2583, 'manifest': 2983, 'lungs': 2939, 'tapping': 4860, 'generates': 2081, 'shoulder': 4372, 'hello': 2313, 'motion': 3173, 'realizations': 3906, 'epiphanies': 1640, 'wholly': 5462, 'allow': 185, 'prison': 3733, 'brick': 657, 'blink': 565, 'greatness': 2177, 'conquering': 1043, 'benefits': 509, 'dave': 1254, 'desperation': 1350, 'pun': 3794, 'intended': 2565, 'warned': 5375, 'strings': 4715, 'attached': 374, 'value': 5264, 'standards': 4626, 'settling': 4308, 'shining': 4356, 'aim': 171, 'eh': 1570, '23': 30, 'brewing': 656, 'building': 698, 'frothing': 2012, 'volcano': 5327, 'melting': 3054, 'simmers': 4412, 'churns': 892, 'bubbles': 691, 'surge': 4788, 'hurricane': 2432, 'tornadic': 5040, 'tidal': 4994, 'rage': 3845, 'wrath': 5554, 'history': 2356, 'curtain': 1210, 'cameo': 752, 'goodbye': 2141, 'ember': 1590, 'sparked': 4574, 'butterfly': 724, 'sounding': 4565, 'board': 591, 'confidant': 1033, 'goth': 2151, 'withered': 5505, 'eerie': 1563, 'fetid': 1824, 'nightmares': 3282, 'hororrs': 2390, 'clambering': 911, 'malicious': 2972, 'glee': 2113, 'whispers': 5455, 'roses': 4103, 'decayed': 1276, 'gloomy': 2120, 'dusk': 1527, 'mourning': 3184, 'fantasy': 1781, 'erotic': 1653, 'funerals': 2033, 'witch': 5502, 'musty': 3210, 'scent': 4205, 'clove': 948, 'twilit': 5144, 'grief': 2183, 'coldness': 965, 'veils': 5282, 'explosive': 1733, 'handle': 2231, 'defenses': 1303, 'charging': 850, 'bull': 703, 'casual': 806, 'remark': 3981, 'deprecation': 1331, 'rome': 4098, 'smiles': 4486, 'sympathy': 4824, 'assume': 362, 'feelings': 1811, 'sick': 4393, 'hipocrasy': 2353, 'fuck': 2020, 'gestures': 2090, 'touching': 5051, 'smelling': 4482, 'infinite': 2522, 'possibilities': 3662, 'ad': 115, 'infinitum': 2524, 'quest': 3818, 'holy': 2371, 'grail': 2160, 'greater': 2175, 'levels': 2828, 'continuation': 1068, 'utter': 5252, 'null': 3319, 'cookie': 1090, 'crumbles': 1189, 'contemplation': 1062, 'heavy': 2303, 'message': 3073, 'shades': 4320, 'content': 1063, 'drug': 1510, 'numbed': 3321, 'beginning': 487, 'nature': 3231, 'embraced': 1591, 'heartedly': 2297, 'romanticized': 4097, 'transcendence': 5076, 'affair': 141, 'courting': 1135, 'bride': 660, 'courtship': 1136, 'lure': 2941, 'bridal': 659, 'slipping': 4472, 'vows': 5331, 'tempted': 4899, 'monstrosity': 3147, 'accept': 84, 'fates': 1791, 'clip': 937, 'string': 4714, 'wait': 5343, 'tired': 5010, 'escape': 1658, 'refreshed': 3949, 'none': 3297, 'chemical': 866, 'imbalance': 2466, 'reprieve': 4006, 'hardest': 2254, 'mornings': 3160, 'game': 2054, 'wipe': 5495, 'sweep': 4810, 'rug': 4123, 'therefore': 4943, 'pity': 3593, 'tropics': 5115, 'moist': 3134, 'palpable': 3461, 'stones': 4685, 'unturned': 5216, '1998': 17, 'fucked': 2021, 'explaining': 1722, 'fill': 1848, 'deepest': 1296, 'send': 4274, 'teacher': 4875, 'consider': 1045, 'homework': 2375, 'assignment': 359, 'statement': 4646, 'motives': 3176, 'mentor': 3064, 'wiccan': 5470, 'studies': 4731, 'raw': 3881, 'pooling': 3653, 'resolved': 4027, 'outlet': 3423, 'dip': 1396, 'finger': 1862, 'assigned': 357, 'inherently': 2531, 'thoguhts': 4961, 'manifests': 2985, 'acknowledge': 100, 'glories': 2121, 'capacity': 773, 'twists': 5150, 'manipulating': 2986, 'noble': 3292, 'telling': 4894, 'legacy': 2810, 'cheap': 858, 'bastardized': 446, 'sob': 4511, 'plays': 3616, 'deeds': 1292, 'whimpering': 5452, 'lame': 2742, 'feeds': 1808, 'appear': 278, 'pathetic': 3497, 'woeful': 5510, 'insuring': 2559, 'pick': 3575, 'slack': 4454, 'refuses': 3951, 'says': 4189, 'vantage': 5269, 'older': 3371, 'wiser': 5498, 'progress': 3755, 'lasviciously': 2765, 'pervert': 3557, 'pornoshop': 3658, 'fondling': 1935, 'thrills': 4977, 'cheapened': 859, 'sexual': 4314, 'debase': 1270, 'flinging': 1904, 'heedlessly': 2307, 'guilty': 2206, 'burden': 708, 'plunge': 3629, 'greedily': 2178, 'selfishly': 4270, 'emotions': 1596, 'infected': 2520, 'avidly': 398, 'gangrene': 2056, 'load': 2882, 'shower': 4377, 'extracted': 1740, 'philandering': 3561, 'plucked': 3627, 'contrived': 1078, 'bleed': 555, 'provide': 3778, 'humble': 2420, 'gratitude': 2169, 'inwardly': 2594, 'applauding': 283, 'skill': 4447, 'effectively': 1564, 'lured': 2942, 'raped': 3866, 'sucked': 4753, 'dry': 1514, 'groping': 2188, 'mouth': 3186, 'battle': 452, 'leech': 2806, 'malignant': 2974, 'souls': 4563, 'responsible': 4035, 'entitled': 1634, 'charles': 853, 'wilson': 5483, 'contentment': 1064, 'freely': 1992, 'blithely': 568, 'lastly': 2764, 'stained': 4621, 'sins': 4424, 'parents': 3471, 'hardened': 2252, 'sacrificed': 4145, 'deserved': 1340, 'defective': 1299, 'corroded': 1110, 'tread': 5091, 'memories': 3056, 'desert': 1337, 'wander': 5360, 'hero': 2327, 'jessica': 2636, 'journal': 2655, 'sinewy': 4420, 'sentience': 4286, 'curling': 1206, 'round': 4110, 'mysterious': 3215, 'lunar': 2938, 'nymph': 3329, 'sensual': 4281, 'hedonism': 2305, 'rise': 4074, 'dances': 1231, 'gypsy': 2213, 'sway': 4805, 'evoking': 1685, 'images': 2459, 'times': 5007, 'pleasures': 3623, 'writhes': 5561, 'fusing': 2038, 'insinuating': 2548, 'smoky': 4493, 'margins': 2997, 'satisfied': 4178, 'quit': 3830, 'refuse': 3950, 'lunacy': 2937, 'wicked': 5471, 'insanity': 2543, 'lower': 2929, 'shun': 4387, 'breathless': 651, 'avowals': 402, 'surrender': 4794, 'battling': 455, 'winning': 5492, 'lest': 2820, 'forsake': 1965, 'rights': 4066, 'jump': 2665, '2002': 24, 'precariously': 3686, 'perched': 3535, 'precipice': 3688, 'sparkling': 4577, 'epiphany': 1641, 'agony': 164, 'climb': 929, 'six': 4435, 'feet': 1814, 'million': 3093, 'grave': 2170, 'stinks': 4675, 'dug': 1519, 'sanguine': 4170, 'salvation': 4162, 'shimmering': 4354, 'gropings': 2189, 'darkened': 1240, 'desperately': 1349, 'seeking': 4260, 'guide': 2204, 'safety': 4154, 'net': 3256, 'below': 501, 'cruel': 1185, 'joke': 2652, 'healing': 2288, 'dashed': 1247, '26': 37, 'mood': 3150, 'cease': 820, 'endless': 1612, 'cacophony': 736, 'voices': 5325, 'stem': 4660, 'ache': 96, 'bitter': 541, 'envy': 1639, 'er': 1648, 'sin': 4416, '24': 32, 'honoured': 2379, 'request': 4009, 'harbored': 2250, 'smiled': 4485, 'silently': 4409, 'crept': 1167, 'stealing': 4656, 'final': 1855, 'smiling': 4487, 'refrain': 3948, 'lying': 2947, 'honour': 2378, 'silemce': 4406, 'lend': 2815, 'instrument': 2558, 'purge': 3801, 'scream': 4220, 'sing': 4421, 'issues': 2612, 'shrouds': 4385, 'whistles': 5456, 'mournfully': 3183, 'headstones': 2284, 'sags': 4156, 'landscape': 2748, 'begs': 489, 'barren': 441, 'withers': 5506, 'dejection': 1312, 'caged': 737, 'longs': 2906, 'quails': 3810, 'cynical': 1219, 'onslaught': 3380, 'bleeds': 557, 'thicket': 4948, 'thorns': 4964, 'heal': 2286, 'stumble': 4735, 'scrabbling': 4215, 'blindly': 563, 'offers': 3358, 'whore': 5465, 'conclude': 1026, 'gasparini': 2066, 'copyright': 1099, 'nocturne': 3294, 'weeping': 5420, 'morality': 3155, 'surged': 4789, 'spreading': 4607, 'spidery': 4592, 'wings': 5491, 'enveloping': 1637, 'tenses': 4907, 'tensions': 4909, 'nervous': 3253, 'swore': 4822, 'stiff': 4669, 'smirking': 4489, 'missed': 3114, 'opportunities': 3390, 'tomorrow': 5025, 'argument': 313, 'slights': 4468, 'distance': 1423, 'looming': 2913, 'hesitant': 2332, 'gap': 2058, 'caused': 816, 'prepare': 3699, 'maligns': 2975, 'strained': 4699, 'controls': 1081, 'confrontations': 1037, 'tension': 4908, 'reliving': 3976, 'sneering': 4507, 'presents': 3705, 'uneasy': 5178, 'futures': 2041, 'overwhelming': 3435, 'sifting': 4398, 'stifling': 4670, 'intensity': 2567, 'entirely': 1633, 'anguish': 235, 'shrouded': 4384, 'resignation': 4021, 'shuddering': 4386, 'sluicing': 4477, 'dousing': 1466, 'flames': 1887, 'shh': 4351, 'darling': 1243, 'pass': 3484, 'lie': 2833, 'guttering': 2209, 'candle': 763, 'presence': 3702, 'replace': 3999, 'fragile': 1983, 'equal': 1644, 'untamed': 5210, 'list': 2867, 'breezes': 654, 'chant': 846, 'thrumming': 4984, 'pulse': 3791, 'drumming': 1512, 'funnel': 2034, 'intent': 2568, 'fueled': 2023, 'frenzy': 1997, 'expel': 1716, 'climax': 928, 'unison': 5187, 'enchanted': 1605, 'phrases': 3571, 'sensation': 4277, 'glory': 2123, 'rejoice': 3963, 'thee': 4933, 'taboo': 4831, 'lurking': 2943, 'depraved': 1330, 'arousals': 321, 'forbidden': 1944, 'daddy': 1222, 'mere': 3067, 'padded': 3446, 'paws': 3505, 'canine': 764, 'abnormal': 72, 'temptation': 4898, 'lusts': 2945, 'heat': 2299, 'suffuses': 4761, 'wanton': 5368, 'crying': 1195, 'doggie': 1447, 'licking': 2832, 'crawling': 1153, 'clawing': 916, 'periphery': 3543, 'acceptable': 85, 'society': 4516, 'driven': 1503, 'unless': 5194, 'seek': 4259, 'warped': 5377, 'hideous': 2338, 'kinky': 2709, 'grass': 2168, 'cock': 955, 'crass': 1150, 'condemn': 1029, 'wound': 5548, 'mend': 3059, 'corn': 1103, 'stroke': 4718, 'appreciate': 294, 'fondly': 1936, 'lose': 2915, 'brilliance': 667, 'runnin': 4133, 'summit': 4768, '28': 39, 'defensive': 1304, 'prove': 3774, 'validate': 5260, 'justify': 2679, 'sleet': 4461, 'icing': 2440, 'deliciously': 1317, 'supple': 4778, 'conditions': 1030, 'soften': 4520, 'fades': 1757, 'blurs': 590, 'drifts': 1498, 'daylight': 1259, 'armour': 317, 'golden': 2134, 'towers': 5060, 'faeries': 1758, 'sprites': 4611, 'fey': 1829, 'frolicking': 2009, 'foliage': 1931, 'glow': 2124, 'fiend': 1835, 'vile': 5306, 'usurper': 5251, 'rancid': 3858, 'serpent': 4298, 'devious': 1371, 'manipulator': 2988, 'unrelenting': 5202, 'insidious': 2546, 'viscious': 5314, 'unrepentant': 5203, 'backs': 421, 'towards': 5056, 'haunted': 2271, 'arrogant': 325, 'knave': 2715, 'unravel': 5200, 'duplicitous': 1525, 'instigator': 2557, 'brutal': 688, 'calculating': 740, 'loathe': 2884, 'egotistical': 1568, 'vain': 5258, 'haughty': 2269, 'disdainful': 1414, 'epitome': 1643, 'pressure': 3712, 'decisive': 1286, 'cryptic': 1196, 'conspiratorial': 1053, 'shameless': 4329, 'brazen': 639, 'leader': 2788, 'charismatic': 851, 'planet': 3601, 'efficiancy': 1565, 'sought': 4560, 'bloodless': 579, 'regret': 3957, 'remorse': 3989, 'bright': 665, 'trudging': 5118, 'perilously': 3542, 'contraptions': 1075, 'overhwelmed': 3433, 'counless': 1121, 'cluttering': 950, 'troubles': 5117, 'gotten': 2154, 'sadism': 4148, 'horrible': 2391, 'creature': 1162, 'seduced': 4253, 'technology': 4885, 'asphalt': 352, 'poor': 3654, 'defenseless': 1302, 'lamb': 2740, 'willingly': 5481, 'worthy': 5545, 'momentary': 3139, 'pause': 3504, 'grain': 2161, 'sand': 4167, 'mountain': 3179, 'inexorable': 2516, 'movement': 3189, 'toward': 5055, 'minute': 3102, 'scratching': 4218, 'boundless': 627, 'impossible': 2480, 'unsolvable': 5207, 'riddle': 4059, 'unanswerable': 5158, 'identical': 2445, 'meaningless': 3033, 'moments': 3140, 'veiled': 5281, 'boat': 592, 'thousand': 4971, 'illusions': 2457, 'husky': 2436, 'whisper': 5453, 'tumbling': 5131, 'resigned': 4022, 'acknowledgement': 101, 'scab': 4190, 'itches': 2614, 'scar': 4197, 'screaming': 4222, 'cause': 815, 'martyrdom': 3005, 'foul': 1974, 'greys': 2181, 'plead': 3617, 'battles': 454, 'neutral': 3260, 'plight': 3625, 'someday': 4533, 'mobius': 3128, 'spinning': 4595, 'minds': 3096, 'inexorably': 2517, 'arbitrary': 305, 'rooted': 4102, 'fleshy': 1898, 'cages': 738, 'tick': 4990, 'humanizing': 2418, 'blunder': 588, 'inconceivable': 2496, 'twisting': 5149, 'cord': 1101, 'tis': 5012, 'constant': 1054, 'fixed': 1880, 'peeking': 3520, 'blissful': 567, 'wandering': 5362, 'happily': 2246, 'unknowing': 5192, 'compassionate': 1004, 'sobbing': 4512, 'merrily': 3070, 'weepy': 5421, 'knit': 2720, 'sewn': 4312, 'provincial': 3779, 'gained': 2046, 'pseudo': 3781, 'twin': 5145, 'peaks': 3517, 'wealth': 5401, 'understanding': 5172, 'dizzying': 1435, 'journeys': 2660, 'diving': 1434, 'clinical': 934, 'observation': 3335, 'meanings': 3035, 'illumination': 2456, 'truths': 5123, 'conspiracies': 1052, 'abounded': 73, 'jumping': 2667, 'scary': 4201, 'rabbit': 3841, 'cellar': 823, 'choice': 878, 'vulnerable': 5334, 'surrendered': 4795, 'disorder': 1420, 'tangled': 4853, 'heaving': 2302, 'deceit': 1278, 'sardonically': 4175, 'merciless': 3065, 'mercy': 3066, 'devoutly': 1375, 'wished': 5500, 'relief': 3974, 'surcease': 4783, 'pleas': 3619, 'unheeded': 5185, 'deaf': 1263, 'gales': 2048, 'loathing': 2885, 'blindness': 564, 'clumsy': 949, 'colliding': 969, 'beating': 465, 'unintentionally': 5186, 'remove': 3991, 'binds': 532, 'games': 2055, 'tearing': 4880, 'weakness': 5400, 'opening': 3387, 'vainly': 5259, 'appointed': 292, 'misery': 3109, 'heads': 2283, 'scene': 4202, 'wasting': 5386, 'killin': 2700, 'driver': 1504, 'cabbie': 733, 'chauffeur': 857, 'masochist': 3010, 'agrees': 167, 'four': 1979, 'glaring': 2111, 'reminder': 3986, 'allowed': 186, 'evil': 1684, 'afoot': 148, 'mirrors': 3107, 'weren': 5429, 'reduced': 3938, 'drive': 1501, 'prefer': 3693, 'nut': 3326, 'tree': 5096, 'sold': 4522, 'bound': 624, 'leapt': 2794, 'bracken': 632, 'vultures': 5335, 'circling': 900, 'towering': 5059, 'sardonic': 4174, 'triumph': 5110, 'schizotypal': 4208, 'suck': 4752, 'marrow': 3003, 'bones': 602, 'devour': 1374, 'melody': 3053, 'feast': 1799, 'texture': 4919, 'brushing': 687, 'egyptian': 1569, 'linen': 2860, 'fabric': 1748, 'crescendo': 1168, 'ripping': 4073, 'spine': 4594, 'explosion': 1732, 'weave': 5407, 'arrangement': 323, 'tapestry': 4859, 'encasing': 1604, 'threading': 4972, 'lyrics': 2949, 'fills': 1852, 'loneliness': 2898, 'interested': 2572, 'completing': 1016, 'herclean': 2323, 'tasks': 4865, 'sell': 4271, 'tenders': 4904, 'affection': 143, 'highest': 2342, 'afar': 140, 'onme': 3379, 'vow': 5330, 'undying': 5176, 'patience': 3499, 'loving': 2927, 'requited': 4011, 'hoops': 2381, 'gain': 2045, 'rally': 3855, 'mourn': 3181, 'ruminate': 4129, 'imagining': 2463, 'beloved': 500, 'advance': 132, 'survive': 4800, 'ponder': 3650, 'torn': 5039, 'wrenched': 5555, 'fitted': 1876, 'carries': 795, 'commiseration': 991, 'survivor': 4801, 'mortgage': 3165, 'acclimated': 89, 'quirks': 3829, 'tastes': 4868, 'proclivities': 3743, 'fantasies': 1779, 'fetishes': 1825, 'savor': 4185, 'cherish': 868, 'kills': 2702, 'reasons': 3918, 'promises': 3761, 'surround': 4796, 'permission': 3546, 'till': 5001, 'wondered': 5520, 'angrier': 233, 'portrait': 3659, 'seared': 4236, 'priceless': 3721, 'trials': 5101, 'tribulations': 5102, 'altered': 198, 'brain': 634, 'youo': 5597, 'extricate': 1743, '2003': 25, 'wheels': 5442, 'grinding': 2184, 'erosion': 1652, 'ghosts': 2094, 'spectres': 4584, 'mail': 2961, 'impersonal': 2475, 'scabbed': 4191, 'gangrenous': 2057, 'remembrance': 3985, 'striving': 4717, 'aain': 67, 'macabre': 2951, 'morbid': 3157, 'infernal': 2521, 'coerced': 959, 'meaninglessness': 3034, 'risen': 4075, 'ashes': 345, 'renounce': 3994, 'defy': 1311, 'pompeii': 3649, 'disturb': 1429, 'echo': 1554, 'impotent': 2483, 'wailing': 5340, 'wheedle': 5440, 'process': 3741, 'mutual': 3212, 'manipulation': 2987, 'bidder': 525, 'stink': 4674, 'sticks': 4667, 'favourite': 1795, 'son': 4542, 'afford': 145, 'prepared': 3700, 'ran': 3857, 'stomping': 4682, 'stitching': 4680, 'brink': 672, 'launched': 2776, 'cliff': 926, 'storming': 4693, 'river': 4077, 'woods': 5528, 'underbrush': 5168, 'decision': 1284, 'leap': 2793, 'faith': 1767, 'untitled': 5212, 'minutiae': 3104, 'distant': 1424, 'galaxies': 2047, 'inhale': 2529, 'balance': 429, 'forget': 1954, 'meander': 3030, 'betwixt': 518, 'wanderers': 5361, 'weaving': 5408, 'tapestries': 4858, 'primordrial': 3725, 'ooze': 3383, 'discovered': 1411, 'impact': 2473, 'speculation': 4585, 'stoned': 4684, 'cosmos': 1114, 'sentient': 4287, 'rue': 4121, 'stipulations': 4677, 'abundant': 81, 'wade': 5337, 'imaginings': 2464, 'falls': 1770, 'sweetest': 4812, 'consolation': 1049, 'dictated': 1382, 'empire': 1597, 'coffee': 960, 'necessities': 3240, 'staple': 4628, 'sane': 4169, 'storm': 4692, 'novemebr': 3316, 'hesitate': 2333, 'vagaries': 5255, 'widened': 5473, 'chasm': 856, 'drawn': 1483, 'sensed': 4279, 'yearned': 5582, 'marveled': 3007, 'reigned': 3959, 'obligated': 3332, 'mark': 2998, 'regained': 3954, 'pressed': 3710, 'strove': 4722, 'breach': 640, 'gulf': 2208, 'exploded': 1725, '2004': 26, 'crude': 1184, 'rude': 4120, 'tact': 4832, 'rash': 3871, 'utterly': 5253, 'lacking': 2734, 'decorum': 1288, 'finesse': 1861, 'unrefined': 5201, 'severely': 4311, 'diplomacy': 1397, 'dreary': 1491, 'irreverent': 2600, 'irrelevant': 2598, 'enveloped': 1636, 'morose': 3162, 'devoid': 1372, 'forlorn': 1957, 'valley': 5262, 'anti': 253, 'sociopathic': 4517, 'depressed': 1332, 'repressed': 4005, 'oppressive': 3394, 'manic': 2982, 'frantic': 1986, 'socially': 4515, 'dysfunctional': 1534, 'psychotic': 3784, 'fractured': 1981, 'holiday': 2369, 'countdown': 1123, 'spread': 4606, 'hundred': 2425, 'sixty': 4437, 'flail': 1884, 'rail': 3847, 'injustice': 2534, 'ticking': 4993, 'clock': 939, 'bravely': 638, 'abyss': 82, 'reflected': 3943, 'five': 1878, 'forty': 1971, 'eight': 1571, 'reconcile': 3931, 'justice': 2675, 'enter': 1628, 'code': 956, 'press': 3709, 'pound': 3671, 'inner': 2537, 'monologue': 3145, 'strap': 4704, 'bag': 427, 'scenic': 4204, 'route': 4111, 'debris': 1272, 'ruin': 4124, 'downed': 1468, 'sparking': 4575, 'turgid': 5134, 'duck': 1515, 'rotting': 4106, 'corpses': 1108, 'swinging': 4817, 'lazily': 2784, 'rusted': 4138, 'aluminum': 202, 'appendages': 282, 'vehicle': 5279, 'snapping': 4502, 'jaws': 2630, 'demons': 1324, 'ravenous': 3880, 'guilt': 2205, 'explore': 1729, 'rolling': 4095, 'reaching': 3890, 'dig': 1390, 'sharpened': 4338, 'atrocities': 373, 'skinned': 4450, 'sadistic': 4149, 'tour': 5053, 'shallow': 4327, 'gay': 2074, 'queer': 3817, 'definition': 1309, 'lesbian': 2816, 'men': 3058, 'appeal': 277, 'womyn': 5517, 'crave': 1152, 'female': 1818, 'fag': 1759, 'hag': 2219, 'relate': 3964, 'males': 2971, 'nelly': 3250, 'beefy': 478, 'normal': 3301, 'folk': 1932, 'thay': 4928, 'stage': 4619, 'imna': 2472, '____________________________________': 64, 'sent': 4284, 'treo600': 5099, 'blackberry': 546, 'basically': 445, 'yeah': 5579, 'wedding': 5414, 'weekend': 5416, 'lots': 2921, 'spent': 4591, 'ended': 1609, 'saturday': 4179, 'bachelor': 416, 'party': 3482, 'bro': 675, 'altough': 200, 'partake': 3476, 'anyhoo': 259, 'beth': 515, 'thursday': 4988, 'post': 3665, 'crushed': 1193, 'loves': 2926, 'boy': 630, 'fact': 1753, 'cannot': 765, 'nonetheless': 3298, 'friday': 1999, 'nj': 3290, 'driving': 1505, 'food': 1938, 'hungry': 2427, 'surprised': 4791, 'shown': 4380, 'doorstep': 1460, 'competing': 1006, 'affections': 144, 'obviosly': 3340, 'prefers': 3695, 'stings': 4673, 'damm': 1225, 'dont': 1455, 'addicted': 118, 'fix': 1879, 'arrrrrrrrrrrrrrrrr': 328, 'crashed': 1149, 'car': 782, 'asshole': 356, 'treat': 5094, 'nicely': 3274, 'admittedly': 129, 'rabbis': 3840, 'dudes': 1517, 'sunday': 4770, 'resisted': 4025, 'urge': 5235, 'beautiful': 466, 'model': 3130, 'named': 3222, 'edi': 1558, 'picked': 3576, 'asked': 348, 'tuxed': 5139, 'incredible': 2502, 'pschycolgist': 3780, 'bears': 461, 'resemblance': 4013, 'drunk': 1513, 'tolerating': 5021, 'cogent': 961, 'outwardly': 3429, 'mess': 3072, 'attracted': 380, 'ny': 3328, 'summer': 4767, 'dangerous': 1233, 'skirts': 4452, 'tanktops': 4855, 'hormone': 2388, 'shoot': 4364, 'roof': 4100, 'hotness': 2401, 'nonsense': 3299, 'crap': 1146, 'spirtual': 4598, 'capitalize': 775, 'watched': 5388, 'nemo': 3252, 'chances': 839, 'valuable': 5263, 'insights': 2547, 'thankfully': 4924, 'planned': 3604, 'dumping': 1521, 'cancelledish': 760, 'babysit': 415, 'superadorable': 4774, 'niece': 3277, 'distractingly': 1428, 'wasnt': 5383, 'strangly': 4703, 'judge': 2663, 'shes': 4350, 'married': 3002, 'tuesday': 5129, 'planning': 3605, 'batchelor': 447, 'wow': 5550, 'brief': 663, 'preamble': 3685, 'spelling': 4588, 'gramatical': 2162, 'errors': 1656, 'excuse': 1699, 'officially': 3361, 'weird': 5423, 'baby': 414, 'graduates': 2158, 'toddler': 5017, 'aunts': 388, 'siblings': 4392, 'cousins': 1137, 'grandparents': 2165, 'blessing': 560, 'fortunate': 1969, 'bunch': 706, 'daniel': 1236, 'brought': 683, 'yeshiva': 5589, 'stayed': 4651, 'jewified': 2641, 'pleased': 3621, 'downside': 1473, 'upside': 5232, 'brings': 671, 'slipped': 4471, 'intentions': 2570, 'mostly': 3167, 'joe': 2647, 'ok': 3368, 'largely': 2757, 'anecdotes': 227, 'timeline': 5006, 'chronicle': 888, 'whether': 5447, 'mad': 2955, 'sad': 4146, 'horney': 2389, 'seem': 4261, 'isolate': 2606, 'identify': 2446, 'news': 3268, 'canadian': 758, 'freind': 1994, 'marc': 2995, 'broseph': 679, 'wife': 5477, 'eurotrip': 1668, 'refer': 3940, 'stays': 4653, 'apartment': 268, 'extra': 1739, 'bedroom': 475, 'aranged': 303, 'formal': 1959, 'canadia': 757, 'comprehend': 1017, 'canada': 756, 'preempted': 3691, 'chose': 885, 'tommorow': 5024, 'thats': 4927, 'scheduled': 4206, 'bombshell': 597, 'hearing': 2293, 'flabbergasted': 1883, 'amazingly': 206, 'exact': 1687, 'syntax': 4826, 'whats': 5439, 'meeting': 3043, 'doorman': 1459, 'oy': 3441, 'convinced': 1088, 'appears': 281, 'busy': 721, 'screening': 4227, 'fair': 1765, 'committed': 993, 'yells': 5587, 'napolean': 3225, 'dynamite': 1533, 'downs': 1472, '40': 45, 'literally': 2872, 'surprise': 4790, 'snunk': 4508, 'theater': 4930, 'emo': 1593, 'sneaking': 4506, 'manager': 2979, 'gasp': 2065, 'lingered': 2863, 'sunshine': 4772, 'cinemas': 897, 'lobby': 2886, 'east': 1549, 'houston': 2405, 'west': 5432, 'hudson': 2414, 'heading': 2282, 'landed': 2746, 'chelsea': 865, 'piers': 3583, 'jew': 2640, 'daters': 1252, 'specifically': 4583, 'super': 4773, 'flirtatious': 1908, 'leads': 2790, 'wont': 5524, '45': 48, 'flies': 1903, 'golfed': 2137, 'range': 3859, 'coolest': 1093, '100': 1, 'balls': 433, '10pm': 2, '148': 8, 'automatic': 391, 'tee': 4887, 'buckets': 693, 'bending': 506, 'automatically': 392, 'puts': 3808, 'adjust': 124, 'height': 2309, 'electronically': 1575, 'hitting': 2359, 'showing': 4379, 'improvement': 2487, 'golf': 2136, 'yachts': 5574, 'hockey': 2363, '23rd': 31, 'bench': 503, 'noticed': 3313, 'benches': 504, 'parks': 3474, '42nd': 47, 'jumped': 2666, 'brewery': 655, 'owns': 3440, 'backless': 420, 'sneaker': 4505, 'payless': 3508, 'mean': 3029, 'wearing': 5404, '85th': 60, 'cab': 731, 'upstairs': 5233, 'apples': 286, 'convenient': 1082, 'moderately': 3131, 'alas': 176, 'freinds': 1995, 'israel': 2609, 'hug': 2415, 'afternoon': 153, 'rocks': 4091, 'average': 396, 'fiercely': 1837, 'loyal': 2930, 'upsets': 5230, 'frame': 1985, 'dobie': 1437, 'gillis': 2100, 'goonies': 2146, 'besides': 513, 'audio': 384, 'nights': 3283, 'haul': 2270, 'vindigo': 5308, 'twenty': 5142, 'clicked': 924, 'fecking': 1805, 'mixup': 3126, 'birdland': 535, 'duke': 1520, 'ellington': 1579, 'orchestra': 3400, 'during': 1526, 'playing': 3615, 'monday': 3141, 'consused': 1059, 'jazz': 2631, 'quartet': 3814, 'marvel': 3006, 'musicians': 3208, 'activated': 108, 'audioblogger': 385, 'gonna': 2139, 'creates': 1157, 'mp3': 3195, 'file': 1845, 'host': 2398, 'language': 2750, 'climbing': 930, 'aunt': 387, 'swell': 4813, 'sprinter': 4610, 'failing': 1762, 'steady': 4654, 'wins': 5493, 'race': 3842, 'non': 3296, 'alright': 196, 'puppy': 3796, 'ass': 353, 'gosh': 2149, 'darn': 1244, 'bitty': 544, 'yorkie': 5594, 'thom': 4962, 'yorke': 5593, 'picking': 3577, 'dog': 1446, 'shit': 4359, 'lifelong': 2838, 'promise': 3759, 'gaping': 2059, 'yourlife': 5599, 'sans': 4172, 'metioned': 3079, 'hospital': 2397, 'brosephus': 680, 'bonding': 599, 'session': 4302, 'sabbath': 4140, 'unfortunetly': 5182, 'negotiation': 3247, 'guard': 2202, 'virtually': 5312, 'gooder': 2142, 'motivation': 3175, 'visits': 5320, 'sharing': 4336, 'varities': 5275, 'killer': 2699, 'trashed': 5085, 'releasing': 3972, 'whould': 5467, 'awesome': 409, 'observant': 3334, 'caller': 746, 'id': 2442, 'hoping': 2386, 'discharged': 1409, 'checked': 861, 'total': 5045, 'downer': 1469, 'tickets': 4992, 'harry': 2260, 'potter': 3670, 'imax': 2465, 'uncle': 5161, 'alfonso': 177, 'cuaron': 1200, 'omission': 3372, 'entire': 1632, 'animagus': 239, 'marauder': 2994, 'subplot': 4744, 'lupin': 2940, 'animagums': 238, 'importance': 2477, 'coherent': 962, 'patronus': 3501, 'conjures': 1040, 'impotatant': 2482, 'snape': 4501, 'hated': 2267, 'anigami': 237, 'shrieking': 4383, 'shack': 4317, 'regardless': 3956, 'mastering': 3014, 'hightly': 2346, 'recommended': 3930, 'review': 4049, 'leaky': 2791, 'cauldron': 814, 'sue': 4757, 'megan': 3046, 'mellisa': 3051, 'towel': 5057, 'trailer': 5070, 'hilarious': 2347, 'bye': 729, 'embarrassing': 1588, 'proceed': 3740, 'differently': 1389, 'badly': 426, 'ringtone': 4070, 'bothering': 620, 'causing': 817, 'texted': 4918, 'ask': 347, 'increasingly': 2501, 'basic': 444, 'gyst': 2214, 'text': 4917, 'sleeping': 4459, 'mom': 3137, 'commission': 992, 'whatnot': 5438, 'reacts': 3893, 'confusing': 1038, 'trouble': 5116, 'wash': 5380, 'enlarging': 1623, 'incredibly': 2503, 'filling': 1850, 'wed': 5413, 'ticket': 4991, 'invited': 2589, 'imd': 2467, 'needless': 3245, 'ditching': 1430, 'theme': 4936, 'accommodation': 90, 'stranger': 4702, 'wrongly': 5566, 'excuses': 1700, 'approaches': 296, 'jane': 2625, 'crush007': 1192, 'quiz': 3836, 'result': 4039, 'actaully': 104, 'incedentally': 2491, 'girls': 2104, 'sony': 4545, 'lincoln': 2856, 'sqaure': 4615, 'moviephone': 3191, 'saved': 4182, 'becuase': 473, 'error': 1655, 'creepy': 1166, 'coughing': 1118, 'complained': 1011, 'poeple': 3636, 'pissed': 3592, 'responding': 4032, 'quote': 3837, 'families': 1773, 'frightening': 2007, 'mandy': 2980, 'moore': 3154, 'psycho': 3783, 'freak': 1988, 'layla': 2781, 'tov': 5054, 'hebrew': 2304, 'auschwitz': 389, 'grandchild': 2164, 'survivors': 4802, 'uncontrollable': 5163, 'torrent': 5041, 'dies': 1387, 'terminal': 4911, 'disease': 1415, 'thier': 4949, 'react': 3891, 'horribly': 2392, 'catastophic': 809, 'pilot': 3586, 'cleared': 919, 'longest': 2903, 'shitty': 4360, 'direction': 1401, 'kinds': 2707, 'bs': 689, 'unispired': 5188, 'wagon': 5339, 'sensitive': 4280, 'visit': 5316, 'rachel': 3843, 'mentioned': 3063, 'shabbat': 4316, 'jewish': 2642, 'readers': 3897, 'intention': 2569, 'definely': 1306, 'synogogue': 4825, 'diabetes': 1377, 'severe': 4310, 'calcification': 739, 'arteries': 331, 'medical': 3039, 'amputate': 218, 'properly': 3766, 'realzed': 3912, 'cimcumstances': 896, 'dire': 1399, 'seemed': 4262, 'college': 968, 'professor': 3748, 'recognize': 3929, 'regain': 3953, 'motor': 3177, 'functionality': 2031, 'doo': 1456, 'sooo': 4549, 'learne': 2796, 'becoming': 472, 'highlight': 2344, 'krohns': 2726, 'hi': 2335, 'embarrased': 1587, 'visitors': 5319, 'daughter': 1253, 'fellow': 1816, 'amputated': 219, 'surprisingly': 4793, 'glad': 2109, 'opts': 3397, 'familiar': 1772, 'relationshippy': 3967, 'growing': 2197, 'usual': 5249, 'arrrg': 327, 'awkward': 412, 'illness': 2455, 'cant': 768, 'eat': 1551, 'endure': 1614, 'fu': 2018, 'king': 2708, 'appriciative': 295, 'scant': 4196, 'documetary': 1442, 'finishing': 1866, 'hardships': 2255, 'visitor': 5318, 'backtracking': 422, 'explains': 1723, 'clearly': 920, 'daggers': 1223, 'petter': 3558, 'insprires': 2551, 'buries': 710, 'stubborness': 4726, 'cired': 901, 'bedtime': 476, 'banker': 437, 'analyst': 224, 'mega': 3045, 'cushy': 1213, 'equity': 1647, 'investment': 2587, 'banking': 438, 'successful': 4750, 'stint': 4676, 'startup': 4641, 'nighters': 3280, 'cash': 803, 'couches': 1117, 'artwork': 340, 'fancy': 1777, 'globe': 2119, 'neat': 3237, 'swinger': 4816, 'hack': 2216, 'ipod': 2596, 'server': 4299, 'coincidence': 963, 'helped': 2315, 'moroff': 3161, 'placements': 3596, 'salary': 4158, 'ceo': 829, 'international': 2576, 'project': 3756, 'seriously': 4297, 'traction': 5067, 'stick': 4665, 'vine': 5309, 'projects': 3757, 'disappointment': 1407, 'creek': 1164, 'paddle': 3447, 'deals': 1265, 'actualy': 113, 'nurse': 3324, 'doctor': 1439, 'rocker': 4088, 'mediocre': 3040, 'guitar': 2207, 'rocking': 4090, 'talented': 4844, 'band': 436, 'gigs': 2099, 'cover': 1141, 'breakfast': 643, 'tiffany': 4996, 'crush': 1191, 'crash': 1148, 'everyday': 1678, 'solos': 4527, 'song': 4543, 'vocals': 5323, 'computer': 1020, 'chords': 884, 'throughout': 4981, 'pretending': 3714, 'pentatonic': 3529, 'appropriate': 297, 'arent': 311, 'ah': 169, 'distract': 1427, 'outgoing': 3421, 'decade': 1273, 'humorous': 2424, 'conversations': 1086, 'meaningful': 3032, 'perceive': 3532, 'politics': 3645, 'philosophy': 3562, 'sickness': 4395, 'health': 2289, 'triumphs': 5112, 'sadness': 4151, 'converse': 1087, 'regularly': 3958, 'handicap': 2230, 'shove': 4375, 'accurately': 93, 'articulate': 335, 'helps': 2319, 'disfunctional': 1416, 'marry': 3004, 'saga': 4155, 'quickie': 3824, 'lied': 2834, 'hurtful': 2434, 'vapid': 5270, 'substance': 4745, 'possibly': 3664, 'uptown': 5234, 'smelly': 4483, 'dude': 1516, 'listening': 2870, 'elliott': 1580, 'smith': 4490, '24th': 34, 'catharsis': 812, 'avoid': 399, 'benign': 510, 'girlfriends': 2103, 'fuc': 2019, 'ing': 2528, 'harem': 2257, 'prostitutes': 3767, 'whathaveyou': 5437, 'likely': 2851, 'store': 4690, 'lady': 2736, 'bags': 428, 'stairs': 4622, 'buy': 726, 'whomever': 5464, 'secretive': 4248, 'untruthful': 5214, 'therapist': 4939, 'boston': 617, 'havn': 2276, 'processes': 3742, 'exists': 1713, 'doodles': 1457, 'canson': 767, 'sketchbook': 4441, 'txt': 5152, 'files': 1846, 'laptop': 2755, 'daydreaming': 1258, 'rides': 4061, 'comic': 982, 'manifested': 2984, 'tolkien': 5022, 'esque': 1660, 'stance': 4624, 'confidence': 1034, 'direct': 1400, 'lewis': 2829, 'hmm': 2360, 'quicksilver': 3826, 'tristaanian': 5108, 'rhob': 4054, 'pash': 3483, 'arialyn': 314, 'preliminary': 3697, 'detail': 1357, 'general': 2079, 'specific': 4582, 'cities': 903, 'climate': 927, 'scenery': 4203, 'explored': 1730, 'consists': 1048, 'grouping': 2194, 'semi': 4273, 'isolated': 2607, 'islands': 2604, 'size': 4438, 'ranging': 3861, 'outcroppings': 3420, 'stretches': 4712, 'terrain': 4913, 'considered': 1046, 'decent': 1281, 'sized': 4439, 'country': 1126, 'rocky': 4092, 'plateaus': 3610, 'sea': 4231, 'strangely': 4701, 'fluid': 1920, 'magical': 2960, 'mist': 3117, 'harmful': 2258, 'impairment': 2474, 'traveled': 5088, 'etc': 1665, 'cloudy': 947, 'available': 395, 'hardy': 2256, 'plants': 3607, 'crops': 1178, 'nutritional': 3327, 'largest': 2759, 'predators': 3690, 'chain': 832, 'aviary': 397, 'birds': 536, 'drakes': 1479, 'rivers': 4078, 'lakes': 2738, 'streams': 4707, 'larger': 2758, 'rush': 4137, 'misty': 3123, 'unexplored': 5180, 'clingy': 933, 'fog': 1927, 'usually': 5250, 'lived': 2876, 'scraggly': 4216, 'tough': 5052, 'jut': 2680, 'vertical': 5290, 'eeking': 1562, 'elevations': 1577, 'unknown': 5193, 'reveal': 4043, 'alien': 178, 'ness': 3254, 'suffocating': 4760, 'humidity': 2422, 'arid': 315, 'flora': 1914, 'fauna': 1794, 'documented': 1441, 'reported': 4002, 'dragons': 1476, 'surfacing': 4787, 'jungles': 2671, 'humanoids': 2419, 'viewed': 5301, 'fearful': 1797, 'superstition': 4777, 'supposedly': 4782, 'civilized': 905, 'plateau': 3609, 'dwellers': 1530, 'currently': 1208, 'encounters': 1607, 'mists': 3122, 'similar': 4411, 'fashion': 1786, 'depending': 1329, 'latitude': 2769, 'definite': 1308, 'seasons': 4239, 'winter': 5494, 'noteworthy': 3309, 'marked': 2999, 'rain': 3849, 'tends': 4906, 'blur': 589, 'moons': 3153, 'tuned': 5133, 'according': 91, 'engadget': 1616, 'originally': 3407, 'quoted': 3838, 'rant': 3863, 'misinterpreted': 3111, 'ms': 3196, 'trash': 5084, 'nowhere': 3318, 'microsoft': 3082, 'digital': 1392, 'market': 3000, 'refined': 3942, 'defined': 1305, 'initiation': 2533, 'plans': 3606, 'branded': 636, 'devices': 1368, '50': 50, 'yusuf': 5603, 'mehdi': 3047, 'corporate': 1107, 'vice': 5295, 'president': 3708, 'msn': 3197, 'corp': 1106, 'goldman': 2135, 'sachs': 4141, 'fifth': 1838, 'annual': 246, 'internet': 2577, 'conference': 1032, 'las': 2761, 'vegas': 5278, 'hrm': 2410, 'applied': 290, 'patent': 3494, 'concommitent': 1028, 'regarding': 3955, 'application': 288, 'innovator': 2540, 'companies': 999, 'rallying': 3856, 'nigh': 3278, 'unto': 5213, 'prop': 3765, 'crappy': 1147, 'product': 3745, 'windows': 5487, 'profits': 3751, 'pillars': 3584, 'busines': 717, 'strategy': 4705, 'hasn': 2264, 'lately': 2767, 'competitors': 1007, 'continuing': 1072, 'factor': 1754, 'excel': 1692, 'grok': 2187, 'owen': 3437, 'asymptomatic': 368, 'mondo': 3142, 'table': 4829, 'damned': 1228, 'comparison': 1002, 'user': 5246, 'installed': 2553, 'blogging': 574, 'packages': 3443, 'flipping': 1906, 'sites': 4430, 'apparent': 275, 'reading': 3899, 'main': 2963, 'obviously': 3342, 'include': 2493, 'service': 4300, 'radio': 3844, 'livejournal': 2877, 'useful': 5245, 'macos': 2954, 'hit': 2357, 'bricks': 658, 'weighing': 5422, '40mb': 46, 'detailed': 1358, 'updates': 5222, 'fixes': 1881, 'opengl': 3386, 'features': 1801, 'usb': 5242, 'safari': 4152, 'dot': 1462, 'boom': 608, 'apply': 291, 'tag': 4835, 'paintbrush': 3456, 'tool': 5033, 'paint': 3455, 'geek': 2076, 'title': 5014, 'webmaster': 5410, 'developer': 1365, 'html': 2411, 'builder': 697, 'jillion': 2643, 'variants': 5271, 'startups': 4642, 'ipo': 2595, 'stardom': 4631, 'website': 5411, 'pimp': 3587, 'plan': 3599, 'mention': 3062, 'generating': 2082, 'advertising': 137, 'websites': 5412, 'skills': 4448, 'areas': 309, 'courted': 1134, 'multiple': 3201, 'employers': 1600, 'venture': 5284, 'capital': 774, 'funds': 2032, 'newly': 3267, 'purchased': 3798, 'aeron': 138, 'chairs': 835, 'official': 3360, 'recession': 3927, 'luminary': 2936, 'developers': 1366, 'heights': 2310, 'require': 4010, 'advanced': 133, 'synthesis': 4827, 'xtml': 5572, 'css': 1199, 'coding': 958, 'excellent': 1693, 'usability': 5241, 'architecture': 306, 'chops': 883, 'relatively': 3968, 'mighty': 3087, 'viciously': 5296, 'culled': 1201, 'shops': 4367, 'contracted': 1074, 'signs': 4405, 'desmise': 1347, 'development': 1367, 'uw': 5254, 'scientific': 4213, 'study': 4733, 'appointments': 293, 'threshold': 4975, 'several': 4309, 'staff': 4618, 'benefit': 508, 'goodies': 2143, 'ranges': 3860, 'topping': 5036, 'mid': 3083, 'thirties': 4959, 'wage': 5338, 'seattle': 4241, 'opposed': 3392, 'lynnwood': 2948, 'fulltime': 2027, 'handful': 2229, 'responsibilities': 4033, 'combination': 977, 'database': 1249, 'programming': 3753, 'mcse': 3026, 'administration': 126, 'unix': 5191, 'rare': 3869, 'creation': 1159, 'dedicated': 1289, 'luminaries': 2935, 'clients': 925, 'dynamic': 1532, 'site': 4429, 'cms': 951, 'hire': 2354, 'dba': 1261, 'programmer': 3752, 'solution': 4528, 'graft': 2159, 'organization': 3402, 'field': 1833, 'ratio': 3874, 'hopefuls': 2384, 'successes': 4749, 'resemble': 4014, 'ranks': 3862, 'writers': 5559, 'artists': 338, 'industrial': 2510, 'designers': 1342, 'issued': 2611, 'security': 4252, 'update': 5220, 'address': 121, 'handles': 2234, 'vulnerability': 5333, 'viewer': 5302, 'scripts': 4230, 'problems': 3739, 'uris': 5238, 'mount': 3178, 'virtual': 5311, 'filesystems': 1847, 'telnet': 4895, 'uri': 5237, 'john': 2649, 'gruber': 2200, 'daring': 1238, 'fireball': 1868, 'summed': 4766, 'assets': 355, 'prevention': 3716, 'install': 2552, 'patch': 3491, 'disable': 1405, 'auto': 390, 'downloaded': 1470, 'helpers': 2317, 'advantage': 134, 'fixing': 1882, 'graceful': 2157, 'operate': 3389, 'issue': 2610, 'resolution': 4026, 'yeesh': 5585, 'articles': 334, 'handling': 2235, 'vulnerabilities': 5332, 'unsafe': 5204, 'handlers': 2233, 'protocol': 3771, 'inverting': 2585, 'handler': 2232, 'overwrite': 3436, 'owned': 3439, 'contents': 1065, 'command': 986, 'log': 2892, 'existing': 1712, 'ie': 2448, 'article': 333, 'covers': 1143, 'josh': 2654, 'larios': 2760, 'discusses': 1413, 'disabling': 1406, 'offending': 3353, 'protocols': 3772, 'launch': 2775, 'services': 4301, 'api': 271, 'rcdefaultapp': 3885, 'config': 1035, 'layed': 2780, 'atop': 372, 'allows': 187, 'outright': 3426, 'assigning': 358, 'app': 274, 'pop': 3655, 'important': 2478, 'browsers': 685, 'osx': 3410, 'handed': 2228, 'helper': 2316, 'programs': 3754, 'capabilities': 771, 'netnewswire': 3257, 'beast': 462, 'reports': 4003, 'examining': 1690, 'protect': 3768, 'mac': 2950, 'os': 3409, 'exploit': 1727, 'announced': 244, 'suggestions': 4763, 'pc': 3511, 'users': 5247, 'serious': 4296, 'hyped': 2438, 'software': 4521, 'rundown': 4131, 'secunia': 4251, 'execution': 1701, 'insecure': 2544, 'ws': 5569, 'runscript': 4136, 'links': 2865, 'disk': 1419, 'rigged': 4064, 'arbirary': 304, 'machine': 2952, 'privs': 3735, 'script': 4229, 'submitted': 4743, 'exploits': 1728, 'online': 3377, 'pointed': 3639, 'method': 3078, 'explorer': 1731, 'preferences': 3694, 'click': 923, 'un': 5156, 'check': 860, 'chess': 869, 'applications': 289, 'folder': 1929, 'editor': 1561, 'repeat': 3997, 'shortly': 4369, 'smug': 4499, 'mailing': 2962, 'sasser': 4176, 'heh': 2308, 'isophonicsoftware': 2608, 'dgtgf': 1376, 'patcher': 3492, 'patches': 3493, 'aspect': 351, 'thanks': 4925, 'rely': 3977, 'protection': 3770, 'reduce': 3937, 'quitting': 3832, 'neighborhood': 3248, 'ballard': 431, 'busses': 719, 'transfer': 5079, 'riding': 4063, 'bike': 528, 'relied': 3973, 'takeout': 4839, 'wherein': 5446, 'received': 3924, 'pattern': 3502, 'computing': 1022, 'directors': 1402, 'habits': 2215, 'reap': 3913, 'rewards': 4051, 'unlimited': 5196, '48': 49, '96': 63, 'academic': 83, 'quarter': 3813, 'commuter': 996, 'parking': 3473, '36': 43, 'plus': 3631, 'twice': 5143, '37': 44, '76': 57, 'cost': 1115, '86': 61, '72': 56, '90': 62, 'per': 3531, 'costs': 1116, '196': 14, 'mile': 3088, 'count': 1122, 'gallons': 2052, 'gas': 2063, 'commutes': 997, 'versus': 5289, 'math': 3019, '52': 51, '248': 33, '82': 59, '66': 55, 'biking': 529, 'bussing': 720, '53': 53, 'fees': 1813, 'gasoline': 2064, '65': 54, 'terms': 4912, 'starbucks': 4630, 'latte': 2770, 'calculations': 741, 'exercise': 1702, 'weather': 5406, 'relax': 3969, 'idiots': 2447, 'stress': 4711, 'gotta': 2153, 'renew': 3993, 'upgrading': 5225, 'admin': 125, 'upgrade': 5224, 'backup': 423, 'format': 1960, 'reinstall': 3962, 'packed': 3444, 'spring': 4609, 'data': 1248, 'crufty': 1186, 'emac': 1584, 'reasonably': 3917, 'vanilla': 5268, 'student': 4730, 'employee': 1599, 'macintosh': 2953, 'boon': 609, 'target': 4862, 'mode': 3129, 'department': 1328, 'shopping': 4366, 'zone': 5608, 'tdm': 4873, 'external': 1738, 'boot': 610, 'screen': 4225, 'yellow': 5586, 'firewire': 1870, 'logo': 2894, 'cable': 734, 'plug': 3628, 'desktop': 1346, 'pie': 3580, 'dirty': 1404, 'image': 2458, 'powerbook': 3675, '25gb': 36, 'installing': 2555, 'apps': 300, 'reversed': 4048, 'installers': 2554, 'appleworks': 287, 'tech': 4884, 'gigabytes': 2098, 'common': 994, 'removing': 3992, 'hd': 2278, 'ide': 2443, 'posting': 3667, 'boingboing': 595, 'cory': 1112, 'doctorow': 1440, 'campus': 754, 'internal': 2574, 'research': 4012, 'redmond': 3935, 'event': 1672, 'books': 607, 'sale': 4159, 'sign': 4403, 'ya': 5573, '7pm': 58, 'walker': 5351, 'ames': 211, 'kane': 2681, 'hall': 2223, 'info': 2526, 'kim': 2703, 'ricketts': 4057, '206': 27, '523': 52, '3458': 42, 'obsessive': 3338, 'compulsive': 1018, 'compared': 1001, 'monica': 3143, 'former': 1962, 'sitcom': 4428, 'agree': 165, 'organized': 3403, 'slightest': 4466, 'crooked': 1177, 'mismatched': 3112, 'tweaking': 5141, 'style': 4738, 'behavior': 491, 'worried': 5538, 'appearance': 279, 'lecture': 2804, 'colored': 971, 'tip': 5009, 'rewrite': 4053, 'matched': 3015, 'pages': 3449, 'compulsiveness': 1019, 'upsetting': 5231, 'erk': 1651, 'improperly': 2486, 'placed': 3595, 'blocks': 570, 'lot': 2920, 'routine': 4112, 'surprises': 4792, 'lap': 2754, 'absence': 76, 'screeching': 4224, 'halt': 2226, 'chunk': 891, 'extremely': 1742, 'controlling': 1080, 'partner': 3480, 'luckily': 2933, 'lifted': 2843, 'choices': 879, 'adult': 131, 'situations': 4434, 'teenage': 4889, 'humiliation': 2423, 'lifestyle': 2839, 'hmmm': 2361, 'fucking': 2022, 'organizing': 3404, 'yahoo': 5576, 'deleting': 1314, 'ex': 1686, 'listed': 2868, 'rarely': 3870, 'related': 3965, 'honestly': 2377, 'occupies': 3344, 'uneventful': 5179, 'plane': 3600, 'ride': 4060, 'memorable': 3055, 'experiences': 1719, 'rate': 3872, 'hobby': 2362, 'lol': 2895, 'entertained': 1631, 'sports': 4603, 'activities': 109, 'arts': 339, 'bores': 614, 'mainly': 2964, 'artistic': 337, 'athletic': 370, 'unmotivated': 5197, 'picture': 3579, 'camera': 753, 'equipment': 1646, 'captures': 781, 'shutter': 4390, 'angle': 231, 'eyesight': 1747, 'anyways': 265, 'photos': 3568, 'kathy': 2683, 'vnv': 5322, 'nation': 3228, 'remix': 3988, 'apoptygma': 273, 'berserk': 512, 'bearable': 459, 'priority': 3730, 'steak': 4655, 'sack': 4142, 'shot': 4370, 'hubbub': 2413, 'mill': 3090, 'bloggers': 573, 'treated': 5095, 'journalists': 2657, 'media': 3038, 'sport': 4602, 'speech': 4586, 'drivel': 1502, 'readership': 3898, 'qualify': 3811, 'journalist': 2656, 'cablecast': 735, 'rules': 4128, 'sorts': 4559, 'blogs': 575, 'democratic': 1323, 'convention': 1083, 'impressed': 2484, 'chairman': 834, 'border': 611, 'libel': 2830, 'suit': 4764, 'chief': 871, 'copy': 1097, 'ap': 266, 'manual': 2990, 'claiming': 909, 'yay': 5578, 'tom': 5023, 'dick': 1381, 'festooned': 1823, 'journlists': 2661, 'breaks': 645, 'local': 2887, 'dipping': 1398, 'toe': 5018, 'prone': 3763, 'tune': 5132, 'updated': 5221, 'voting': 5329, 'george': 2088, 'bush': 716, 'clinton': 936, 'al': 174, 'gore': 2147, 'political': 3644, 'career': 786, 'produce': 3744, 'grocery': 2186, 'banannas': 435, 'libral': 2831, 'republican': 4007, 'wing': 5490, 'democrat': 1322, 'vote': 5328, 'candidate': 762, 'election': 1573, 'shebang': 4342, 'sendups': 4276, 'platform': 3611, 'runner': 4132, 'ups': 5229, 'swayed': 4806, 'gwb': 2212, 'wes': 5431, 'clark': 913, 'howard': 2408, 'dean': 1266, 'kerry': 2690, 'floated': 1910, 'treading': 5092, 'likes': 2852, 'sharpton': 4339, 'lead': 2787, 'ronald': 4099, 'reagans': 3901, 'ballot': 432, 'gladly': 2110, 'eventhough': 1673, 'viable': 5294, 'ross': 4104, 'perot': 3547, 'lala': 2739, 'updating': 5223, 'scanner': 4195, 'photoshop': 3569, 'engaged': 1617, 'yah': 5575, 'addition': 120, 'metahari': 3076, 'ooh': 3382, 'bbs': 456, 'soo': 4546, 'persay': 3548, 'dreamcast': 1486, 'backgrounds': 419, 'plaster': 3608, 'jet': 2639, 'gals': 2053, 'celebrating': 822, 'quixotica': 3835, 'boo': 604, 'gallery': 2051, 'eventually': 1675, 'quixotic': 3834, 'redesign': 3934, 'kids': 2696, 'apologize': 272, 'quix': 3833, 'rotozip': 4105, 'employed': 1598, 'stor': 4689, 'troopers': 5114, 'whew': 5448, 'practice': 3677, 'lj': 2880, 'pics': 3578, 'hunt': 2428, 'artz': 341, 'sketch': 4440, 'experiment': 1720, 'background': 418, 'ease': 1546, 'tons': 5030, 'agribiz': 168, 'semester': 4272, 'fanart': 1775, 'neverending': 3262, 'jaenwhufs': 2621, 'cheers': 863, 'classes': 915, 'galleries': 2050, 'collaborative': 966, 'shojo': 4363, 'manga': 2981, 'studio': 4732, 'thesis': 4945, 'antithesis': 254, 'tabloid': 4830, 'roulette': 4109, 'brand': 635, 'mohna': 3133, 'labor': 2729, 'apartments': 269, 'pace': 3442, 'steaming': 4657, 'comics': 983, 'weekly': 5418, 'fantastic': 1780, 'misc': 3108, 'sketched': 4442, 'inked': 2536, 'canvas': 769, 'antithezine': 255, 'printers': 3728, 'zine': 5605, 'staying': 4652, 'naps': 3226, 'shifts': 4353, 'otaku': 3411, 'video': 5298, 'http': 2412, 'www': 5570, 'acen': 95, 'artist': 336, 'printing': 3729, 'kicks': 2694, 'butt': 723, 'packing': 3445, 'anime': 241, 'central': 826, 'zines': 5606, 'stickers': 4666, 'elf': 1578, 'pinup': 3590, 'devin': 1370, 'grayson': 2173, 'splash': 4599, 'prolly': 3758, 'batman': 451, 'ivy': 2618, 'robin': 4085, 'tim': 5003, 'drake': 1478, 'civvies': 906, 'panel': 3463, 'sample': 4164, 'thinks': 4956, 'loser': 2916, 'published': 3787, 'cuts': 1217, 'flaws': 1894, 'samples': 4165, 'minimum': 3099, 'reckoned': 3928, 'pencils': 3524, 'outlaying': 3422, 'sending': 4275, 'invitation': 2588, 'bob': 593, 'schreck': 4210, 'added': 117, 'obvious': 3341, 'profile': 3749, 'itunes': 2617, 'visa': 5313, 'card': 783, 'annette': 243, 'rebuild': 3922, 'tape': 4857, 'collection': 967, 'downloads': 1471, 'cancelling': 761, 'debbie': 1271, 'gibson': 2096, 'songs': 4544, 'rich': 4056, 'paraphrase': 3470, 'ain': 172, 'asks': 350, 'putting': 3809, 'touches': 5050, 'nanas': 3223, 'custard': 1214, 'toxic': 5062, 'figures': 1844, 'scanned': 4194, 'concentrate': 1023, 'productive': 3747, 'described': 1336, 'peculiar': 3518, 'uk': 5154, 'deleted': 1313, 'kazaa': 2684, 'quality': 3812, 'legitimately': 2812, 'rufus': 4122, 'wainright': 5342, 'versions': 5288, 'imixs': 2468, 'mix': 3124, 'bints': 534, 'sadly': 4150, 'unsuccessfully': 5208, 'sketchs': 4444, 'colour': 974, 'mummy': 3202, 'episode': 1642, 'abandoned': 68, 'tar': 4861, 'broom': 678, 'brush': 686, 'unproductive': 5199, 'sketches': 4443, 'explanation': 1724, '2000ad': 22, 'centre': 827, 'dredd': 1492, 'painted': 3457, 'sheen': 4344, 'anthology': 252, 'contrasts': 1076, 'waaay': 5336, 'industry': 2511, 'printed': 3727, 'duotone': 1523, 'spot': 4604, 'spurned': 4612, 'gorgeous': 2148, 'fábio': 2042, 'gabriel': 2043, 'james': 2624, 'ape': 270, 'appeared': 280, 'greyscale': 2182, 'arthur': 332, 'suggestion': 4762, 'print': 3726, 'uploading': 5226, 'cus': 1212, 'dunno': 1522, 'britain': 674, 'geddit': 2075, 'charity': 852, 'deck': 1287, 'cards': 784, 'herb': 2322, 'trimpe': 5105, 'captain': 777, 'apparently': 276, 'lineart': 2858, 'dom': 1450, 'reardon': 3914, 'caballistics': 732, 'commer': 990, 'diamond': 1378, 'awards': 405, 'rubbish': 4117, 'justic': 2674, 'assure': 365, 'whoever': 5460, 'sixth': 4436, 'newcomer': 3265, 'ignore': 2452, 'andy': 226, 'diggle': 1391, 'simon': 4413, 'spurrier': 4613, 'fourth': 1980, 'newcomers': 3266, 'cook': 1089, 'jock': 2646, 'row': 4113, 'tadaa': 4834, 'attending': 378, 'porno': 3657, 'environment': 1638, 'desk': 1345, 'messy': 3074, 'everyones': 1680, 'a3': 65, 'kyocera': 2727, 'a4': 66, 'laser': 2762, 'duplex': 1524, 'intend': 2564, 'tft': 4920, 'spare': 4572, 'cds': 819, 'canon': 766, 'scan': 4193, 'notable': 3305, 'wally': 5359, 'wood': 5526, 'panels': 3464, 'commandments': 987, 'wallplaner': 5357, 'alphonse': 194, 'mucha': 3199, 'calendar': 743, 'junk': 2672, 'accumulator': 92, 'poise': 3640, 'lamp': 2744, 'bulb': 701, 'giant': 2095, 'robots': 4086, 'essentially': 1662, 'flooks': 1912, 'feaure': 1803, 'respectivly': 4031, 'goofy': 2145, 'aged': 160, 'bloke': 576, 'steve': 4664, 'dillon': 1394, 'garth': 2062, 'ennis': 1625, 'malachy': 2970, 'coney': 1031, 'belfast': 495, 'nib': 3272, 'indian': 2506, 'scratchy': 4219, 'sci': 4211, 'fi': 1830, 'wire': 5496, 'channel': 845, 'ray': 3882, 'bradbury': 633, 'thunder': 4987, 'budget': 694, 'massive': 3012, 'shop': 4365, 'yonks': 5592, 'bristol': 673, 'nipped': 3287, 'reference': 3941, 'gawping': 2073, 'selection': 4267, 'oddly': 3350, 'phoned': 3565, 'garage': 2060, 'mot': 3168, 'exam': 1689, 'phoning': 3567, 'arse': 329, 'south': 4567, 'park': 3472, 'supermarionation': 4776, 'team': 4878, 'nbcsandiego': 3233, 'officials': 3362, 'warn': 5374, 'residents': 4018, 'bathtub': 450, 'cheese': 864, 'hat': 2265, 'mate': 3016, 'wanna': 5364, 'rapidly': 3867, 'diary': 1380, 'nothin': 3310, 'van': 5267, 'fools': 1942, 'horses': 2396, 'robbie': 4083, 'morrison': 3164, 'featuring': 1802, 'mister': 3120, 'freeze': 1993, 'pic': 3573, 'preacher': 3683, 'breedlove': 652, 'videos': 5299, 'dvds': 1529, 'contravene': 1077, 'pollution': 3648, 'laws': 2778, 'bung': 707, 'bins': 533, 'assumption': 363, 'raid': 3846, 'offensive': 3354, 'rev': 4042, 'playboy': 3613, 'realised': 3904, 'nip': 3286, 'significance': 4404, 'involves': 2593, 'computers': 1021, 'jacking': 2619, 'tendency': 4902, 'tightrope': 4999, 'analogy': 222, 'stretching': 4713, 'anyhue': 260, '12th': 5, 'holidays': 2370, 'celebrated': 821, 'belief': 496, 'system': 4828, 'plussed': 3632, 'ni': 3271, 'primary': 3724, 'monsters': 3146, 'meets': 3044, 'zombie': 5607, 'monkey': 3144, 'defence': 1300, 'secretary': 4247, 'alucard': 201, 'chaney': 840, 'werewolf': 5430, 'buying': 727, 'flat': 1892, 'kitchen': 2714, 'inaccessible': 2489, 'demo': 1321, 'tiger': 4997, 'gif': 2097, 'smart': 4479, 'folders': 1930, 'searches': 4234, '160gb': 11, 'dashboard': 1246, 'loads': 2883, 'widgets': 5475, 'accessible': 87, 'calculator': 742, 'cooler': 1092, 'mouse': 3185, 'widget': 5474, 'replacement': 4000}\n",
            "shape:  (224, 5609)\n",
            "vectors:  [[0 0 0 ... 0 0 0]\n",
            " [0 0 0 ... 0 0 0]\n",
            " [0 0 0 ... 0 0 0]\n",
            " ...\n",
            " [0 0 0 ... 0 0 0]\n",
            " [0 0 0 ... 0 1 0]\n",
            " [0 0 0 ... 0 0 0]]\n"
          ]
        }
      ]
    },
    {
      "cell_type": "code",
      "source": [
        "X_train,X_test,y_train,y_test = train_test_split(X, ylabel, train_size=0.10, random_state=42)\n",
        "                                            "
      ],
      "metadata": {
        "id": "ZprsY4cyJeMn"
      },
      "execution_count": 129,
      "outputs": []
    },
    {
      "cell_type": "code",
      "source": [
        "X_train.shape"
      ],
      "metadata": {
        "colab": {
          "base_uri": "https://localhost:8080/"
        },
        "id": "7d6wEyMak8iW",
        "outputId": "64c7847a-2735-436d-b602-a3499238a3f4"
      },
      "execution_count": 130,
      "outputs": [
        {
          "output_type": "execute_result",
          "data": {
            "text/plain": [
              "(22, 5609)"
            ]
          },
          "metadata": {},
          "execution_count": 130
        }
      ]
    },
    {
      "cell_type": "markdown",
      "source": [
        "Tests"
      ],
      "metadata": {
        "id": "T1O2PUGQTv7-"
      }
    },
    {
      "cell_type": "code",
      "source": [
        "clf = MultinomialNB() #classification\n",
        "clf.fit(X_train , y_train)"
      ],
      "metadata": {
        "colab": {
          "base_uri": "https://localhost:8080/"
        },
        "id": "XR44rptElXpt",
        "outputId": "63d757be-fe86-4420-8619-3fd587f41292"
      },
      "execution_count": 131,
      "outputs": [
        {
          "output_type": "execute_result",
          "data": {
            "text/plain": [
              "MultinomialNB()"
            ]
          },
          "metadata": {},
          "execution_count": 131
        }
      ]
    },
    {
      "cell_type": "code",
      "source": [
        "y_pred = clf.predict(X_test)\n",
        "print(accuracy_score(y_test,clf.predict(X_test)))\n",
        "print(classification_report(y_test,y_pred))"
      ],
      "metadata": {
        "colab": {
          "base_uri": "https://localhost:8080/"
        },
        "id": "xyRsfgK4mZd-",
        "outputId": "847556bd-5f54-47bb-c4cd-362e8819127b"
      },
      "execution_count": 132,
      "outputs": [
        {
          "output_type": "stream",
          "name": "stdout",
          "text": [
            "0.4405940594059406\n",
            "                                          precision    recall  f1-score   support\n",
            "\n",
            "29253.female.26.HumanResources.Cancer.xm       0.00      0.00      0.00         3\n",
            "         32894.female.26.indUnk.Aries.xm       0.81      0.64      0.71       113\n",
            "          37626.male.24.indUnk.Gemini.xm       0.15      0.94      0.26        18\n",
            "       40964.female.23.RealEstate.Leo.xm       0.00      0.00      0.00         5\n",
            "      43781.female.25.Education.Aries.xm       0.00      0.00      0.00         6\n",
            " 48638.male.36.Technology.Sagittarius.xm       0.00      0.00      0.00        12\n",
            "   61176.male.33.Technology.Capricorn.xm       0.00      0.00      0.00         3\n",
            "     66895.female.25.Technology.Virgo.xm       0.00      0.00      0.00        16\n",
            "         67459.male.34.Arts.Capricorn.xm       0.00      0.00      0.00        24\n",
            "             854.male.25.indUnk.Virgo.xm       0.00      0.00      0.00         2\n",
            "\n",
            "                                accuracy                           0.44       202\n",
            "                               macro avg       0.10      0.16      0.10       202\n",
            "                            weighted avg       0.47      0.44      0.42       202\n",
            "\n"
          ]
        },
        {
          "output_type": "stream",
          "name": "stderr",
          "text": [
            "/usr/local/lib/python3.7/dist-packages/sklearn/metrics/_classification.py:1318: UndefinedMetricWarning: Precision and F-score are ill-defined and being set to 0.0 in labels with no predicted samples. Use `zero_division` parameter to control this behavior.\n",
            "  _warn_prf(average, modifier, msg_start, len(result))\n",
            "/usr/local/lib/python3.7/dist-packages/sklearn/metrics/_classification.py:1318: UndefinedMetricWarning: Precision and F-score are ill-defined and being set to 0.0 in labels with no predicted samples. Use `zero_division` parameter to control this behavior.\n",
            "  _warn_prf(average, modifier, msg_start, len(result))\n",
            "/usr/local/lib/python3.7/dist-packages/sklearn/metrics/_classification.py:1318: UndefinedMetricWarning: Precision and F-score are ill-defined and being set to 0.0 in labels with no predicted samples. Use `zero_division` parameter to control this behavior.\n",
            "  _warn_prf(average, modifier, msg_start, len(result))\n"
          ]
        }
      ]
    },
    {
      "cell_type": "code",
      "source": [
        "logit = LogisticRegression() #logistic regression\n",
        "logit.fit(X_train,y_train)\n"
      ],
      "metadata": {
        "colab": {
          "base_uri": "https://localhost:8080/"
        },
        "id": "R35CV-LipdyG",
        "outputId": "fd170253-99f0-4bbd-813f-73b7ef133f65"
      },
      "execution_count": 133,
      "outputs": [
        {
          "output_type": "stream",
          "name": "stderr",
          "text": [
            "/usr/local/lib/python3.7/dist-packages/sklearn/linear_model/_logistic.py:818: ConvergenceWarning: lbfgs failed to converge (status=1):\n",
            "STOP: TOTAL NO. of ITERATIONS REACHED LIMIT.\n",
            "\n",
            "Increase the number of iterations (max_iter) or scale the data as shown in:\n",
            "    https://scikit-learn.org/stable/modules/preprocessing.html\n",
            "Please also refer to the documentation for alternative solver options:\n",
            "    https://scikit-learn.org/stable/modules/linear_model.html#logistic-regression\n",
            "  extra_warning_msg=_LOGISTIC_SOLVER_CONVERGENCE_MSG,\n"
          ]
        },
        {
          "output_type": "execute_result",
          "data": {
            "text/plain": [
              "LogisticRegression()"
            ]
          },
          "metadata": {},
          "execution_count": 133
        }
      ]
    },
    {
      "cell_type": "code",
      "source": [
        "accuracy_score(y_test,logit.predict(X_test))"
      ],
      "metadata": {
        "colab": {
          "base_uri": "https://localhost:8080/"
        },
        "id": "5sCYypeYRMED",
        "outputId": "2ee6da23-e262-491a-d9f9-e6453e41ed53"
      },
      "execution_count": 134,
      "outputs": [
        {
          "output_type": "execute_result",
          "data": {
            "text/plain": [
              "0.594059405940594"
            ]
          },
          "metadata": {},
          "execution_count": 134
        }
      ]
    },
    {
      "cell_type": "code",
      "source": [
        "f26hrcancer = [\"Billy Zane  and Jaoquin Phoenix are half-brothers.  Their father may or may not be  the  Lazarus (he could just be  a  Lazarus- type ), this mystical paternity has granted them the ability to raise the recently deceased from the dead.    Do they have a mission?  Yes, to find out the fate of their father and, if he still lives, kill him and set him free from the bonds of the Earth because for every year the Dad is alive, a single soul must take his place in the afterlife.  A soul that would have otherwise continued to live.  Oh, the angst!  Are the brothers raising the right people from the dead? Or are they making things worse?  Would they be better off doing nothing, or not bringing people back and just killing Dad?  How do they find all of this out?  Does a little man who lives in a cave and wears a white robe with an equally white beard tell them?  No!  Their mothers belonged to a cult - both died in childbirth, of course - and they were raised by a woman who amounts to the cult's den mother (because even cults need someone to clean the bathrooms).    Is there a conflict between the brothers? Of course!  Jaoquin's character is afraid of what will be revealed and would rather turn back than continue on and Billy's character drags him forward by sheer inertia.    But who will play Dad?  That is the question.  \"]\n",
        "vect1 = vectorizer.transform(f26hrcancer).toarray()\n",
        "\n",
        "m25indvirgo = [\"For someone new to London (or just visiting as I have in the past) the London Underground is a saviour (despite being hot, crowded and late). Get a travelcard and you can just from one place to another without any problem at all.    But the problem with navigating London via the tube is that it gives a totally skewed impression of the Geography of the place. People get the tube when walking would have taken half the time, if only they knew where they were going. For example, in the past I've gone from Tottenham Court Road to Covent Garden by getting the Northern line to Leicester Square and then changing on to the Picadilly line. Now, that probably took about 25 minutes, but if I'd just walkd I could have done it in 15. Ish.         A couple of weeks ago I bought an A-Z which has put a few things into perspective, but for the most part I'm still stuck on tube-geography. Yesterday I came across a  urlLink handy little web page  which gives a number of tube maps, including a  urlLink geographically correct map of the underground .  Nice to see, but doesn't really give you an impression of how you can get from place to another.    But also included on that page is a PDF of the  urlLink geographical map superimprosed onto a street map ! It shows landmarks, train stations and railway lines, tube stop and lines, all in the correct locations, so now you really can see just how quick it would have been to walk instead of fighting the commute! \"]\n",
        "vect2 = vectorizer.transform(m25indvirgo).toarray()\n",
        "\n",
        "m36techsagi =[\"Microsoft, it's long been known, has the digital music market (refined and defined by Apple) in its sights. Looks like they're getting close enough to the initiation of their plans that they're willing to start talking trash: \"]\n",
        "vect3 = vectorizer.transform(m36techsagi).toarray()\n"
      ],
      "metadata": {
        "id": "4LUXIqX1p5Ul"
      },
      "execution_count": 135,
      "outputs": []
    },
    {
      "cell_type": "code",
      "source": [
        "predict_vect=vect1"
      ],
      "metadata": {
        "id": "kLrFfvriqu3v"
      },
      "execution_count": 136,
      "outputs": []
    },
    {
      "cell_type": "code",
      "source": [
        "print(clf.predict(predict_vect))"
      ],
      "metadata": {
        "colab": {
          "base_uri": "https://localhost:8080/"
        },
        "id": "aR_MXWEYQTLC",
        "outputId": "bfd04160-146d-4d6a-8e95-9438c12e2164"
      },
      "execution_count": 137,
      "outputs": [
        {
          "output_type": "stream",
          "name": "stdout",
          "text": [
            "['37626.male.24.indUnk.Gemini.xm']\n"
          ]
        }
      ]
    },
    {
      "cell_type": "code",
      "source": [
        "print(logit.predict(predict_vect))"
      ],
      "metadata": {
        "colab": {
          "base_uri": "https://localhost:8080/"
        },
        "id": "76Xx2i6LQcGm",
        "outputId": "bff000b1-512b-44bf-8f45-6ad95df58e40"
      },
      "execution_count": 138,
      "outputs": [
        {
          "output_type": "execute_result",
          "data": {
            "text/plain": [
              "array(['32894.female.26.indUnk.Aries.xm'], dtype=object)"
            ]
          },
          "metadata": {},
          "execution_count": 138
        }
      ]
    }
  ]
}